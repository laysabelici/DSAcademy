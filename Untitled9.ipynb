{
  "nbformat": 4,
  "nbformat_minor": 0,
  "metadata": {
    "colab": {
      "provenance": [],
      "authorship_tag": "ABX9TyPMl9/1XDAkQcVOWoFppCK3",
      "include_colab_link": true
    },
    "kernelspec": {
      "name": "python3",
      "display_name": "Python 3"
    },
    "language_info": {
      "name": "python"
    }
  },
  "cells": [
    {
      "cell_type": "markdown",
      "metadata": {
        "id": "view-in-github",
        "colab_type": "text"
      },
      "source": [
        "<a href=\"https://colab.research.google.com/github/laysabelici/DSAcademy/blob/main/Untitled9.ipynb\" target=\"_parent\"><img src=\"https://colab.research.google.com/assets/colab-badge.svg\" alt=\"Open In Colab\"/></a>"
      ]
    },
    {
      "cell_type": "markdown",
      "source": [
        "*   **append(elemento)**: Adiciona um elemento ao final da lista.\n",
        "*   **extend(iterável)**: Adiciona os elementos de um iterável (outra lista, por exemplo) ao final da lista.\n",
        "*   **insert(índice, elemento)**: Insere um elemento em uma posição específica da lista.\n",
        "*   **remove(elemento)**: Remove a primeira ocorrência de um elemento da lista.\n",
        "*   **pop([índice])**: Remove e retorna o elemento de uma posição específica da lista. Se nenhum índice for fornecido, remove e retorna o último elemento.\n",
        "*   **index(elemento)**: Retorna o índice da primeira ocorrência de um elemento na lista.\n",
        "*   **count(elemento)**: Retorna o número de ocorrências de um elemento na lista.\n",
        "*   **sort()**: Ordena a lista em ordem crescente.\n",
        "*   **copy()**: Retorna uma cópia superficial da lista.\n",
        "*   **len()**:retorna o tamanho (o número de elementos) de uma lista."
      ],
      "metadata": {
        "id": "1KPhCqkbYV1Y"
      }
    },
    {
      "cell_type": "code",
      "execution_count": 1,
      "metadata": {
        "colab": {
          "base_uri": "https://localhost:8080/"
        },
        "id": "QMNHbGpHYEPQ",
        "outputId": "862dc525-f5d4-4243-860e-75b9f347d4f7"
      },
      "outputs": [
        {
          "output_type": "stream",
          "name": "stdout",
          "text": [
            "[1, 2, 3, 4]\n"
          ]
        }
      ],
      "source": [
        "#append(elemento): Adiciona um elemento ao final da lista.\n",
        "lista = [1, 2, 3]\n",
        "lista.append(4)\n",
        "print(lista)  # Output: [1, 2, 3, 4]"
      ]
    },
    {
      "cell_type": "code",
      "source": [
        "#extend(iterável): Adiciona os elementos de um iterável (outra lista, por exemplo) ao final da lista.\n",
        "lista1 = [1, 2, 3]\n",
        "lista2 = [4, 5, 6]\n",
        "lista1.extend(lista2)\n",
        "print(lista1)  # Output: [1, 2, 3, 4, 5, 6]"
      ],
      "metadata": {
        "colab": {
          "base_uri": "https://localhost:8080/"
        },
        "id": "6jWNu0uDZVLx",
        "outputId": "10ef363f-9119-452e-c468-1c5177a111ff"
      },
      "execution_count": 2,
      "outputs": [
        {
          "output_type": "stream",
          "name": "stdout",
          "text": [
            "[1, 2, 3, 4, 5, 6]\n"
          ]
        }
      ]
    },
    {
      "cell_type": "code",
      "source": [
        "#insert(índice, elemento): Insere um elemento em uma posição específica da lista.\n",
        "lista = [1, 2, 3]\n",
        "lista.insert(1, 10)\n",
        "print(lista)  # Output: [1, 10, 2, 3]"
      ],
      "metadata": {
        "colab": {
          "base_uri": "https://localhost:8080/"
        },
        "id": "T8_dXguVZdcy",
        "outputId": "9785ca54-e119-42c5-ff55-9b444e5b9808"
      },
      "execution_count": 4,
      "outputs": [
        {
          "output_type": "stream",
          "name": "stdout",
          "text": [
            "[1, 10, 2, 3]\n"
          ]
        }
      ]
    },
    {
      "cell_type": "code",
      "source": [
        "#remove(elemento): Remove a primeira ocorrência de um elemento da lista.\n",
        "lista = [1, 2, 3, 2]\n",
        "lista.remove(2)\n",
        "print(lista)  # Output: [1, 3, 2]"
      ],
      "metadata": {
        "colab": {
          "base_uri": "https://localhost:8080/"
        },
        "id": "o43ShNXjZoiM",
        "outputId": "dfbde5c2-fb1c-4c70-bd7d-b394dea20be4"
      },
      "execution_count": 3,
      "outputs": [
        {
          "output_type": "stream",
          "name": "stdout",
          "text": [
            "[1, 3, 2]\n"
          ]
        }
      ]
    },
    {
      "cell_type": "code",
      "source": [
        "#pop([índice]): Remove e retorna o elemento de uma posição específica da lista. Se nenhum índice for fornecido, remove e retorna o último elemento.\n",
        "lista = [1, 2, 3]\n",
        "elemento = lista.pop(1)\n",
        "print(elemento)  # Output: 2\n",
        "print(lista)    # Output: [1, 3]\n"
      ],
      "metadata": {
        "colab": {
          "base_uri": "https://localhost:8080/"
        },
        "id": "ZAnyBpmmZtUR",
        "outputId": "bc0e0530-587d-41b0-c4c8-af1bc5ec1013"
      },
      "execution_count": 5,
      "outputs": [
        {
          "output_type": "stream",
          "name": "stdout",
          "text": [
            "2\n",
            "[1, 3]\n"
          ]
        }
      ]
    },
    {
      "cell_type": "code",
      "source": [
        "#index(elemento): Retorna o índice da primeira ocorrência de um elemento na lista.\n",
        "lista = [1, 2, 3, 2]\n",
        "indice = lista.index(2)\n",
        "print(indice)  # Output: 1\n"
      ],
      "metadata": {
        "colab": {
          "base_uri": "https://localhost:8080/"
        },
        "id": "BC8E_pYJZxqJ",
        "outputId": "7e19bf7d-e29b-44a1-de91-5efb9efb901c"
      },
      "execution_count": 6,
      "outputs": [
        {
          "output_type": "stream",
          "name": "stdout",
          "text": [
            "1\n"
          ]
        }
      ]
    },
    {
      "cell_type": "code",
      "source": [
        "#count(elemento): Retorna o número de ocorrências de um elemento na lista.\n",
        "lista = [1, 2, 3, 2]\n",
        "contador = lista.count(2)\n",
        "print(contador)  # Output: 2\n"
      ],
      "metadata": {
        "id": "F7UXw0Z4Z2h0"
      },
      "execution_count": null,
      "outputs": []
    },
    {
      "cell_type": "code",
      "source": [
        "#sort(): Ordena a lista em ordem crescente.\n",
        "lista = [3, 1, 2]\n",
        "lista.sort()\n",
        "print(lista)  # Output: [1, 2, 3]"
      ],
      "metadata": {
        "colab": {
          "base_uri": "https://localhost:8080/"
        },
        "id": "NtyYH68rZ6HY",
        "outputId": "44f71f5d-9fd5-47d5-cdc4-0ec18231acf7"
      },
      "execution_count": 7,
      "outputs": [
        {
          "output_type": "stream",
          "name": "stdout",
          "text": [
            "[1, 2, 3]\n"
          ]
        }
      ]
    },
    {
      "cell_type": "code",
      "source": [
        "#reverse(): Inverte a ordem dos elementos da lista.\n",
        "lista = [1, 2, 3]\n",
        "lista.reverse()\n",
        "print(lista)  # Output: [3, 2, 1]"
      ],
      "metadata": {
        "colab": {
          "base_uri": "https://localhost:8080/"
        },
        "id": "RyCXAPrmZ-Uh",
        "outputId": "1548cb77-c19a-4890-879c-f9a691780f66"
      },
      "execution_count": 8,
      "outputs": [
        {
          "output_type": "stream",
          "name": "stdout",
          "text": [
            "[3, 2, 1]\n"
          ]
        }
      ]
    },
    {
      "cell_type": "code",
      "source": [
        "#copy(): Retorna uma cópia superficial da lista.\n",
        "lista1 = [1, 2, 3]\n",
        "lista2 = lista1.copy()\n",
        "print(lista2)  # Output: [1, 2,"
      ],
      "metadata": {
        "colab": {
          "base_uri": "https://localhost:8080/"
        },
        "id": "IlNFoInlaCXF",
        "outputId": "07127fd8-4d23-4b44-abde-aedb98d92586"
      },
      "execution_count": 9,
      "outputs": [
        {
          "output_type": "stream",
          "name": "stdout",
          "text": [
            "[1, 2, 3]\n"
          ]
        }
      ]
    },
    {
      "cell_type": "code",
      "source": [
        "#len() retorna o tamanho (o número de elementos) de uma lista. Ele pode ser utilizado para obter o comprimento de uma lista.\n",
        "lista = [1, 2, 3, 4, 5]\n",
        "tamanho = len(lista)\n",
        "print(tamanho)  # Output: 5"
      ],
      "metadata": {
        "id": "HtO8Sf3IaFjh"
      },
      "execution_count": null,
      "outputs": []
    },
    {
      "cell_type": "markdown",
      "source": [
        "Crie uma lista que tenha todos os números de 0 a 100, usando o WHILE."
      ],
      "metadata": {
        "id": "Bw0jGlV4aReZ"
      }
    },
    {
      "cell_type": "code",
      "source": [
        "lista100 = []\n",
        "n = 0\n",
        "i=0\n",
        "while i<=100:\n",
        "  if(n<=100):\n",
        "    lista100.append(n)\n",
        "  n+=1\n",
        "  i+=1\n",
        "print(lista100)"
      ],
      "metadata": {
        "colab": {
          "base_uri": "https://localhost:8080/"
        },
        "id": "UGY2SwMoabJX",
        "outputId": "5f18ff56-1de9-475b-c33f-9cf050e353b2"
      },
      "execution_count": 11,
      "outputs": [
        {
          "output_type": "stream",
          "name": "stdout",
          "text": [
            "[0, 1, 2, 3, 4, 5, 6, 7, 8, 9, 10, 11, 12, 13, 14, 15, 16, 17, 18, 19, 20, 21, 22, 23, 24, 25, 26, 27, 28, 29, 30, 31, 32, 33, 34, 35, 36, 37, 38, 39, 40, 41, 42, 43, 44, 45, 46, 47, 48, 49, 50, 51, 52, 53, 54, 55, 56, 57, 58, 59, 60, 61, 62, 63, 64, 65, 66, 67, 68, 69, 70, 71, 72, 73, 74, 75, 76, 77, 78, 79, 80, 81, 82, 83, 84, 85, 86, 87, 88, 89, 90, 91, 92, 93, 94, 95, 96, 97, 98, 99, 100]\n"
          ]
        }
      ]
    },
    {
      "cell_type": "markdown",
      "source": [
        "Crie uma lista que tenha todos os números múltiplos de 7, de 0 a 100, usando o WHILE."
      ],
      "metadata": {
        "id": "HHFJEt0VbAJf"
      }
    },
    {
      "cell_type": "code",
      "source": [
        "lista7 = []\n",
        "n = 0\n",
        "i = 0\n",
        "\n",
        "while i<=100:\n",
        "  if(n%7)==0:\n",
        "    lista7.append(n)\n",
        "  n+=1\n",
        "  i+=1\n",
        "\n",
        "print(lista7)"
      ],
      "metadata": {
        "colab": {
          "base_uri": "https://localhost:8080/"
        },
        "id": "gM0qlYIZa1At",
        "outputId": "274273dc-f741-4c7c-8869-9ba7d9120331"
      },
      "execution_count": 12,
      "outputs": [
        {
          "output_type": "stream",
          "name": "stdout",
          "text": [
            "[0, 7, 14, 21, 28, 35, 42, 49, 56, 63, 70, 77, 84, 91, 98]\n"
          ]
        }
      ]
    },
    {
      "cell_type": "markdown",
      "source": [
        "Com o WHILE, crie uma lista que contenha os números múltiplos de 10 no intervalo de 100 a 300. Depois, peça dois números para o usuário e imprima na tela os elementos da lista cujos índices vão do primeiro ao segundo número digitados pelo usuário. Caso o usuário tente entrar com um intervalo maior do que o tamanho da lista (por exemplo, caso o usuário digite 15 e 25 para a nossa lista contendo apenas 20 elementos) ou caso o usuário entre com o primeiro número maior do que o segundo, digite \"Escolhas inválidas\"."
      ],
      "metadata": {
        "id": "H4anNuvvbZ2x"
      }
    },
    {
      "cell_type": "code",
      "source": [
        "lista10 = []\n",
        "n = 100\n",
        "i = 100\n",
        "\n",
        "while i<=300:\n",
        "  if(n%10)==0:\n",
        "    lista10.append(n)\n",
        "  n+=1\n",
        "  i+=1\n",
        "\n",
        "indice1 = int(input('Insira um número: '))\n",
        "indice2 = int(input('Insira um número: '))\n",
        "\n",
        "if(indice1<indice2):\n",
        "  print(lista10[indice1:indice2])\n",
        "else:\n",
        "  print('Escolhas inválidas.')"
      ],
      "metadata": {
        "colab": {
          "base_uri": "https://localhost:8080/"
        },
        "id": "wMldpiIIbUxV",
        "outputId": "6763bcb4-19a6-4aee-89c2-3d7008cb0489"
      },
      "execution_count": 15,
      "outputs": [
        {
          "output_type": "stream",
          "name": "stdout",
          "text": [
            "Insira um número: 3\n",
            "Insira um número: 7\n",
            "[130, 140, 150, 160]\n"
          ]
        }
      ]
    },
    {
      "cell_type": "markdown",
      "source": [
        "Inclua no programa do exercício anterior a possibilidade de o usuário entrar com o par de números desejados quantas vezes quiser, até digitar -1 para sair."
      ],
      "metadata": {
        "id": "IuHVf6NFdByG"
      }
    },
    {
      "cell_type": "code",
      "source": [
        "lista10 = []\n",
        "n = 100\n",
        "\n",
        "while n <= 300:\n",
        "    if n % 10 == 0:\n",
        "        lista10.append(n)\n",
        "    n += 1\n",
        "\n",
        "sair = 0\n",
        "\n",
        "while sair != -1:\n",
        "    indice1 = int(input('Insira o primeiro número: '))\n",
        "    indice2 = int(input('Insira o segundo número: '))\n",
        "\n",
        "    if indice1 > indice2 or indice2 > len(lista10):\n",
        "        print('Escolhas inválidas.')\n",
        "    else:\n",
        "        print(lista10[indice1:indice2])\n",
        "\n",
        "    sair = int(input('Digite 0 para continuar ou -1 para sair: '))"
      ],
      "metadata": {
        "colab": {
          "base_uri": "https://localhost:8080/"
        },
        "id": "tRDke9UcbmVd",
        "outputId": "c5d30be4-e585-4f9a-a2b8-c57d65ee0167"
      },
      "execution_count": 43,
      "outputs": [
        {
          "name": "stdout",
          "output_type": "stream",
          "text": [
            "Insira o primeiro número: 3\n",
            "Insira o segundo número: 7\n",
            "[130, 140, 150, 160]\n",
            "Digite 0 para continuar ou -1 para sair: 0\n",
            "Insira o primeiro número: 2\n",
            "Insira o segundo número: 6\n",
            "[120, 130, 140, 150]\n",
            "Digite 0 para continuar ou -1 para sair: -1\n"
          ]
        }
      ]
    },
    {
      "cell_type": "markdown",
      "source": [
        "Faça um Programa que leia uma lista de 5 números reais e mostre-os na ordem inversa. NÃO VALE USAR REVERSE"
      ],
      "metadata": {
        "id": "OXjmVLqMdMAD"
      }
    },
    {
      "cell_type": "code",
      "source": [
        "lista5 = [1,2,3,4,5]\n",
        "\n",
        "for i in lista5[4:-1]:\n",
        "  print(lista5)"
      ],
      "metadata": {
        "colab": {
          "base_uri": "https://localhost:8080/",
          "height": 217
        },
        "id": "wXyZGaaYdRG-",
        "outputId": "c99c64e4-f214-4c94-91a5-9a5660cf8c40"
      },
      "execution_count": 24,
      "outputs": [
        {
          "output_type": "error",
          "ename": "TypeError",
          "evalue": "ignored",
          "traceback": [
            "\u001b[0;31m---------------------------------------------------------------------------\u001b[0m",
            "\u001b[0;31mTypeError\u001b[0m                                 Traceback (most recent call last)",
            "\u001b[0;32m<ipython-input-24-779109732765>\u001b[0m in \u001b[0;36m<cell line: 3>\u001b[0;34m()\u001b[0m\n\u001b[1;32m      1\u001b[0m \u001b[0mlista5\u001b[0m \u001b[0;34m=\u001b[0m \u001b[0;34m[\u001b[0m\u001b[0;36m1\u001b[0m\u001b[0;34m,\u001b[0m\u001b[0;36m2\u001b[0m\u001b[0;34m,\u001b[0m\u001b[0;36m3\u001b[0m\u001b[0;34m,\u001b[0m\u001b[0;36m4\u001b[0m\u001b[0;34m,\u001b[0m\u001b[0;36m5\u001b[0m\u001b[0;34m]\u001b[0m\u001b[0;34m\u001b[0m\u001b[0;34m\u001b[0m\u001b[0m\n\u001b[1;32m      2\u001b[0m \u001b[0;34m\u001b[0m\u001b[0m\n\u001b[0;32m----> 3\u001b[0;31m \u001b[0;32mfor\u001b[0m \u001b[0mi\u001b[0m \u001b[0;32min\u001b[0m \u001b[0mlen\u001b[0m\u001b[0;34m(\u001b[0m\u001b[0mlista5\u001b[0m\u001b[0;34m[\u001b[0m\u001b[0;36m4\u001b[0m\u001b[0;34m:\u001b[0m\u001b[0;34m-\u001b[0m\u001b[0;36m1\u001b[0m\u001b[0;34m]\u001b[0m\u001b[0;34m)\u001b[0m\u001b[0;34m:\u001b[0m\u001b[0;34m\u001b[0m\u001b[0;34m\u001b[0m\u001b[0m\n\u001b[0m\u001b[1;32m      4\u001b[0m   \u001b[0mprint\u001b[0m\u001b[0;34m(\u001b[0m\u001b[0mlista5\u001b[0m\u001b[0;34m)\u001b[0m\u001b[0;34m\u001b[0m\u001b[0;34m\u001b[0m\u001b[0m\n",
            "\u001b[0;31mTypeError\u001b[0m: 'int' object is not iterable"
          ]
        }
      ]
    },
    {
      "cell_type": "code",
      "source": [
        "lista5[-1:-2]"
      ],
      "metadata": {
        "colab": {
          "base_uri": "https://localhost:8080/"
        },
        "id": "WI6TQv1jeQtb",
        "outputId": "270f7e23-3bd9-4a8e-cfe0-4b19145c4cb4"
      },
      "execution_count": 29,
      "outputs": [
        {
          "output_type": "execute_result",
          "data": {
            "text/plain": [
              "[]"
            ]
          },
          "metadata": {},
          "execution_count": 29
        }
      ]
    },
    {
      "cell_type": "code",
      "source": [],
      "metadata": {
        "id": "ZhPW9kfcdcww"
      },
      "execution_count": null,
      "outputs": []
    }
  ]
}