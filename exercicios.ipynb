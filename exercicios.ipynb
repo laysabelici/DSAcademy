{
  "nbformat": 4,
  "nbformat_minor": 0,
  "metadata": {
    "colab": {
      "provenance": [],
      "authorship_tag": "ABX9TyPriKEY3P2Li0n5wUcI5Qjl",
      "include_colab_link": true
    },
    "kernelspec": {
      "name": "python3",
      "display_name": "Python 3"
    },
    "language_info": {
      "name": "python"
    }
  },
  "cells": [
    {
      "cell_type": "markdown",
      "metadata": {
        "id": "view-in-github",
        "colab_type": "text"
      },
      "source": [
        "<a href=\"https://colab.research.google.com/github/laysabelici/DSAcademy/blob/main/exercicios.ipynb\" target=\"_parent\"><img src=\"https://colab.research.google.com/assets/colab-badge.svg\" alt=\"Open In Colab\"/></a>"
      ]
    },
    {
      "cell_type": "markdown",
      "source": [
        "Faça um programa que receba o nome e a idade de um usuário e no final diga algo do tipo \"Thiago já está apto a tirar a sua habilitação de motorista e esta será válida até que ele complete 39 anos\". Considere 10 anos como o período de validade de uma habilitação no Brasil."
      ],
      "metadata": {
        "id": "uAG55t4toTtH"
      }
    },
    {
      "cell_type": "code",
      "execution_count": null,
      "metadata": {
        "id": "F_XLboUln9H7"
      },
      "outputs": [],
      "source": []
    },
    {
      "cell_type": "markdown",
      "source": [
        "Escreva um programa que recebe um número e diz se este é par ou ímpar"
      ],
      "metadata": {
        "id": "4hbm5GgIoWzD"
      }
    },
    {
      "cell_type": "code",
      "source": [],
      "metadata": {
        "id": "wjvmrwPxoZGE"
      },
      "execution_count": null,
      "outputs": []
    },
    {
      "cell_type": "markdown",
      "source": [
        "Crie um programa que receba um número e imprima \"fuzz\" se o número for múltiplo de 3, \"buzz\" se deixar resto 1 na divisão por 3 e \"nada\" se deixar resto 2 na divisão por 3"
      ],
      "metadata": {
        "id": "knlIBZ3vobnh"
      }
    },
    {
      "cell_type": "code",
      "source": [],
      "metadata": {
        "id": "Prk5ZrhyocT7"
      },
      "execution_count": null,
      "outputs": []
    },
    {
      "cell_type": "markdown",
      "source": [
        "Crie um programa que recebe sua altura e peso, calcula o imc e retorna um status (abaixo do peso, no peso, acima do peso)."
      ],
      "metadata": {
        "id": "QykB5z6uoe99"
      }
    },
    {
      "cell_type": "code",
      "source": [],
      "metadata": {
        "id": "4Y0Y4tobofvx"
      },
      "execution_count": null,
      "outputs": []
    },
    {
      "cell_type": "markdown",
      "source": [
        "Você quer pintar sua casa e está em dúvida entre as cores Azul, Vermelho e Magenta. Sabendo que a tinta Azul custa 25,00 reais por metro quadrado, Vermelho custa 35,00 reais por metro quadrado e Magenta custa 45,00 reais por metro quadrado, faça o seguinte:\n",
        "\n",
        "a) Crie um programa que recebe metros quadrados da sua parede e a cor da tinta e então retorne quanto gastará com tinta.\n",
        "\n",
        "b) Crie um programa que recebe largura, altura, número de paredes e a cor da tinta escolhida e então retorne quanto gastará com tinta."
      ],
      "metadata": {
        "id": "HVERpUzdo_ZU"
      }
    },
    {
      "cell_type": "code",
      "source": [
        "custo_azul = 25\n",
        "custo_vermelho = 35\n",
        "custo_magenta = 45\n",
        "\n",
        "metros_quadrados = float(input('Digite o m2 da parede: ').replace(',','.'))\n",
        "cor_desejada = str('Digite a cor da parede: ').lower()\n",
        "\n",
        "if cor_desejada == 'azul':\n",
        "  custo = custo_azul * metros_quadrados\n",
        "\n",
        "elif cor_desejada == 'vermelho':\n",
        "  custo = custo_vermelho * metros_quadrados\n",
        "\n",
        "elif cor_desejada == 'magenta':\n",
        "  custo = custo_magenta * metros_quadrados\n",
        "\n",
        "else:\n",
        "  custo_tinta = float(input('Não sei o custo dessa tinta. Informe outra tinta por favor: '))\n",
        "  custo = custo_tinta * metros_quadrados\n",
        "\n",
        "print(f'O custo será R${round(custo,2)}.')"
      ],
      "metadata": {
        "colab": {
          "base_uri": "https://localhost:8080/"
        },
        "id": "jHqUHVdLpAhD",
        "outputId": "dddca75b-678a-4028-ef8f-cf926942951c"
      },
      "execution_count": 1,
      "outputs": [
        {
          "output_type": "stream",
          "name": "stdout",
          "text": [
            "Digite o m2 da parede: 23.4\n",
            "Não sei o custo dessa tinta. Informe outra tinta por favor: 23\n",
            "O custo seráR$538.2.\n"
          ]
        }
      ]
    },
    {
      "cell_type": "markdown",
      "source": [
        "Faça um Programa que verifique se uma letra digitada é \"F\" ou \"M\". Conforme a letra escrever: F - Feminino, M - Masculino, Sexo Inválido."
      ],
      "metadata": {
        "id": "JgpiaZCUpA9n"
      }
    },
    {
      "cell_type": "code",
      "source": [],
      "metadata": {
        "id": "Ga58XBKvpD3s"
      },
      "execution_count": null,
      "outputs": []
    },
    {
      "cell_type": "markdown",
      "source": [
        "Faça um programa que inicialmente receba 2 notas parciais de um aluno (prova 1 e prova 2). Se a média de ambas as notas for superior ou igual a 7, o programa retorna \"APROVADO.\" Senão, o programa solicita uma nota adicional, a nota do provão. Tendo a nota do provão, se a média das 3 notas for maior ou igual a 7 ou se pelo menos duas das 3 notas for maior ou igual a 6, imprima \"APROVADO POR POUCO!\" Senão, imprima \"QUE PENA! TENTE FAZER A SÉTIMA SÉRIE OUTRA VEZ!\""
      ],
      "metadata": {
        "id": "AkpltPY4pC1r"
      }
    },
    {
      "cell_type": "code",
      "source": [],
      "metadata": {
        "id": "EHp5s7ybpJqA"
      },
      "execution_count": null,
      "outputs": []
    },
    {
      "cell_type": "markdown",
      "source": [
        "Faça um Programa que leia três números e mostre-os em ordem decrescente."
      ],
      "metadata": {
        "id": "7u0Pv-RFpKDX"
      }
    },
    {
      "cell_type": "code",
      "source": [],
      "metadata": {
        "id": "xbUGwOwXpMbq"
      },
      "execution_count": null,
      "outputs": []
    },
    {
      "cell_type": "markdown",
      "source": [
        "Faça um Programa que pergunte em que turno você estuda. Peça para digitar M-matutino ou V-Vespertino ou N- Noturno. Imprima a mensagem \"Bom Dia!\", \"Boa Tarde!\" ou \"Boa Noite!\" ou \"Valor Inválido!\", conforme o caso."
      ],
      "metadata": {
        "id": "ySmDvRL3pM3Z"
      }
    },
    {
      "cell_type": "code",
      "source": [],
      "metadata": {
        "id": "g9JEHeakpP7p"
      },
      "execution_count": null,
      "outputs": []
    },
    {
      "cell_type": "markdown",
      "source": [
        "Faça um programa que pergunte o preço de três produtos e informe qual produto você deve comprar, sabendo que a decisão é sempre pelo mais barato."
      ],
      "metadata": {
        "id": "vAxW2_dPpPJ-"
      }
    },
    {
      "cell_type": "code",
      "source": [],
      "metadata": {
        "id": "FK9FlTf1pTjn"
      },
      "execution_count": null,
      "outputs": []
    },
    {
      "cell_type": "markdown",
      "source": [
        "Faça um Programa que leia três números e mostre o maior e o menor deles."
      ],
      "metadata": {
        "id": "qDSwhDDapUJy"
      }
    },
    {
      "cell_type": "code",
      "source": [],
      "metadata": {
        "id": "INZhLSP7pXbz"
      },
      "execution_count": null,
      "outputs": []
    },
    {
      "cell_type": "markdown",
      "source": [
        "Crie um programa que faça as seguintes 5 perguntas e diagnostique o paciente:\n",
        "\n",
        "A. Sente dor no corpo?\n",
        "\n",
        "B. Tem febre?\n",
        "\n",
        "C. Tem tosse?\n",
        "\n",
        "D. Está com congestão nasal?\n",
        "\n",
        "E. Tem manchas no corpo?\n",
        "\n",
        "Condições:\n",
        "\n",
        "Se apenas a primeira for verdade, o paciente não está doente; Se B, C e D forem verdade, o paciente está com gripe; Se todas forem verdade, paciente está com Dengue; Caso contrário, não temos o diagnóstico."
      ],
      "metadata": {
        "id": "IkQ83sdFpX4O"
      }
    },
    {
      "cell_type": "code",
      "source": [],
      "metadata": {
        "id": "1StDmgUPpbWL"
      },
      "execution_count": null,
      "outputs": []
    },
    {
      "cell_type": "markdown",
      "source": [],
      "metadata": {
        "id": "P0l5c8ngpbqp"
      }
    },
    {
      "cell_type": "code",
      "source": [],
      "metadata": {
        "id": "uS4riz2_pdob"
      },
      "execution_count": null,
      "outputs": []
    },
    {
      "cell_type": "markdown",
      "source": [
        "Para entrar em um carro de palhaço, os palhaços precisarão respeitar as seguintes condições:\n",
        "\n",
        "Ter entre 20 e 30 anos, entre 40 e 50 ou entre 70 e 75 anos apenas;\n",
        "\n",
        "Os palhaços mais velhos irão no banco da frente, os mais novos no porta-malas e a idade que restou irá no banco de trás\n",
        "\n",
        "Crie um programa que receba a idade do palhaço imprima os seguintes passos NESTA ORDEM:"
      ],
      "metadata": {
        "id": "yZPapwIFpd9j"
      }
    },
    {
      "cell_type": "code",
      "source": [],
      "metadata": {
        "id": "8vYL3hvXpfM1"
      },
      "execution_count": null,
      "outputs": []
    }
  ]
}