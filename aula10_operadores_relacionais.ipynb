{
  "nbformat": 4,
  "nbformat_minor": 0,
  "metadata": {
    "colab": {
      "provenance": [],
      "authorship_tag": "ABX9TyMLOAyFmIBV34H5Bxze/YrO",
      "include_colab_link": true
    },
    "kernelspec": {
      "name": "python3",
      "display_name": "Python 3"
    },
    "language_info": {
      "name": "python"
    }
  },
  "cells": [
    {
      "cell_type": "markdown",
      "metadata": {
        "id": "view-in-github",
        "colab_type": "text"
      },
      "source": [
        "<a href=\"https://colab.research.google.com/github/laysabelici/DSAcademy/blob/main/aula10_operadores_relacionais.ipynb\" target=\"_parent\"><img src=\"https://colab.research.google.com/assets/colab-badge.svg\" alt=\"Open In Colab\"/></a>"
      ]
    },
    {
      "cell_type": "markdown",
      "source": [
        "CONDIOCIONAL IF\n",
        "\n",
        ">Sempre se atentar ao espaço da margem correto após a condição IF\n",
        "\n",
        ">O espaço faz parte da SINTAXE\n",
        "\n",
        ">As condições sempre terminam com dois pontos :\n",
        "\n",
        ">IF significa SE\n",
        "\n",
        ">ELSE significa SENÃO"
      ],
      "metadata": {
        "id": "e0IVkS8T2AUo"
      }
    },
    {
      "cell_type": "code",
      "execution_count": 1,
      "metadata": {
        "colab": {
          "base_uri": "https://localhost:8080/"
        },
        "id": "4n0zGOOQziH9",
        "outputId": "e1a6a73e-08dd-462e-fde8-049d772145a5"
      },
      "outputs": [
        {
          "output_type": "stream",
          "name": "stdout",
          "text": [
            "Verdadeiro!\n"
          ]
        }
      ],
      "source": [
        "#CONDICIONAL IF (SE)\n",
        "if 5 > 2:\n",
        "  print(\"Verdadeiro!\")"
      ]
    },
    {
      "cell_type": "code",
      "source": [
        "#CONDICIONAL IF... ELSE (SENÃO)\n",
        "if 5 < 2:\n",
        "  print(\"Verdadeiro!\")\n",
        "else:\n",
        "  print(\"Falso!\")"
      ],
      "metadata": {
        "colab": {
          "base_uri": "https://localhost:8080/"
        },
        "id": "iRhBzzjV2piY",
        "outputId": "7d6c7194-3a21-494a-df1f-5c20d0b020c8"
      },
      "execution_count": 2,
      "outputs": [
        {
          "output_type": "stream",
          "name": "stdout",
          "text": [
            "Falso!\n"
          ]
        }
      ]
    },
    {
      "cell_type": "code",
      "source": [
        "#CONDICIONAL IF... ELSE COM VÁRIAVEIS (SE)\n",
        "dia = 'Terça'\n",
        "\n",
        "if dia == 'Segunda':\n",
        "  print('Hoje fará sol!')\n",
        "else:\n",
        "  print('Hoje irá chover!')"
      ],
      "metadata": {
        "colab": {
          "base_uri": "https://localhost:8080/"
        },
        "id": "s6ipobmK20r7",
        "outputId": "0bc99081-4f32-401f-bce0-c4b144836b16"
      },
      "execution_count": 3,
      "outputs": [
        {
          "output_type": "stream",
          "name": "stdout",
          "text": [
            "Hoje irá chover!\n"
          ]
        }
      ]
    },
    {
      "cell_type": "code",
      "source": [
        "idade = 18\n",
        "\n",
        "if idade == 18:\n",
        "  print(\"Maior de idade\")"
      ],
      "metadata": {
        "colab": {
          "base_uri": "https://localhost:8080/"
        },
        "id": "3USyh3zA3HW_",
        "outputId": "f3028b19-503c-448f-95f4-e635297fc8c8"
      },
      "execution_count": 4,
      "outputs": [
        {
          "output_type": "stream",
          "name": "stdout",
          "text": [
            "Maior de idade\n"
          ]
        }
      ]
    },
    {
      "cell_type": "code",
      "source": [
        "#CONDICIONAL DENTRO DA CONDICIONAL\n",
        "nome = 'Bob'\n",
        "\n",
        "if idade > 13:\n",
        "  if nome == 'Bob':\n",
        "    print('Você é Bob!')\n",
        "  else:\n",
        "    print('Você não é Bob!')"
      ],
      "metadata": {
        "colab": {
          "base_uri": "https://localhost:8080/"
        },
        "id": "BN1egTm56bZp",
        "outputId": "f7f32875-48af-4712-a34f-68f4a4467e7e"
      },
      "execution_count": 5,
      "outputs": [
        {
          "output_type": "stream",
          "name": "stdout",
          "text": [
            "Você é Bob!\n"
          ]
        }
      ]
    },
    {
      "cell_type": "code",
      "source": [
        "nome_digitado = str(input('Digite o nome: '))\n",
        "nome = nome_digitado.capitalize()\n",
        "\n",
        "if nome == 'Gabriela':\n",
        "  print(f'Olá {nome}! Você é o amor da Laysa!')\n",
        "else:\n",
        "  print(f'Quem é você, {nome}?')"
      ],
      "metadata": {
        "colab": {
          "base_uri": "https://localhost:8080/"
        },
        "id": "Mxp1sFZt6wcP",
        "outputId": "de705c32-d4a2-4e6f-a1b6-3163957684bf"
      },
      "execution_count": 10,
      "outputs": [
        {
          "output_type": "stream",
          "name": "stdout",
          "text": [
            "Digite o nome: gabriela\n",
            "Olá Gabriela! Você é o amor da Laysa!\n"
          ]
        }
      ]
    },
    {
      "cell_type": "code",
      "source": [
        "nome_digitado = str(input('Digite o nome: '))\n",
        "nome = nome_digitado.capitalize()\n",
        "idade = int(input('Digite a idade: '))\n",
        "\n",
        "if nome == 'Gabriela' and idade == 31:\n",
        "  print(f'Olá {nome}! Você é o amor da Laysa!')\n",
        "else:\n",
        "  print(f'Quem é você, {nome}?')"
      ],
      "metadata": {
        "colab": {
          "base_uri": "https://localhost:8080/"
        },
        "id": "GEaUMyHI8kqi",
        "outputId": "ed562652-5aeb-47ae-93d4-2e97ed13f169"
      },
      "execution_count": 5,
      "outputs": [
        {
          "output_type": "stream",
          "name": "stdout",
          "text": [
            "Digite o nome: gabriela\n",
            "Digite a idade: 31\n",
            "Olá Gabriela! Você é o amor da Laysa!\n"
          ]
        }
      ]
    },
    {
      "cell_type": "code",
      "source": [
        "#OR SOMENTE UMA CONDIÇÃO PRECISA SER VERDADEIRA\n",
        "idade = 12\n",
        "nome = 'Bob'\n",
        "\n",
        "if (idade >= 13) or (nome == 'Bob'):\n",
        "  print('Ok, Bob!')"
      ],
      "metadata": {
        "colab": {
          "base_uri": "https://localhost:8080/"
        },
        "id": "qWbukazaD33-",
        "outputId": "12279f0d-804a-4a45-8880-4a4ece4d7d95"
      },
      "execution_count": 13,
      "outputs": [
        {
          "output_type": "stream",
          "name": "stdout",
          "text": [
            "Ok, Bob!\n"
          ]
        }
      ]
    },
    {
      "cell_type": "code",
      "source": [
        "#AND AMBAS CONDIÇÕES PRECISAM SER VERDADEIRAS\n",
        "idade = 12\n",
        "nome = 'Bob'\n",
        "\n",
        "if (idade >= 13) and (nome == 'Bob'):\n",
        "  print('Ok, Bob!')\n",
        "else:\n",
        "  print('Erro')"
      ],
      "metadata": {
        "colab": {
          "base_uri": "https://localhost:8080/"
        },
        "id": "8Mz1lp91EOS8",
        "outputId": "2c00d631-c290-4aab-d1ad-0dfa6cd41527"
      },
      "execution_count": 16,
      "outputs": [
        {
          "output_type": "stream",
          "name": "stdout",
          "text": [
            "Erro\n"
          ]
        }
      ]
    },
    {
      "cell_type": "code",
      "source": [
        "#NOT INVERTE O RESULTADO, RETORNA FALSE SE O RESULTADO FOR TRUE\n",
        "numero = 4\n",
        "\n",
        "if not(numero>5):\n",
        "  print('Verdadeiro')\n",
        "else:\n",
        "  print('Falso')"
      ],
      "metadata": {
        "colab": {
          "base_uri": "https://localhost:8080/"
        },
        "id": "p9pr0z53Qpn8",
        "outputId": "16a0f1f5-48ee-4e7c-f583-7a5b42f496ee"
      },
      "execution_count": 1,
      "outputs": [
        {
          "output_type": "stream",
          "name": "stdout",
          "text": [
            "Verdadeiro\n"
          ]
        }
      ]
    },
    {
      "cell_type": "code",
      "source": [
        "#OPERADORES AND, OR E NOT\n",
        "numero = 4\n",
        "\n",
        "if (not(numero>5) and (numero % 2 == 0)) or (numero == 4):\n",
        "  print('1ª regra verdadeira ou 2ª regra verdadeira')"
      ],
      "metadata": {
        "colab": {
          "base_uri": "https://localhost:8080/"
        },
        "id": "l9rF76dZ-1zo",
        "outputId": "9ba47129-eb39-48ff-aae1-2b645e3ad233"
      },
      "execution_count": 2,
      "outputs": [
        {
          "output_type": "stream",
          "name": "stdout",
          "text": [
            "1ª regra verdadeira ou 2ª regra verdadeira\n"
          ]
        }
      ]
    },
    {
      "cell_type": "code",
      "source": [
        "#EXEMPLO COM VARIAVEIS\n",
        "disciplina = 'Data Science'\n",
        "nota_final = 70\n",
        "\n",
        "if disciplina == 'Data Science' and nota_final >= 70:\n",
        "  print('Aprovado.')\n",
        "else:\n",
        "  print('Reprovado')"
      ],
      "metadata": {
        "colab": {
          "base_uri": "https://localhost:8080/"
        },
        "id": "GNtoZSKLAjCU",
        "outputId": "1dfbd7c7-3d33-4ff5-ed2f-5c3b693cc5c2"
      },
      "execution_count": 3,
      "outputs": [
        {
          "output_type": "stream",
          "name": "stdout",
          "text": [
            "Aprovado.\n"
          ]
        }
      ]
    },
    {
      "cell_type": "code",
      "source": [
        "#EXEMPLO COM MAIS DE UMA CONDICIONAL\n",
        "\n",
        "disciplina = 'DS'\n",
        "nota_f = 60\n",
        "\n",
        "if disciplina == 'DS' and nota_f >= 70:\n",
        "  print('Aprovado.')\n",
        "else:\n",
        "  print('Reprovado')"
      ],
      "metadata": {
        "colab": {
          "base_uri": "https://localhost:8080/"
        },
        "id": "P--ZIGagA9uD",
        "outputId": "86940372-269a-4658-af1c-c147b8fd02f5"
      },
      "execution_count": 6,
      "outputs": [
        {
          "output_type": "stream",
          "name": "stdout",
          "text": [
            "Reprovado\n"
          ]
        }
      ]
    },
    {
      "cell_type": "code",
      "source": [
        "#INTRODUÇÃO DE PLACEHOLDERS\n",
        "disciplina = 'Engenharia'\n",
        "notaFinal = 90\n",
        "semestre = 2\n",
        "\n",
        "if disciplina == 'Engenharia' and notaFinal >= 80 and semestre != 1:\n",
        "  print('Aprovado em %s com média final %r!' %(disciplina, notaFinal))\n",
        "else:\n",
        "  print('Reprovado')"
      ],
      "metadata": {
        "colab": {
          "base_uri": "https://localhost:8080/"
        },
        "id": "ht6zaBULMtlS",
        "outputId": "99a6878b-b898-4d05-c1fd-f519566f2b43"
      },
      "execution_count": 7,
      "outputs": [
        {
          "output_type": "stream",
          "name": "stdout",
          "text": [
            "Aprovado em Engenharia com média final 90!\n"
          ]
        }
      ]
    },
    {
      "cell_type": "code",
      "source": [
        "#PLACEHOLDERS TAMBÉM PODE SER UTILIZANDO COM:\n",
        "#F NA FRENTE DA STR DO PRINT E CHAMANDO A VARIÁVEL UTILIZNADO {NOME_VARIAVEL}"
      ],
      "metadata": {
        "id": "8IfknamSO4dr"
      },
      "execution_count": null,
      "outputs": []
    }
  ]
}