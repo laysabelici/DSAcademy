{
  "nbformat": 4,
  "nbformat_minor": 0,
  "metadata": {
    "colab": {
      "provenance": [],
      "include_colab_link": true
    },
    "kernelspec": {
      "name": "python3",
      "display_name": "Python 3"
    },
    "language_info": {
      "name": "python"
    }
  },
  "cells": [
    {
      "cell_type": "markdown",
      "metadata": {
        "id": "view-in-github",
        "colab_type": "text"
      },
      "source": [
        "<a href=\"https://colab.research.google.com/github/laysabelici/DSAcademy/blob/main/Coding_tank_Nuclea'23.ipynb\" target=\"_parent\"><img src=\"https://colab.research.google.com/assets/colab-badge.svg\" alt=\"Open In Colab\"/></a>"
      ]
    },
    {
      "cell_type": "markdown",
      "source": [
        "## Declaração de variáveis"
      ],
      "metadata": {
        "id": "3d0EEjifFocV"
      }
    },
    {
      "cell_type": "code",
      "execution_count": null,
      "metadata": {
        "id": "8JJwSVTt7BWw"
      },
      "outputs": [],
      "source": [
        "minha_variavel = 10"
      ]
    },
    {
      "cell_type": "code",
      "source": [
        "minha_variavel = \"Isto é uma frase\""
      ],
      "metadata": {
        "id": "iCFw9UfXCYZ-"
      },
      "execution_count": null,
      "outputs": []
    },
    {
      "cell_type": "code",
      "source": [
        "variavel = 10"
      ],
      "metadata": {
        "id": "grVeMdmoCuRg"
      },
      "execution_count": null,
      "outputs": []
    },
    {
      "cell_type": "code",
      "source": [
        "VARIAVEL = 15"
      ],
      "metadata": {
        "id": "1Phzre_-D66b"
      },
      "execution_count": null,
      "outputs": []
    },
    {
      "cell_type": "code",
      "source": [
        "variavel"
      ],
      "metadata": {
        "colab": {
          "base_uri": "https://localhost:8080/"
        },
        "id": "bYquXDUlEN9V",
        "outputId": "46620691-a723-41c0-9387-bbfc0ce28aa4"
      },
      "execution_count": null,
      "outputs": [
        {
          "output_type": "execute_result",
          "data": {
            "text/plain": [
              "10"
            ]
          },
          "metadata": {},
          "execution_count": 9
        }
      ]
    },
    {
      "cell_type": "code",
      "source": [
        "VARIAVEL"
      ],
      "metadata": {
        "colab": {
          "base_uri": "https://localhost:8080/"
        },
        "id": "AiN3ZVsDESts",
        "outputId": "bcae5a02-c0bd-4343-8c47-4cbd4f76e703"
      },
      "execution_count": null,
      "outputs": [
        {
          "output_type": "execute_result",
          "data": {
            "text/plain": [
              "15"
            ]
          },
          "metadata": {},
          "execution_count": 10
        }
      ]
    },
    {
      "cell_type": "code",
      "source": [
        "minha_variavel = \"Isto é uma frase\""
      ],
      "metadata": {
        "id": "GQBlMABjEViF"
      },
      "execution_count": null,
      "outputs": []
    },
    {
      "cell_type": "code",
      "source": [
        "minha?variavel = 19"
      ],
      "metadata": {
        "colab": {
          "base_uri": "https://localhost:8080/",
          "height": 131
        },
        "id": "SknIAfxxEfeS",
        "outputId": "2f300913-3fc8-4eb4-ba2e-c2848f499ce6"
      },
      "execution_count": null,
      "outputs": [
        {
          "output_type": "error",
          "ename": "SyntaxError",
          "evalue": "ignored",
          "traceback": [
            "\u001b[0;36m  File \u001b[0;32m\"<ipython-input-14-112c18fd4663>\"\u001b[0;36m, line \u001b[0;32m1\u001b[0m\n\u001b[0;31m    minha?variavel = 19\u001b[0m\n\u001b[0m         ^\u001b[0m\n\u001b[0;31mSyntaxError\u001b[0m\u001b[0;31m:\u001b[0m invalid syntax\n"
          ]
        }
      ]
    },
    {
      "cell_type": "code",
      "source": [
        "return = 10"
      ],
      "metadata": {
        "colab": {
          "base_uri": "https://localhost:8080/",
          "height": 131
        },
        "id": "B5y_NGNbE5f4",
        "outputId": "99914c57-11c5-41ea-8b00-8de32f95df2a"
      },
      "execution_count": null,
      "outputs": [
        {
          "output_type": "error",
          "ename": "SyntaxError",
          "evalue": "ignored",
          "traceback": [
            "\u001b[0;36m  File \u001b[0;32m\"<ipython-input-15-5fa193694752>\"\u001b[0;36m, line \u001b[0;32m1\u001b[0m\n\u001b[0;31m    return = 10\u001b[0m\n\u001b[0m           ^\u001b[0m\n\u001b[0;31mSyntaxError\u001b[0m\u001b[0;31m:\u001b[0m invalid syntax\n"
          ]
        }
      ]
    },
    {
      "cell_type": "markdown",
      "source": [],
      "metadata": {
        "id": "ayXjDnWhFsst"
      }
    },
    {
      "cell_type": "markdown",
      "source": [
        "## Funções comuns"
      ],
      "metadata": {
        "id": "k9fYiNfyFw6r"
      }
    },
    {
      "cell_type": "code",
      "source": [
        "var = 15"
      ],
      "metadata": {
        "id": "JQ9nN1VHGqjS"
      },
      "execution_count": null,
      "outputs": []
    },
    {
      "cell_type": "code",
      "source": [
        "tipo = type(var)"
      ],
      "metadata": {
        "id": "ufJF_kzSFAam"
      },
      "execution_count": null,
      "outputs": []
    },
    {
      "cell_type": "code",
      "source": [
        "print(tipo)"
      ],
      "metadata": {
        "colab": {
          "base_uri": "https://localhost:8080/"
        },
        "id": "xgDAiQ9MGziF",
        "outputId": "e8500762-8b8b-4c20-9203-9df34b3e9b8b"
      },
      "execution_count": null,
      "outputs": [
        {
          "output_type": "stream",
          "name": "stdout",
          "text": [
            "<class 'int'>\n"
          ]
        }
      ]
    },
    {
      "cell_type": "markdown",
      "source": [
        "## Principais tipos de variáveis"
      ],
      "metadata": {
        "id": "niqlj4d8IpHl"
      }
    },
    {
      "cell_type": "code",
      "source": [
        "var = 10\n",
        "print(type(var))"
      ],
      "metadata": {
        "colab": {
          "base_uri": "https://localhost:8080/"
        },
        "id": "5r8zH3UoHLkk",
        "outputId": "e97c669a-2c54-4954-d534-6f933ce82772"
      },
      "execution_count": null,
      "outputs": [
        {
          "output_type": "stream",
          "name": "stdout",
          "text": [
            "<class 'int'>\n"
          ]
        }
      ]
    },
    {
      "cell_type": "code",
      "source": [
        "var = 3.14\n",
        "print(type(var))"
      ],
      "metadata": {
        "colab": {
          "base_uri": "https://localhost:8080/"
        },
        "id": "kwmGrjc4Is3u",
        "outputId": "0c340061-3664-4832-ac91-445595eeea94"
      },
      "execution_count": null,
      "outputs": [
        {
          "output_type": "stream",
          "name": "stdout",
          "text": [
            "<class 'float'>\n"
          ]
        }
      ]
    },
    {
      "cell_type": "code",
      "source": [
        "var = \"Isto é um texto\"\n",
        "print(type(var))"
      ],
      "metadata": {
        "colab": {
          "base_uri": "https://localhost:8080/"
        },
        "id": "QKrdITRHI7NK",
        "outputId": "e5eaad05-ba87-42c1-c728-2cf67e8886f7"
      },
      "execution_count": null,
      "outputs": [
        {
          "output_type": "stream",
          "name": "stdout",
          "text": [
            "<class 'str'>\n"
          ]
        }
      ]
    },
    {
      "cell_type": "code",
      "source": [
        "var = \"a\"\n",
        "print(type(var))"
      ],
      "metadata": {
        "colab": {
          "base_uri": "https://localhost:8080/"
        },
        "id": "9OFRfboPJ_5z",
        "outputId": "a7d84afd-b46e-492d-fdfe-2be77bc704de"
      },
      "execution_count": null,
      "outputs": [
        {
          "output_type": "stream",
          "name": "stdout",
          "text": [
            "<class 'str'>\n"
          ]
        }
      ]
    },
    {
      "cell_type": "code",
      "source": [
        "var = \"10\"\n",
        "print(type(var))"
      ],
      "metadata": {
        "colab": {
          "base_uri": "https://localhost:8080/"
        },
        "id": "6IWsSoXeKC_O",
        "outputId": "672588a9-2900-4457-e56b-aa2e16191dec"
      },
      "execution_count": null,
      "outputs": [
        {
          "output_type": "stream",
          "name": "stdout",
          "text": [
            "<class 'str'>\n"
          ]
        }
      ]
    },
    {
      "cell_type": "code",
      "source": [
        "var*2"
      ],
      "metadata": {
        "colab": {
          "base_uri": "https://localhost:8080/",
          "height": 35
        },
        "id": "_AFEvU6aKiQE",
        "outputId": "afe319e4-de61-4070-a017-855188ec977a"
      },
      "execution_count": null,
      "outputs": [
        {
          "output_type": "execute_result",
          "data": {
            "text/plain": [
              "'1010'"
            ],
            "application/vnd.google.colaboratory.intrinsic+json": {
              "type": "string"
            }
          },
          "metadata": {},
          "execution_count": 31
        }
      ]
    },
    {
      "cell_type": "code",
      "source": [
        "var = \"cachorro\""
      ],
      "metadata": {
        "id": "6wJo_zcwKnPX"
      },
      "execution_count": null,
      "outputs": []
    },
    {
      "cell_type": "code",
      "source": [
        "var*3"
      ],
      "metadata": {
        "colab": {
          "base_uri": "https://localhost:8080/",
          "height": 35
        },
        "id": "QYn6-n-xKsFY",
        "outputId": "c899cf62-2a95-45a6-c81f-bb9c0764b5fa"
      },
      "execution_count": null,
      "outputs": [
        {
          "output_type": "execute_result",
          "data": {
            "text/plain": [
              "'cachorrocachorrocachorro'"
            ],
            "application/vnd.google.colaboratory.intrinsic+json": {
              "type": "string"
            }
          },
          "metadata": {},
          "execution_count": 33
        }
      ]
    },
    {
      "cell_type": "code",
      "source": [
        "var = 10"
      ],
      "metadata": {
        "id": "dd_F_Jf_Ks7u"
      },
      "execution_count": null,
      "outputs": []
    },
    {
      "cell_type": "code",
      "source": [
        "var*2"
      ],
      "metadata": {
        "colab": {
          "base_uri": "https://localhost:8080/"
        },
        "id": "XTZSayNrKyAR",
        "outputId": "e48d4511-decd-4200-e63e-715e45e01b1d"
      },
      "execution_count": null,
      "outputs": [
        {
          "output_type": "execute_result",
          "data": {
            "text/plain": [
              "20"
            ]
          },
          "metadata": {},
          "execution_count": 35
        }
      ]
    },
    {
      "cell_type": "code",
      "source": [
        "var = True\n",
        "print(type(var))"
      ],
      "metadata": {
        "colab": {
          "base_uri": "https://localhost:8080/"
        },
        "id": "CMKOgmXYKy1E",
        "outputId": "1e6e606f-090a-408b-e54b-a9ac0844c123"
      },
      "execution_count": null,
      "outputs": [
        {
          "output_type": "stream",
          "name": "stdout",
          "text": [
            "<class 'bool'>\n"
          ]
        }
      ]
    },
    {
      "cell_type": "code",
      "source": [
        "var = False\n",
        "print(type(var))"
      ],
      "metadata": {
        "colab": {
          "base_uri": "https://localhost:8080/"
        },
        "id": "JdtzbAKZLBOo",
        "outputId": "a2f21401-9c9d-4790-d3c0-28f8dc1782a4"
      },
      "execution_count": null,
      "outputs": [
        {
          "output_type": "stream",
          "name": "stdout",
          "text": [
            "<class 'bool'>\n"
          ]
        }
      ]
    },
    {
      "cell_type": "code",
      "source": [
        "var = true"
      ],
      "metadata": {
        "colab": {
          "base_uri": "https://localhost:8080/",
          "height": 166
        },
        "id": "RDDGnd_pLGHh",
        "outputId": "84aa7631-eb70-4ca7-daf6-8b76a9c6b38f"
      },
      "execution_count": null,
      "outputs": [
        {
          "output_type": "error",
          "ename": "NameError",
          "evalue": "ignored",
          "traceback": [
            "\u001b[0;31m---------------------------------------------------------------------------\u001b[0m",
            "\u001b[0;31mNameError\u001b[0m                                 Traceback (most recent call last)",
            "\u001b[0;32m<ipython-input-38-bac53b9a8fe9>\u001b[0m in \u001b[0;36m<cell line: 1>\u001b[0;34m()\u001b[0m\n\u001b[0;32m----> 1\u001b[0;31m \u001b[0mvar\u001b[0m \u001b[0;34m=\u001b[0m \u001b[0mtrue\u001b[0m\u001b[0;34m\u001b[0m\u001b[0;34m\u001b[0m\u001b[0m\n\u001b[0m",
            "\u001b[0;31mNameError\u001b[0m: name 'true' is not defined"
          ]
        }
      ]
    },
    {
      "cell_type": "code",
      "source": [
        "true = 10"
      ],
      "metadata": {
        "id": "vNb4hqsJLNzf"
      },
      "execution_count": null,
      "outputs": []
    },
    {
      "cell_type": "code",
      "source": [
        "True = 10"
      ],
      "metadata": {
        "colab": {
          "base_uri": "https://localhost:8080/",
          "height": 131
        },
        "id": "VFdn5z9zLfij",
        "outputId": "17a02bbf-c864-4135-b523-79f75774faf5"
      },
      "execution_count": null,
      "outputs": [
        {
          "output_type": "error",
          "ename": "SyntaxError",
          "evalue": "ignored",
          "traceback": [
            "\u001b[0;36m  File \u001b[0;32m\"<ipython-input-40-398a5163d1af>\"\u001b[0;36m, line \u001b[0;32m1\u001b[0m\n\u001b[0;31m    True = 10\u001b[0m\n\u001b[0m    ^\u001b[0m\n\u001b[0;31mSyntaxError\u001b[0m\u001b[0;31m:\u001b[0m cannot assign to True\n"
          ]
        }
      ]
    },
    {
      "cell_type": "code",
      "source": [
        "var_true = True"
      ],
      "metadata": {
        "id": "H7YXUGypLgUQ"
      },
      "execution_count": null,
      "outputs": []
    },
    {
      "cell_type": "code",
      "source": [
        "var = None"
      ],
      "metadata": {
        "id": "wJcvnbK8MTZm"
      },
      "execution_count": null,
      "outputs": []
    },
    {
      "cell_type": "code",
      "source": [
        "print(var)"
      ],
      "metadata": {
        "colab": {
          "base_uri": "https://localhost:8080/"
        },
        "id": "IjYqVvKGPFFd",
        "outputId": "7e934cd3-4bbd-4e9d-f36d-8317510ce254"
      },
      "execution_count": null,
      "outputs": [
        {
          "output_type": "stream",
          "name": "stdout",
          "text": [
            "None\n"
          ]
        }
      ]
    },
    {
      "cell_type": "code",
      "source": [
        "type(var)"
      ],
      "metadata": {
        "colab": {
          "base_uri": "https://localhost:8080/"
        },
        "id": "YKSJ2izcPFjk",
        "outputId": "f6190f45-8679-42a4-e892-73fd2680f090"
      },
      "execution_count": null,
      "outputs": [
        {
          "output_type": "execute_result",
          "data": {
            "text/plain": [
              "NoneType"
            ]
          },
          "metadata": {},
          "execution_count": 50
        }
      ]
    },
    {
      "cell_type": "code",
      "source": [
        "var = \"\""
      ],
      "metadata": {
        "id": "BadbSoKRPGiu"
      },
      "execution_count": null,
      "outputs": []
    },
    {
      "cell_type": "code",
      "source": [
        "type(var)"
      ],
      "metadata": {
        "colab": {
          "base_uri": "https://localhost:8080/"
        },
        "id": "-ZaScr5SPukZ",
        "outputId": "3f722e71-8256-4b3e-b39c-c8f2a05f8309"
      },
      "execution_count": null,
      "outputs": [
        {
          "output_type": "execute_result",
          "data": {
            "text/plain": [
              "str"
            ]
          },
          "metadata": {},
          "execution_count": 54
        }
      ]
    },
    {
      "cell_type": "code",
      "source": [
        "var = \"None\""
      ],
      "metadata": {
        "id": "qqiYCGUKPvvH"
      },
      "execution_count": null,
      "outputs": []
    },
    {
      "cell_type": "code",
      "source": [
        "type(var)"
      ],
      "metadata": {
        "colab": {
          "base_uri": "https://localhost:8080/"
        },
        "id": "nImNEVWZPzpn",
        "outputId": "6e6c3e2e-1df8-4fa9-f2c8-efdd53e8d008"
      },
      "execution_count": null,
      "outputs": [
        {
          "output_type": "execute_result",
          "data": {
            "text/plain": [
              "str"
            ]
          },
          "metadata": {},
          "execution_count": 56
        }
      ]
    },
    {
      "cell_type": "code",
      "source": [
        "None == None"
      ],
      "metadata": {
        "colab": {
          "base_uri": "https://localhost:8080/"
        },
        "id": "SvRfPopPP0cJ",
        "outputId": "95740f86-78d2-4711-9889-a2fcf9a5dd82"
      },
      "execution_count": null,
      "outputs": [
        {
          "output_type": "execute_result",
          "data": {
            "text/plain": [
              "False"
            ]
          },
          "metadata": {},
          "execution_count": 60
        }
      ]
    },
    {
      "cell_type": "code",
      "source": [
        "var = \"\"\n",
        "print(var)"
      ],
      "metadata": {
        "colab": {
          "base_uri": "https://localhost:8080/"
        },
        "id": "DBK0mideP7lg",
        "outputId": "c4556092-0659-419a-c893-4ed181adfc90"
      },
      "execution_count": null,
      "outputs": [
        {
          "output_type": "stream",
          "name": "stdout",
          "text": [
            "\n"
          ]
        }
      ]
    },
    {
      "cell_type": "code",
      "source": [
        "var = None\n",
        "print(var)"
      ],
      "metadata": {
        "colab": {
          "base_uri": "https://localhost:8080/"
        },
        "id": "bs9A4evlQPMX",
        "outputId": "53d4e013-ea0e-46eb-baeb-11a02acd3041"
      },
      "execution_count": null,
      "outputs": [
        {
          "output_type": "stream",
          "name": "stdout",
          "text": [
            "None\n"
          ]
        }
      ]
    },
    {
      "cell_type": "markdown",
      "source": [
        "## Operadores matemáticos"
      ],
      "metadata": {
        "id": "5MCPVTWlYqs7"
      }
    },
    {
      "cell_type": "code",
      "source": [
        "2+5"
      ],
      "metadata": {
        "colab": {
          "base_uri": "https://localhost:8080/"
        },
        "id": "1Go9zA0jQm94",
        "outputId": "f351860c-a720-482c-9d1c-8050f69ee206"
      },
      "execution_count": null,
      "outputs": [
        {
          "output_type": "execute_result",
          "data": {
            "text/plain": [
              "7"
            ]
          },
          "metadata": {},
          "execution_count": 64
        }
      ]
    },
    {
      "cell_type": "code",
      "source": [
        "2-5"
      ],
      "metadata": {
        "colab": {
          "base_uri": "https://localhost:8080/"
        },
        "id": "JvUl0L7VYyFp",
        "outputId": "31dbf48c-e52e-402d-f797-00f687929c20"
      },
      "execution_count": null,
      "outputs": [
        {
          "output_type": "execute_result",
          "data": {
            "text/plain": [
              "-3"
            ]
          },
          "metadata": {},
          "execution_count": 65
        }
      ]
    },
    {
      "cell_type": "code",
      "source": [
        "10*2"
      ],
      "metadata": {
        "colab": {
          "base_uri": "https://localhost:8080/"
        },
        "id": "UrtYYXmPYzH0",
        "outputId": "f32212a8-1c5c-4acf-bffd-96e2abb14d2d"
      },
      "execution_count": null,
      "outputs": [
        {
          "output_type": "execute_result",
          "data": {
            "text/plain": [
              "20"
            ]
          },
          "metadata": {},
          "execution_count": 66
        }
      ]
    },
    {
      "cell_type": "code",
      "source": [
        "13/2"
      ],
      "metadata": {
        "colab": {
          "base_uri": "https://localhost:8080/"
        },
        "id": "K6CgomgsY0Dr",
        "outputId": "4cb53dbc-c0ed-494a-ac3c-e0af05e5e4d0"
      },
      "execution_count": null,
      "outputs": [
        {
          "output_type": "execute_result",
          "data": {
            "text/plain": [
              "6.5"
            ]
          },
          "metadata": {},
          "execution_count": 67
        }
      ]
    },
    {
      "cell_type": "code",
      "source": [
        "a = 10\n",
        "b = 2"
      ],
      "metadata": {
        "id": "lpHX7FwDY1Zv"
      },
      "execution_count": null,
      "outputs": []
    },
    {
      "cell_type": "code",
      "source": [
        "a+b"
      ],
      "metadata": {
        "colab": {
          "base_uri": "https://localhost:8080/"
        },
        "id": "S0oldK56Y4ue",
        "outputId": "51eae514-81cb-4c57-fba9-64531dcfadef"
      },
      "execution_count": null,
      "outputs": [
        {
          "output_type": "execute_result",
          "data": {
            "text/plain": [
              "12"
            ]
          },
          "metadata": {},
          "execution_count": 69
        }
      ]
    },
    {
      "cell_type": "code",
      "source": [
        "a-b"
      ],
      "metadata": {
        "colab": {
          "base_uri": "https://localhost:8080/"
        },
        "id": "cp-yFqQuY5fd",
        "outputId": "56ee803b-e6b9-46eb-d8c3-6c77c9eec38d"
      },
      "execution_count": null,
      "outputs": [
        {
          "output_type": "execute_result",
          "data": {
            "text/plain": [
              "8"
            ]
          },
          "metadata": {},
          "execution_count": 70
        }
      ]
    },
    {
      "cell_type": "code",
      "source": [
        "a*b"
      ],
      "metadata": {
        "colab": {
          "base_uri": "https://localhost:8080/"
        },
        "id": "m5Lh9rB0Y6Zj",
        "outputId": "16dc71f1-2644-471d-8afb-ff944b31ed97"
      },
      "execution_count": null,
      "outputs": [
        {
          "output_type": "execute_result",
          "data": {
            "text/plain": [
              "20"
            ]
          },
          "metadata": {},
          "execution_count": 71
        }
      ]
    },
    {
      "cell_type": "code",
      "source": [
        "a/b"
      ],
      "metadata": {
        "colab": {
          "base_uri": "https://localhost:8080/"
        },
        "id": "C6b167BBY7Wf",
        "outputId": "4ffac46b-cd23-4ae1-f935-52d05ccbd090"
      },
      "execution_count": null,
      "outputs": [
        {
          "output_type": "execute_result",
          "data": {
            "text/plain": [
              "5.0"
            ]
          },
          "metadata": {},
          "execution_count": 72
        }
      ]
    },
    {
      "cell_type": "code",
      "source": [
        "5**2"
      ],
      "metadata": {
        "colab": {
          "base_uri": "https://localhost:8080/"
        },
        "id": "8H9OYEpCY8XR",
        "outputId": "15366063-97f1-4976-b777-6b0718438c56"
      },
      "execution_count": null,
      "outputs": [
        {
          "output_type": "execute_result",
          "data": {
            "text/plain": [
              "25"
            ]
          },
          "metadata": {},
          "execution_count": 73
        }
      ]
    },
    {
      "cell_type": "code",
      "source": [
        "5**3"
      ],
      "metadata": {
        "colab": {
          "base_uri": "https://localhost:8080/"
        },
        "id": "0_Ho6rORY_81",
        "outputId": "ab72d99a-9b21-44fd-f2ad-0dfe53589cde"
      },
      "execution_count": null,
      "outputs": [
        {
          "output_type": "execute_result",
          "data": {
            "text/plain": [
              "125"
            ]
          },
          "metadata": {},
          "execution_count": 74
        }
      ]
    },
    {
      "cell_type": "code",
      "source": [
        "3%2"
      ],
      "metadata": {
        "colab": {
          "base_uri": "https://localhost:8080/"
        },
        "id": "z_mGJLHWZCIU",
        "outputId": "5750268b-b8f0-4cbc-dc73-305a0a45cd69"
      },
      "execution_count": null,
      "outputs": [
        {
          "output_type": "execute_result",
          "data": {
            "text/plain": [
              "1"
            ]
          },
          "metadata": {},
          "execution_count": 75
        }
      ]
    },
    {
      "cell_type": "code",
      "source": [
        "print(type(a))\n",
        "print(type(b))"
      ],
      "metadata": {
        "colab": {
          "base_uri": "https://localhost:8080/"
        },
        "id": "Kg-K2iXUZIER",
        "outputId": "bbf80871-b0e6-4235-b0e0-8886efa64f73"
      },
      "execution_count": null,
      "outputs": [
        {
          "output_type": "stream",
          "name": "stdout",
          "text": [
            "<class 'int'>\n",
            "<class 'int'>\n"
          ]
        }
      ]
    },
    {
      "cell_type": "code",
      "source": [
        "c = a/b"
      ],
      "metadata": {
        "id": "7PAefUagZUtQ"
      },
      "execution_count": null,
      "outputs": []
    },
    {
      "cell_type": "code",
      "source": [
        "c"
      ],
      "metadata": {
        "colab": {
          "base_uri": "https://localhost:8080/"
        },
        "id": "Yo80r84OZbS5",
        "outputId": "a15dca1e-fdb9-4a63-d3e6-7fe19c9e474c"
      },
      "execution_count": null,
      "outputs": [
        {
          "output_type": "execute_result",
          "data": {
            "text/plain": [
              "5.0"
            ]
          },
          "metadata": {},
          "execution_count": 80
        }
      ]
    },
    {
      "cell_type": "code",
      "source": [
        "type(c)"
      ],
      "metadata": {
        "colab": {
          "base_uri": "https://localhost:8080/"
        },
        "id": "bNI2C33FZb53",
        "outputId": "e72facd5-f066-4673-f47e-8882c9204dfe"
      },
      "execution_count": null,
      "outputs": [
        {
          "output_type": "execute_result",
          "data": {
            "text/plain": [
              "float"
            ]
          },
          "metadata": {},
          "execution_count": 81
        }
      ]
    },
    {
      "cell_type": "code",
      "source": [
        "c%5"
      ],
      "metadata": {
        "colab": {
          "base_uri": "https://localhost:8080/"
        },
        "id": "OVT39dgcZdzf",
        "outputId": "6f89ae5d-daa6-4126-9675-158b2afee599"
      },
      "execution_count": null,
      "outputs": [
        {
          "output_type": "execute_result",
          "data": {
            "text/plain": [
              "0.0"
            ]
          },
          "metadata": {},
          "execution_count": 84
        }
      ]
    },
    {
      "cell_type": "code",
      "source": [
        "a*b"
      ],
      "metadata": {
        "colab": {
          "base_uri": "https://localhost:8080/"
        },
        "id": "5S7wtxN5Zjpp",
        "outputId": "a539ab87-84b6-4d43-9c3a-62a8cf964e53"
      },
      "execution_count": null,
      "outputs": [
        {
          "output_type": "execute_result",
          "data": {
            "text/plain": [
              "20"
            ]
          },
          "metadata": {},
          "execution_count": 85
        }
      ]
    },
    {
      "cell_type": "code",
      "source": [
        "c = a*b"
      ],
      "metadata": {
        "id": "wkjqbvO5Z9Ql"
      },
      "execution_count": null,
      "outputs": []
    },
    {
      "cell_type": "code",
      "source": [
        "c"
      ],
      "metadata": {
        "colab": {
          "base_uri": "https://localhost:8080/"
        },
        "id": "EXK_OmmJaEPJ",
        "outputId": "18ed8e1c-dc55-4ffc-8b91-31017003b66a"
      },
      "execution_count": null,
      "outputs": [
        {
          "output_type": "execute_result",
          "data": {
            "text/plain": [
              "20"
            ]
          },
          "metadata": {},
          "execution_count": 87
        }
      ]
    },
    {
      "cell_type": "code",
      "source": [
        "tapioca = \"queijo com frango \""
      ],
      "metadata": {
        "id": "DSz_T1z5aG2V"
      },
      "execution_count": null,
      "outputs": []
    },
    {
      "cell_type": "code",
      "source": [
        "tapioca*2"
      ],
      "metadata": {
        "colab": {
          "base_uri": "https://localhost:8080/",
          "height": 35
        },
        "id": "YiZ1MMOBbULp",
        "outputId": "ec2b0780-21a6-44e1-d660-c376565c084e"
      },
      "execution_count": null,
      "outputs": [
        {
          "output_type": "execute_result",
          "data": {
            "text/plain": [
              "'queijo com frango queijo com frango '"
            ],
            "application/vnd.google.colaboratory.intrinsic+json": {
              "type": "string"
            }
          },
          "metadata": {},
          "execution_count": 91
        }
      ]
    },
    {
      "cell_type": "code",
      "source": [
        "tapioca + tapioca"
      ],
      "metadata": {
        "colab": {
          "base_uri": "https://localhost:8080/",
          "height": 35
        },
        "id": "-K7l9QohbVZH",
        "outputId": "2ea0bd35-b988-423e-d93b-f6740487f8da"
      },
      "execution_count": null,
      "outputs": [
        {
          "output_type": "execute_result",
          "data": {
            "text/plain": [
              "'queijo com frango queijo com frango '"
            ],
            "application/vnd.google.colaboratory.intrinsic+json": {
              "type": "string"
            }
          },
          "metadata": {},
          "execution_count": 92
        }
      ]
    },
    {
      "cell_type": "code",
      "source": [
        "tapioca + \"e beterraba\""
      ],
      "metadata": {
        "colab": {
          "base_uri": "https://localhost:8080/",
          "height": 35
        },
        "id": "s17m7ztmbY1i",
        "outputId": "f826f1a8-c932-459d-84ac-b087023d6903"
      },
      "execution_count": null,
      "outputs": [
        {
          "output_type": "execute_result",
          "data": {
            "text/plain": [
              "'queijo com frango e beterraba'"
            ],
            "application/vnd.google.colaboratory.intrinsic+json": {
              "type": "string"
            }
          },
          "metadata": {},
          "execution_count": 93
        }
      ]
    },
    {
      "cell_type": "code",
      "source": [
        "tapioca + 3"
      ],
      "metadata": {
        "colab": {
          "base_uri": "https://localhost:8080/",
          "height": 166
        },
        "id": "3iGuPn6Dbbmr",
        "outputId": "507da662-93af-4c1d-d106-3b1a38fbe072"
      },
      "execution_count": null,
      "outputs": [
        {
          "output_type": "error",
          "ename": "TypeError",
          "evalue": "ignored",
          "traceback": [
            "\u001b[0;31m---------------------------------------------------------------------------\u001b[0m",
            "\u001b[0;31mTypeError\u001b[0m                                 Traceback (most recent call last)",
            "\u001b[0;32m<ipython-input-94-834da1999296>\u001b[0m in \u001b[0;36m<cell line: 1>\u001b[0;34m()\u001b[0m\n\u001b[0;32m----> 1\u001b[0;31m \u001b[0mtapioca\u001b[0m \u001b[0;34m+\u001b[0m \u001b[0;36m3\u001b[0m\u001b[0;34m\u001b[0m\u001b[0;34m\u001b[0m\u001b[0m\n\u001b[0m",
            "\u001b[0;31mTypeError\u001b[0m: can only concatenate str (not \"int\") to str"
          ]
        }
      ]
    },
    {
      "cell_type": "code",
      "source": [
        "tapioca / \"frango\""
      ],
      "metadata": {
        "colab": {
          "base_uri": "https://localhost:8080/",
          "height": 166
        },
        "id": "kVfGrBG9bdbL",
        "outputId": "a3d8d69f-582a-4c2b-c6dc-1cf55daa652c"
      },
      "execution_count": null,
      "outputs": [
        {
          "output_type": "error",
          "ename": "TypeError",
          "evalue": "ignored",
          "traceback": [
            "\u001b[0;31m---------------------------------------------------------------------------\u001b[0m",
            "\u001b[0;31mTypeError\u001b[0m                                 Traceback (most recent call last)",
            "\u001b[0;32m<ipython-input-96-80338e1700ff>\u001b[0m in \u001b[0;36m<cell line: 1>\u001b[0;34m()\u001b[0m\n\u001b[0;32m----> 1\u001b[0;31m \u001b[0mtapioca\u001b[0m \u001b[0;34m/\u001b[0m \u001b[0;34m\"frango\"\u001b[0m\u001b[0;34m\u001b[0m\u001b[0;34m\u001b[0m\u001b[0m\n\u001b[0m",
            "\u001b[0;31mTypeError\u001b[0m: unsupported operand type(s) for /: 'str' and 'str'"
          ]
        }
      ]
    },
    {
      "cell_type": "code",
      "source": [
        "tapioca += \" e beterraba\""
      ],
      "metadata": {
        "id": "_ni1mgP5bhSO"
      },
      "execution_count": null,
      "outputs": []
    },
    {
      "cell_type": "code",
      "source": [
        "num = 5"
      ],
      "metadata": {
        "id": "WYcuOwhwbn1x"
      },
      "execution_count": null,
      "outputs": []
    },
    {
      "cell_type": "code",
      "source": [
        "num = num + 2"
      ],
      "metadata": {
        "id": "uqubwkNSbv0W"
      },
      "execution_count": null,
      "outputs": []
    },
    {
      "cell_type": "code",
      "source": [
        "num"
      ],
      "metadata": {
        "colab": {
          "base_uri": "https://localhost:8080/"
        },
        "id": "zW5d9Gf0b3Sl",
        "outputId": "2a2237e4-4fab-4ff5-ad08-06828b4007a2"
      },
      "execution_count": null,
      "outputs": [
        {
          "output_type": "execute_result",
          "data": {
            "text/plain": [
              "7"
            ]
          },
          "metadata": {},
          "execution_count": 101
        }
      ]
    },
    {
      "cell_type": "code",
      "source": [
        "num += 2"
      ],
      "metadata": {
        "id": "o8iaO02Hb54q"
      },
      "execution_count": null,
      "outputs": []
    },
    {
      "cell_type": "code",
      "source": [
        "num"
      ],
      "metadata": {
        "colab": {
          "base_uri": "https://localhost:8080/"
        },
        "id": "DPPjQcyNcDJB",
        "outputId": "4ba1d4f9-3443-4def-8771-cbbb20258ec1"
      },
      "execution_count": null,
      "outputs": [
        {
          "output_type": "execute_result",
          "data": {
            "text/plain": [
              "9"
            ]
          },
          "metadata": {},
          "execution_count": 103
        }
      ]
    },
    {
      "cell_type": "code",
      "source": [
        "tapioca"
      ],
      "metadata": {
        "colab": {
          "base_uri": "https://localhost:8080/",
          "height": 35
        },
        "id": "Kgoa9W5ecD4e",
        "outputId": "cd4a90a0-41d6-4017-ce11-6d6bd4cd4230"
      },
      "execution_count": null,
      "outputs": [
        {
          "output_type": "execute_result",
          "data": {
            "text/plain": [
              "'queijo com frango  e beterraba'"
            ],
            "application/vnd.google.colaboratory.intrinsic+json": {
              "type": "string"
            }
          },
          "metadata": {},
          "execution_count": 104
        }
      ]
    },
    {
      "cell_type": "code",
      "source": [
        "tapioca = tapioca + \" e leite condensado\""
      ],
      "metadata": {
        "id": "XDa_qWDhcJ4y"
      },
      "execution_count": null,
      "outputs": []
    },
    {
      "cell_type": "code",
      "source": [
        "tapioca"
      ],
      "metadata": {
        "colab": {
          "base_uri": "https://localhost:8080/",
          "height": 35
        },
        "id": "fbVQ6VENcOg1",
        "outputId": "8eee67ed-b546-4c2b-8532-46900d253cea"
      },
      "execution_count": null,
      "outputs": [
        {
          "output_type": "execute_result",
          "data": {
            "text/plain": [
              "'queijo com frango  e beterraba e leite condensado'"
            ],
            "application/vnd.google.colaboratory.intrinsic+json": {
              "type": "string"
            }
          },
          "metadata": {},
          "execution_count": 106
        }
      ]
    },
    {
      "cell_type": "code",
      "source": [
        "tapioca += \" e mostarda\""
      ],
      "metadata": {
        "id": "P6C-JVntcPFd"
      },
      "execution_count": null,
      "outputs": []
    },
    {
      "cell_type": "code",
      "source": [
        "tapioca"
      ],
      "metadata": {
        "colab": {
          "base_uri": "https://localhost:8080/",
          "height": 35
        },
        "id": "eYlD-vFMcSsa",
        "outputId": "f303bd00-b27d-446f-d6ff-f4b9f87be7e7"
      },
      "execution_count": null,
      "outputs": [
        {
          "output_type": "execute_result",
          "data": {
            "text/plain": [
              "'queijo com frango  e beterraba e leite condensado e mostarda'"
            ],
            "application/vnd.google.colaboratory.intrinsic+json": {
              "type": "string"
            }
          },
          "metadata": {},
          "execution_count": 108
        }
      ]
    },
    {
      "cell_type": "code",
      "source": [
        "animal = \"cachorro\""
      ],
      "metadata": {
        "id": "rYgAcBjBcTRF"
      },
      "execution_count": null,
      "outputs": []
    },
    {
      "cell_type": "code",
      "source": [
        "animal *= 2"
      ],
      "metadata": {
        "id": "V75D107OcdfK"
      },
      "execution_count": null,
      "outputs": []
    },
    {
      "cell_type": "code",
      "source": [
        "animal"
      ],
      "metadata": {
        "colab": {
          "base_uri": "https://localhost:8080/",
          "height": 35
        },
        "id": "G28HKKkxce5D",
        "outputId": "e6717a3e-bf71-4073-ab55-49b87bf375b5"
      },
      "execution_count": null,
      "outputs": [
        {
          "output_type": "execute_result",
          "data": {
            "text/plain": [
              "'cachorrocachorro'"
            ],
            "application/vnd.google.colaboratory.intrinsic+json": {
              "type": "string"
            }
          },
          "metadata": {},
          "execution_count": 111
        }
      ]
    },
    {
      "cell_type": "code",
      "source": [
        "True + 7"
      ],
      "metadata": {
        "colab": {
          "base_uri": "https://localhost:8080/"
        },
        "id": "pTVj0eT6cflZ",
        "outputId": "ccbfdc1a-6678-4e55-9df1-0169d5f2e29a"
      },
      "execution_count": null,
      "outputs": [
        {
          "output_type": "execute_result",
          "data": {
            "text/plain": [
              "8"
            ]
          },
          "metadata": {},
          "execution_count": 114
        }
      ]
    },
    {
      "cell_type": "code",
      "source": [
        "False + 7"
      ],
      "metadata": {
        "colab": {
          "base_uri": "https://localhost:8080/"
        },
        "id": "wILPYl16ctq1",
        "outputId": "8c69f7c1-01af-4afb-c35e-2c215be15a3e"
      },
      "execution_count": null,
      "outputs": [
        {
          "output_type": "execute_result",
          "data": {
            "text/plain": [
              "7"
            ]
          },
          "metadata": {},
          "execution_count": 116
        }
      ]
    },
    {
      "cell_type": "code",
      "source": [
        "None * 5"
      ],
      "metadata": {
        "colab": {
          "base_uri": "https://localhost:8080/",
          "height": 166
        },
        "id": "S427Os9xcvK1",
        "outputId": "7996988b-3259-44bd-cbe0-2438e8ac3a16"
      },
      "execution_count": null,
      "outputs": [
        {
          "output_type": "error",
          "ename": "TypeError",
          "evalue": "ignored",
          "traceback": [
            "\u001b[0;31m---------------------------------------------------------------------------\u001b[0m",
            "\u001b[0;31mTypeError\u001b[0m                                 Traceback (most recent call last)",
            "\u001b[0;32m<ipython-input-118-00d4fa949a7c>\u001b[0m in \u001b[0;36m<cell line: 1>\u001b[0;34m()\u001b[0m\n\u001b[0;32m----> 1\u001b[0;31m \u001b[0;32mNone\u001b[0m \u001b[0;34m*\u001b[0m \u001b[0;36m5\u001b[0m\u001b[0;34m\u001b[0m\u001b[0;34m\u001b[0m\u001b[0m\n\u001b[0m",
            "\u001b[0;31mTypeError\u001b[0m: unsupported operand type(s) for *: 'NoneType' and 'int'"
          ]
        }
      ]
    },
    {
      "cell_type": "code",
      "source": [
        "None == 0"
      ],
      "metadata": {
        "colab": {
          "base_uri": "https://localhost:8080/"
        },
        "id": "7ATZ2p4SdC96",
        "outputId": "b0775a27-aa99-4b00-e5c3-f4b7b744129c"
      },
      "execution_count": null,
      "outputs": [
        {
          "output_type": "execute_result",
          "data": {
            "text/plain": [
              "False"
            ]
          },
          "metadata": {},
          "execution_count": 119
        }
      ]
    },
    {
      "cell_type": "markdown",
      "source": [
        "## função input e conversões de tipo"
      ],
      "metadata": {
        "id": "qpDpvL68drsn"
      }
    },
    {
      "cell_type": "code",
      "source": [
        "print(\"Qualquer coisa\")"
      ],
      "metadata": {
        "colab": {
          "base_uri": "https://localhost:8080/"
        },
        "id": "Ciqn-_eRdRyo",
        "outputId": "680a8d70-811e-4803-c9a1-5890f3bf62ed"
      },
      "execution_count": null,
      "outputs": [
        {
          "output_type": "stream",
          "name": "stdout",
          "text": [
            "Qualquer coisa\n"
          ]
        }
      ]
    },
    {
      "cell_type": "code",
      "source": [
        "type(\"Qualquer coisa\")"
      ],
      "metadata": {
        "colab": {
          "base_uri": "https://localhost:8080/"
        },
        "id": "wd6x_Txfd2mD",
        "outputId": "a3cba5ba-a780-41a2-a21d-d632743fb333"
      },
      "execution_count": null,
      "outputs": [
        {
          "output_type": "execute_result",
          "data": {
            "text/plain": [
              "str"
            ]
          },
          "metadata": {},
          "execution_count": 121
        }
      ]
    },
    {
      "cell_type": "code",
      "source": [
        "retorno = input(\"Digite um número: \")"
      ],
      "metadata": {
        "colab": {
          "base_uri": "https://localhost:8080/"
        },
        "id": "lulFmI2Ad5Tm",
        "outputId": "60b93f44-7d7c-49f1-b362-c6275e91256f"
      },
      "execution_count": null,
      "outputs": [
        {
          "name": "stdout",
          "output_type": "stream",
          "text": [
            "Digite um número: 27\n"
          ]
        }
      ]
    },
    {
      "cell_type": "code",
      "source": [
        "retorno"
      ],
      "metadata": {
        "colab": {
          "base_uri": "https://localhost:8080/",
          "height": 35
        },
        "id": "zIdGo9BQeMXZ",
        "outputId": "9e2b1fbf-3662-4735-fbb9-a14fc1fd51e7"
      },
      "execution_count": null,
      "outputs": [
        {
          "output_type": "execute_result",
          "data": {
            "text/plain": [
              "'27'"
            ],
            "application/vnd.google.colaboratory.intrinsic+json": {
              "type": "string"
            }
          },
          "metadata": {},
          "execution_count": 2
        }
      ]
    },
    {
      "cell_type": "code",
      "source": [
        "type(retorno)"
      ],
      "metadata": {
        "colab": {
          "base_uri": "https://localhost:8080/"
        },
        "id": "wAuZPqWwexik",
        "outputId": "2b52eb57-9703-44c8-d915-f482e3980bbc"
      },
      "execution_count": null,
      "outputs": [
        {
          "output_type": "execute_result",
          "data": {
            "text/plain": [
              "str"
            ]
          },
          "metadata": {},
          "execution_count": 4
        }
      ]
    },
    {
      "cell_type": "code",
      "source": [
        "retorno + 2"
      ],
      "metadata": {
        "colab": {
          "base_uri": "https://localhost:8080/",
          "height": 166
        },
        "id": "KPGdVK7OeZd7",
        "outputId": "59def468-0ef8-472c-a230-003f9d507175"
      },
      "execution_count": null,
      "outputs": [
        {
          "output_type": "error",
          "ename": "TypeError",
          "evalue": "ignored",
          "traceback": [
            "\u001b[0;31m---------------------------------------------------------------------------\u001b[0m",
            "\u001b[0;31mTypeError\u001b[0m                                 Traceback (most recent call last)",
            "\u001b[0;32m<ipython-input-3-f36a6f4f8e9b>\u001b[0m in \u001b[0;36m<cell line: 1>\u001b[0;34m()\u001b[0m\n\u001b[0;32m----> 1\u001b[0;31m \u001b[0mretorno\u001b[0m \u001b[0;34m+\u001b[0m \u001b[0;36m2\u001b[0m\u001b[0;34m\u001b[0m\u001b[0;34m\u001b[0m\u001b[0m\n\u001b[0m",
            "\u001b[0;31mTypeError\u001b[0m: can only concatenate str (not \"int\") to str"
          ]
        }
      ]
    },
    {
      "cell_type": "code",
      "source": [
        "retorno"
      ],
      "metadata": {
        "colab": {
          "base_uri": "https://localhost:8080/",
          "height": 35
        },
        "id": "tdronOPuei1s",
        "outputId": "ad4261e6-4624-4795-e697-6afbd9dc4ae9"
      },
      "execution_count": null,
      "outputs": [
        {
          "output_type": "execute_result",
          "data": {
            "text/plain": [
              "'27'"
            ],
            "application/vnd.google.colaboratory.intrinsic+json": {
              "type": "string"
            }
          },
          "metadata": {},
          "execution_count": 5
        }
      ]
    },
    {
      "cell_type": "code",
      "source": [
        "int(retorno)"
      ],
      "metadata": {
        "colab": {
          "base_uri": "https://localhost:8080/"
        },
        "id": "zrH4OY_De79w",
        "outputId": "974ca7fe-5323-43dc-8fa4-509420eca4f7"
      },
      "execution_count": null,
      "outputs": [
        {
          "output_type": "execute_result",
          "data": {
            "text/plain": [
              "27"
            ]
          },
          "metadata": {},
          "execution_count": 6
        }
      ]
    },
    {
      "cell_type": "code",
      "source": [
        "retorno = int(input(\"Digite um número: \"))"
      ],
      "metadata": {
        "colab": {
          "base_uri": "https://localhost:8080/"
        },
        "id": "3vaL_n0Xe-bP",
        "outputId": "bc0b59b2-10eb-499f-f507-181295e660c6"
      },
      "execution_count": null,
      "outputs": [
        {
          "name": "stdout",
          "output_type": "stream",
          "text": [
            "Digite um número: 50\n"
          ]
        }
      ]
    },
    {
      "cell_type": "code",
      "source": [
        "retorno"
      ],
      "metadata": {
        "colab": {
          "base_uri": "https://localhost:8080/"
        },
        "id": "CyLKhJxgfIOi",
        "outputId": "201b9de4-9476-4bbd-b3d3-29d40d166d94"
      },
      "execution_count": null,
      "outputs": [
        {
          "output_type": "execute_result",
          "data": {
            "text/plain": [
              "50"
            ]
          },
          "metadata": {},
          "execution_count": 8
        }
      ]
    },
    {
      "cell_type": "code",
      "source": [
        "10/2"
      ],
      "metadata": {
        "colab": {
          "base_uri": "https://localhost:8080/"
        },
        "id": "CU056hvlfNJx",
        "outputId": "aa1b0fa3-8f34-4422-ed5b-aafaf675336a"
      },
      "execution_count": null,
      "outputs": [
        {
          "output_type": "execute_result",
          "data": {
            "text/plain": [
              "5.0"
            ]
          },
          "metadata": {},
          "execution_count": 9
        }
      ]
    },
    {
      "cell_type": "code",
      "source": [
        "int(10/2)"
      ],
      "metadata": {
        "colab": {
          "base_uri": "https://localhost:8080/"
        },
        "id": "iRmWNQ3IfS33",
        "outputId": "65c9fd3a-1f1c-4d7a-a91e-c6c5eecf8199"
      },
      "execution_count": null,
      "outputs": [
        {
          "output_type": "execute_result",
          "data": {
            "text/plain": [
              "5"
            ]
          },
          "metadata": {},
          "execution_count": 10
        }
      ]
    },
    {
      "cell_type": "code",
      "source": [
        "int(10/3)"
      ],
      "metadata": {
        "colab": {
          "base_uri": "https://localhost:8080/"
        },
        "id": "eKxtGUdzfVRQ",
        "outputId": "ef6c1b58-68fa-4669-9dca-e3c0c59cdc36"
      },
      "execution_count": null,
      "outputs": [
        {
          "output_type": "execute_result",
          "data": {
            "text/plain": [
              "3"
            ]
          },
          "metadata": {},
          "execution_count": 11
        }
      ]
    },
    {
      "cell_type": "code",
      "source": [
        "int(4.99999999999)"
      ],
      "metadata": {
        "colab": {
          "base_uri": "https://localhost:8080/"
        },
        "id": "zEYlXk8_fXUl",
        "outputId": "3a2e458b-254d-4fc0-9cb7-b8e6d94bf487"
      },
      "execution_count": null,
      "outputs": [
        {
          "output_type": "execute_result",
          "data": {
            "text/plain": [
              "4"
            ]
          },
          "metadata": {},
          "execution_count": 13
        }
      ]
    },
    {
      "cell_type": "code",
      "source": [
        "float(5)"
      ],
      "metadata": {
        "colab": {
          "base_uri": "https://localhost:8080/"
        },
        "id": "lVHVlK2XfZUb",
        "outputId": "b398b5b6-00f5-4afa-a599-197b1d84851c"
      },
      "execution_count": null,
      "outputs": [
        {
          "output_type": "execute_result",
          "data": {
            "text/plain": [
              "5.0"
            ]
          },
          "metadata": {},
          "execution_count": 14
        }
      ]
    },
    {
      "cell_type": "code",
      "source": [
        "retorno = float(input(\"Digite um número: \"))"
      ],
      "metadata": {
        "colab": {
          "base_uri": "https://localhost:8080/",
          "height": 184
        },
        "id": "M_zBzT7KfjT7",
        "outputId": "8d7df2df-dd65-42c1-84f7-340203e911d6"
      },
      "execution_count": null,
      "outputs": [
        {
          "name": "stdout",
          "output_type": "stream",
          "text": [
            "Digite um número: 5+10\n"
          ]
        },
        {
          "output_type": "error",
          "ename": "ValueError",
          "evalue": "ignored",
          "traceback": [
            "\u001b[0;31m---------------------------------------------------------------------------\u001b[0m",
            "\u001b[0;31mValueError\u001b[0m                                Traceback (most recent call last)",
            "\u001b[0;32m<ipython-input-26-10c39c26e9f3>\u001b[0m in \u001b[0;36m<cell line: 1>\u001b[0;34m()\u001b[0m\n\u001b[0;32m----> 1\u001b[0;31m \u001b[0mretorno\u001b[0m \u001b[0;34m=\u001b[0m \u001b[0mfloat\u001b[0m\u001b[0;34m(\u001b[0m\u001b[0minput\u001b[0m\u001b[0;34m(\u001b[0m\u001b[0;34m\"Digite um número: \"\u001b[0m\u001b[0;34m)\u001b[0m\u001b[0;34m)\u001b[0m\u001b[0;34m\u001b[0m\u001b[0;34m\u001b[0m\u001b[0m\n\u001b[0m",
            "\u001b[0;31mValueError\u001b[0m: could not convert string to float: '5+10'"
          ]
        }
      ]
    },
    {
      "cell_type": "code",
      "source": [
        "retorno"
      ],
      "metadata": {
        "colab": {
          "base_uri": "https://localhost:8080/"
        },
        "id": "jJyECvGMfmop",
        "outputId": "c5547617-442f-46ba-97e3-6c79ee73f24c"
      },
      "execution_count": null,
      "outputs": [
        {
          "output_type": "execute_result",
          "data": {
            "text/plain": [
              "9.0"
            ]
          },
          "metadata": {},
          "execution_count": 27
        }
      ]
    },
    {
      "cell_type": "code",
      "source": [
        "3.0*2"
      ],
      "metadata": {
        "colab": {
          "base_uri": "https://localhost:8080/"
        },
        "id": "NWBiKTWbfoaX",
        "outputId": "e2ef7894-063b-4867-dcc2-0bdf996cf191"
      },
      "execution_count": null,
      "outputs": [
        {
          "output_type": "execute_result",
          "data": {
            "text/plain": [
              "6.0"
            ]
          },
          "metadata": {},
          "execution_count": 25
        }
      ]
    },
    {
      "cell_type": "code",
      "source": [
        "float(int(3.14))"
      ],
      "metadata": {
        "colab": {
          "base_uri": "https://localhost:8080/"
        },
        "id": "fiMr3yTOgCjV",
        "outputId": "f6a9267c-a06c-4b75-d7b1-a97b4f44ec98"
      },
      "execution_count": null,
      "outputs": [
        {
          "output_type": "execute_result",
          "data": {
            "text/plain": [
              "3.0"
            ]
          },
          "metadata": {},
          "execution_count": 28
        }
      ]
    },
    {
      "cell_type": "code",
      "source": [
        "idade = 22"
      ],
      "metadata": {
        "id": "ph5JMhX1hPsl"
      },
      "execution_count": null,
      "outputs": []
    },
    {
      "cell_type": "code",
      "source": [
        "print(\"Adriele tem \" + str(idade) + \" anos\")"
      ],
      "metadata": {
        "colab": {
          "base_uri": "https://localhost:8080/"
        },
        "id": "ywR9BtmyhRkR",
        "outputId": "b5bf9929-6266-4cb5-b06f-551f9b3f315b"
      },
      "execution_count": null,
      "outputs": [
        {
          "output_type": "stream",
          "name": "stdout",
          "text": [
            "Adriele tem 22 anos\n"
          ]
        }
      ]
    },
    {
      "cell_type": "code",
      "source": [
        "num1 = int(input(\"Digite um número: \"))\n",
        "num2 = int(input(\"Digite outro número: \"))\n",
        "print(\"A soma é: \")\n",
        "print(num1 + num2)"
      ],
      "metadata": {
        "colab": {
          "base_uri": "https://localhost:8080/"
        },
        "id": "IMWu7V9zgPlQ",
        "outputId": "e4b2fc8a-58fd-4085-e7ed-c8fccd1433d2"
      },
      "execution_count": null,
      "outputs": [
        {
          "output_type": "stream",
          "name": "stdout",
          "text": [
            "Digite um número: 20\n",
            "Digite outro número: 10\n",
            "A soma é: \n",
            "30\n"
          ]
        }
      ]
    },
    {
      "cell_type": "markdown",
      "source": [
        "## Exercícios sobre variáveis, tipos, entradas e operações"
      ],
      "metadata": {
        "id": "0olKUiCrgv-a"
      }
    },
    {
      "cell_type": "code",
      "source": [
        "nome = \"Thiago\"\n",
        "idade = 30\n",
        "print(f\"O {nome} tem {idade} anos de idade.\")"
      ],
      "metadata": {
        "colab": {
          "base_uri": "https://localhost:8080/"
        },
        "id": "MCJ4cEbgPz4S",
        "outputId": "0b51df4c-b0d2-438e-f6ec-184c9f2e99d7"
      },
      "execution_count": null,
      "outputs": [
        {
          "output_type": "stream",
          "name": "stdout",
          "text": [
            "O Thiago tem 30 anos de idade.\n"
          ]
        }
      ]
    },
    {
      "cell_type": "code",
      "source": [
        "round(3.14159265358979323846, 5)"
      ],
      "metadata": {
        "colab": {
          "base_uri": "https://localhost:8080/"
        },
        "id": "nPqLNTLYRDqs",
        "outputId": "a78c8728-cc84-429b-903d-49759f9e0452"
      },
      "execution_count": null,
      "outputs": [
        {
          "output_type": "execute_result",
          "data": {
            "text/plain": [
              "3.14159"
            ]
          },
          "metadata": {},
          "execution_count": 6
        }
      ]
    },
    {
      "cell_type": "code",
      "source": [
        "pi = 3.14159265358979323846\n",
        "alfa = 5.7482014892013821\n",
        "print(f\"O valor de pi é {round(pi, 2)} e o de alfa é {round(alfa, 2)}\")"
      ],
      "metadata": {
        "colab": {
          "base_uri": "https://localhost:8080/"
        },
        "id": "WvXr5uRvQbkr",
        "outputId": "f39b6259-9c53-4e72-c7b6-f879511584cc"
      },
      "execution_count": null,
      "outputs": [
        {
          "output_type": "stream",
          "name": "stdout",
          "text": [
            "O valor de pi é 3.14 e o de alfa é 5.75\n"
          ]
        }
      ]
    },
    {
      "cell_type": "code",
      "source": [
        "int(5.9999)"
      ],
      "metadata": {
        "colab": {
          "base_uri": "https://localhost:8080/"
        },
        "id": "WhyIK__3SVSf",
        "outputId": "80af1f14-2c97-414e-a996-fd7b553bf0af"
      },
      "execution_count": null,
      "outputs": [
        {
          "output_type": "execute_result",
          "data": {
            "text/plain": [
              "5"
            ]
          },
          "metadata": {},
          "execution_count": 19
        }
      ]
    },
    {
      "cell_type": "code",
      "source": [
        "num = 3.55\n",
        "round(num, 1)"
      ],
      "metadata": {
        "colab": {
          "base_uri": "https://localhost:8080/"
        },
        "id": "Jw0Dwg86RjAX",
        "outputId": "9b0c550c-1710-43e3-e04e-935748444302"
      },
      "execution_count": null,
      "outputs": [
        {
          "output_type": "execute_result",
          "data": {
            "text/plain": [
              "3.5"
            ]
          },
          "metadata": {},
          "execution_count": 14
        }
      ]
    },
    {
      "cell_type": "markdown",
      "source": [
        "1. Crie um programa que receba seu nome e te dê boas vindas!"
      ],
      "metadata": {
        "id": "MW55lGUMg2Nh"
      }
    },
    {
      "cell_type": "code",
      "source": [
        "nome = input(\"Insira seu nome\")\n",
        "print(f\"Bem vindo(a) {nome}\")"
      ],
      "metadata": {
        "colab": {
          "base_uri": "https://localhost:8080/"
        },
        "id": "h6-sLhfzPfN_",
        "outputId": "29639c97-3900-451a-9979-5d9e2933cfa1"
      },
      "execution_count": null,
      "outputs": [
        {
          "output_type": "stream",
          "name": "stdout",
          "text": [
            "Insira seu nomeThiago\n",
            "Bem vindo(a) Thiago\n"
          ]
        }
      ]
    },
    {
      "cell_type": "markdown",
      "source": [
        "2. Crie um cadastro que receba nome, telefone e retorne-os em tela ao final da execução."
      ],
      "metadata": {
        "id": "rNRejKPgg1ut"
      }
    },
    {
      "cell_type": "code",
      "source": [
        "Cadastro = print(\"Nome: \" + (input(\"Digite seu nome: \")+ \", Telefone: \"+ (input(\"Digite seu telefone: \") )))"
      ],
      "metadata": {
        "colab": {
          "base_uri": "https://localhost:8080/"
        },
        "id": "gpHgau-bPhgV",
        "outputId": "107f0404-ffb4-45c5-a5d6-c38cf583e033"
      },
      "execution_count": null,
      "outputs": [
        {
          "output_type": "stream",
          "name": "stdout",
          "text": [
            "Digite seu nome: Thiago\n",
            "Digite seu telefone: 12345\n",
            "Nome: Thiago, Telefone: 12345\n"
          ]
        }
      ]
    },
    {
      "cell_type": "code",
      "source": [
        "print(\"Ele disse: \\\\\\\"eu amo Python\\\"\")"
      ],
      "metadata": {
        "colab": {
          "base_uri": "https://localhost:8080/"
        },
        "id": "iFzndQoITaBz",
        "outputId": "2155f7a8-24f9-433d-a168-6c4bdd798bfa"
      },
      "execution_count": null,
      "outputs": [
        {
          "output_type": "stream",
          "name": "stdout",
          "text": [
            "Ele disse: \\\"eu amo Python\"\n"
          ]
        }
      ]
    },
    {
      "cell_type": "code",
      "source": [
        "a = f\"\"\"\n",
        "  Linha {pi}\n",
        "  Linha 2\n",
        "  Linha {alfa}\n",
        "\"\"\"\n",
        "\n",
        "print(a)"
      ],
      "metadata": {
        "colab": {
          "base_uri": "https://localhost:8080/"
        },
        "id": "hCvCL0f7UhQV",
        "outputId": "317b48dc-cc4c-48c3-fab5-32473f354153"
      },
      "execution_count": null,
      "outputs": [
        {
          "output_type": "stream",
          "name": "stdout",
          "text": [
            "\n",
            "  Linha 3.141592653589793\n",
            "  Linha 2\n",
            "  Linha 5.748201489201382\n",
            "\n"
          ]
        }
      ]
    },
    {
      "cell_type": "code",
      "source": [
        "print(\"Linha 1\\nLinha 2\")"
      ],
      "metadata": {
        "colab": {
          "base_uri": "https://localhost:8080/"
        },
        "id": "gAEcGR9GUJB7",
        "outputId": "53b182e4-038e-4dca-b711-c18a12a29984"
      },
      "execution_count": null,
      "outputs": [
        {
          "output_type": "stream",
          "name": "stdout",
          "text": [
            "Linha 1\n",
            "Linha 2\n"
          ]
        }
      ]
    },
    {
      "cell_type": "code",
      "source": [
        "nome = \"Thiago\"\n",
        "idade = 22\n",
        "print(\"O \", nome, \" tem \", idade, \" anos\")"
      ],
      "metadata": {
        "colab": {
          "base_uri": "https://localhost:8080/"
        },
        "id": "FLIsU44KU4zQ",
        "outputId": "6fd1492e-4433-43cb-93da-4d9ce33f2919"
      },
      "execution_count": null,
      "outputs": [
        {
          "output_type": "stream",
          "name": "stdout",
          "text": [
            "O  Thiago  tem  22  anos\n"
          ]
        }
      ]
    },
    {
      "cell_type": "markdown",
      "source": [
        "3. Crie um programa que receba altura e peso e retorne o IMC."
      ],
      "metadata": {
        "id": "4AHapVK8hDJ8"
      }
    },
    {
      "cell_type": "code",
      "source": [
        "peso = float(input(\"Informe o seu peso: \"))\n",
        "altura = float(input(\"Informe a sua altura: \"))\n",
        "imc = peso / altura ** 2\n",
        "print(\"o seu imc = \" + str(imc))"
      ],
      "metadata": {
        "colab": {
          "base_uri": "https://localhost:8080/"
        },
        "id": "Ze5kUyv6Ph4h",
        "outputId": "0b9b3270-1bd1-49fc-f59e-3f53feee79f6"
      },
      "execution_count": null,
      "outputs": [
        {
          "output_type": "stream",
          "name": "stdout",
          "text": [
            "Informe o seu peso: 71\n",
            "Informe a sua altura: 1.71\n",
            "o seu imc = 24.280975342840534\n"
          ]
        }
      ]
    },
    {
      "cell_type": "code",
      "source": [
        "a + (b + (c + d)) + e"
      ],
      "metadata": {
        "id": "fMk0DmSdV9D_"
      },
      "execution_count": null,
      "outputs": []
    },
    {
      "cell_type": "markdown",
      "source": [
        "4. Construa um programa que receba uma idade e um nome e imprima uma saída do tipo: \"Adriele tem 22 anos.\"."
      ],
      "metadata": {
        "id": "USKmbWPIhIAL"
      }
    },
    {
      "cell_type": "code",
      "source": [],
      "metadata": {
        "id": "vyA9YVPYPiR4"
      },
      "execution_count": null,
      "outputs": []
    },
    {
      "cell_type": "markdown",
      "source": [
        "5. Construa um programa que receba uma idade e um nome e imprima uma saída do tipo: \"Adriele tem 22 anos.\". No entanto, desta vez considere a idade que o usuário terá daqui há 15 anos, e não a idade que o usuário tem no momento da execução do programa."
      ],
      "metadata": {
        "id": "mEPuhShJhLxR"
      }
    },
    {
      "cell_type": "code",
      "source": [],
      "metadata": {
        "id": "yrUrCrgThAEy"
      },
      "execution_count": null,
      "outputs": []
    },
    {
      "cell_type": "markdown",
      "source": [
        "## Estruturas condicionais"
      ],
      "metadata": {
        "id": "7gvOvQCYWY3G"
      }
    },
    {
      "cell_type": "code",
      "source": [
        "a = 10\n",
        "b = 20"
      ],
      "metadata": {
        "id": "c3q8E5jeWbwQ"
      },
      "execution_count": null,
      "outputs": []
    },
    {
      "cell_type": "code",
      "source": [
        "a == b"
      ],
      "metadata": {
        "colab": {
          "base_uri": "https://localhost:8080/"
        },
        "id": "2MXROUDXWuXz",
        "outputId": "efc4ccc5-f0c3-4b76-b048-5cab7313acc4"
      },
      "execution_count": null,
      "outputs": [
        {
          "output_type": "execute_result",
          "data": {
            "text/plain": [
              "False"
            ]
          },
          "metadata": {},
          "execution_count": 36
        }
      ]
    },
    {
      "cell_type": "code",
      "source": [
        "a != b"
      ],
      "metadata": {
        "colab": {
          "base_uri": "https://localhost:8080/"
        },
        "id": "ii1ZyzFLW0JD",
        "outputId": "025780dd-193b-4bc8-fe1b-ea517131507e"
      },
      "execution_count": null,
      "outputs": [
        {
          "output_type": "execute_result",
          "data": {
            "text/plain": [
              "True"
            ]
          },
          "metadata": {},
          "execution_count": 37
        }
      ]
    },
    {
      "cell_type": "code",
      "source": [
        "a > b"
      ],
      "metadata": {
        "colab": {
          "base_uri": "https://localhost:8080/"
        },
        "id": "dZ3DQxTKW19Q",
        "outputId": "27eadf53-6a17-457e-d953-c0c9024eef56"
      },
      "execution_count": null,
      "outputs": [
        {
          "output_type": "execute_result",
          "data": {
            "text/plain": [
              "False"
            ]
          },
          "metadata": {},
          "execution_count": 38
        }
      ]
    },
    {
      "cell_type": "code",
      "source": [
        "a >= b"
      ],
      "metadata": {
        "colab": {
          "base_uri": "https://localhost:8080/"
        },
        "id": "DFzI5j4YW3a6",
        "outputId": "8e7c0dba-97af-497f-ce7f-474fe3e17197"
      },
      "execution_count": null,
      "outputs": [
        {
          "output_type": "execute_result",
          "data": {
            "text/plain": [
              "False"
            ]
          },
          "metadata": {},
          "execution_count": 39
        }
      ]
    },
    {
      "cell_type": "code",
      "source": [
        "a < b"
      ],
      "metadata": {
        "colab": {
          "base_uri": "https://localhost:8080/"
        },
        "id": "zMUV2kQMW5Ij",
        "outputId": "6a6b7ed5-10f8-4272-e989-57f641fccc0a"
      },
      "execution_count": null,
      "outputs": [
        {
          "output_type": "execute_result",
          "data": {
            "text/plain": [
              "True"
            ]
          },
          "metadata": {},
          "execution_count": 40
        }
      ]
    },
    {
      "cell_type": "code",
      "source": [
        "a <= b"
      ],
      "metadata": {
        "colab": {
          "base_uri": "https://localhost:8080/"
        },
        "id": "QzH3R9zrW6qT",
        "outputId": "657ddb7f-cfb4-4ffa-8bb6-e1275b910913"
      },
      "execution_count": null,
      "outputs": [
        {
          "output_type": "execute_result",
          "data": {
            "text/plain": [
              "True"
            ]
          },
          "metadata": {},
          "execution_count": 41
        }
      ]
    },
    {
      "cell_type": "code",
      "source": [
        "palavra1 = \"paralelepípedo\"\n",
        "palavra2 = 'para'"
      ],
      "metadata": {
        "id": "W6-mUHo5XBDQ"
      },
      "execution_count": null,
      "outputs": []
    },
    {
      "cell_type": "code",
      "source": [
        "palavra1 == palavra2"
      ],
      "metadata": {
        "colab": {
          "base_uri": "https://localhost:8080/"
        },
        "id": "vMyMUWq7XSKi",
        "outputId": "b64be8c7-fbb1-4062-f8f6-36e6e4bd3073"
      },
      "execution_count": null,
      "outputs": [
        {
          "output_type": "execute_result",
          "data": {
            "text/plain": [
              "False"
            ]
          },
          "metadata": {},
          "execution_count": 43
        }
      ]
    },
    {
      "cell_type": "code",
      "source": [
        "palavra1 > palavra2"
      ],
      "metadata": {
        "colab": {
          "base_uri": "https://localhost:8080/"
        },
        "id": "6LZdLOzrXVZ-",
        "outputId": "ea4ce93e-31c8-4c88-9a65-27115f63ab7c"
      },
      "execution_count": null,
      "outputs": [
        {
          "output_type": "execute_result",
          "data": {
            "text/plain": [
              "True"
            ]
          },
          "metadata": {},
          "execution_count": 44
        }
      ]
    },
    {
      "cell_type": "code",
      "source": [
        "palavra2 in palavra1"
      ],
      "metadata": {
        "colab": {
          "base_uri": "https://localhost:8080/"
        },
        "id": "4Fu82EcpXYiF",
        "outputId": "6ab9ebe0-8f2b-482d-ba4b-2845a20dad9f"
      },
      "execution_count": null,
      "outputs": [
        {
          "output_type": "execute_result",
          "data": {
            "text/plain": [
              "True"
            ]
          },
          "metadata": {},
          "execution_count": 45
        }
      ]
    },
    {
      "cell_type": "code",
      "source": [
        "\"ela\" in \"elefante\""
      ],
      "metadata": {
        "colab": {
          "base_uri": "https://localhost:8080/"
        },
        "id": "ErCH9TImX1Ub",
        "outputId": "dd8448c3-e61e-4947-ee0b-0a888613b279"
      },
      "execution_count": null,
      "outputs": [
        {
          "output_type": "execute_result",
          "data": {
            "text/plain": [
              "False"
            ]
          },
          "metadata": {},
          "execution_count": 47
        }
      ]
    },
    {
      "cell_type": "code",
      "source": [
        "\"1\" == 1"
      ],
      "metadata": {
        "colab": {
          "base_uri": "https://localhost:8080/"
        },
        "id": "xCPhj_xEX6go",
        "outputId": "e9eb24c0-92e6-421a-cb21-16242d1e1a8f"
      },
      "execution_count": null,
      "outputs": [
        {
          "output_type": "execute_result",
          "data": {
            "text/plain": [
              "False"
            ]
          },
          "metadata": {},
          "execution_count": 48
        }
      ]
    },
    {
      "cell_type": "code",
      "source": [
        "# if\n",
        "# elif\n",
        "# else"
      ],
      "metadata": {
        "id": "xlziS-S_YZub"
      },
      "execution_count": null,
      "outputs": []
    },
    {
      "cell_type": "code",
      "source": [
        "num = 6\n",
        "if num > 6:\n",
        "  print(\"Número é maior que 6!\")\n",
        "  print(\"E é maior mesmo!!\")\n",
        "else:\n",
        "  print(\"Número é menor que 6!\")"
      ],
      "metadata": {
        "colab": {
          "base_uri": "https://localhost:8080/"
        },
        "id": "Xx8dosp7Yq4W",
        "outputId": "d11c07db-43a3-4078-f374-dad03dd0cb0a"
      },
      "execution_count": null,
      "outputs": [
        {
          "output_type": "stream",
          "name": "stdout",
          "text": [
            "Número é menor que 6!\n"
          ]
        }
      ]
    },
    {
      "cell_type": "code",
      "source": [
        "num = int(input(\"Digite um número: \"))\n",
        "\n",
        "if num > 6:\n",
        "  print(\"Número é maior que 6!\")\n",
        "  print(\"E é maior mesmo!!\")\n",
        "\n",
        "if num < 6:\n",
        "  print(\"Número é menor que 6!\")\n",
        "else:\n",
        "  print(\"Número é exatamente igual a 6!\")"
      ],
      "metadata": {
        "colab": {
          "base_uri": "https://localhost:8080/"
        },
        "id": "eKn7ItmQZTfw",
        "outputId": "4f13a15c-5fe3-49de-c6aa-dfa5f1d113fb"
      },
      "execution_count": null,
      "outputs": [
        {
          "output_type": "stream",
          "name": "stdout",
          "text": [
            "Digite um número: 10\n",
            "Número é maior que 6!\n",
            "E é maior mesmo!!\n",
            "Número é exatamente igual a 6!\n"
          ]
        }
      ]
    },
    {
      "cell_type": "code",
      "source": [
        "num = int(input(\"Digite um número: \"))\n",
        "if num > 6:\n",
        "  print(\"Número é maior que 6!\")\n",
        "else:\n",
        "  if num < 6:\n",
        "    print(\"Número menor que 6\")\n",
        "  else:\n",
        "    print(\"Exatamente igual a 6\")"
      ],
      "metadata": {
        "colab": {
          "base_uri": "https://localhost:8080/"
        },
        "id": "cDSXRfevZ4Hz",
        "outputId": "91e400ae-d701-43ff-f97b-e8d02a9a5c54"
      },
      "execution_count": null,
      "outputs": [
        {
          "output_type": "stream",
          "name": "stdout",
          "text": [
            "Digite um número: 6\n",
            "Exatamente igual a 6\n"
          ]
        }
      ]
    },
    {
      "cell_type": "code",
      "source": [
        "nome = \"thiago\"\n",
        "if \"r\" in nome:\n",
        "  print(\"Temos um h no nome.\")\n",
        "print(\"Fim\")"
      ],
      "metadata": {
        "colab": {
          "base_uri": "https://localhost:8080/"
        },
        "id": "ZonOO1roafAF",
        "outputId": "3f81ecdd-2aa7-4b1c-a4d5-84728863add2"
      },
      "execution_count": null,
      "outputs": [
        {
          "output_type": "stream",
          "name": "stdout",
          "text": [
            "Fim\n"
          ]
        }
      ]
    },
    {
      "cell_type": "code",
      "source": [
        "numero = 10\n",
        "maior_que_8 = \"sim\" if numero > 8 else \"não\""
      ],
      "metadata": {
        "id": "8BQBXvxsa4x8"
      },
      "execution_count": null,
      "outputs": []
    },
    {
      "cell_type": "code",
      "source": [
        "maior_que_8"
      ],
      "metadata": {
        "colab": {
          "base_uri": "https://localhost:8080/",
          "height": 35
        },
        "id": "f4JLzDQhbH_3",
        "outputId": "1a339e64-7e29-4960-bbf9-eafa7c3b01f8"
      },
      "execution_count": null,
      "outputs": [
        {
          "output_type": "execute_result",
          "data": {
            "text/plain": [
              "'sim'"
            ],
            "application/vnd.google.colaboratory.intrinsic+json": {
              "type": "string"
            }
          },
          "metadata": {},
          "execution_count": 65
        }
      ]
    },
    {
      "cell_type": "code",
      "source": [
        "nome = \"Veldir\"\n",
        "\n",
        "if \"a\" in nome:\n",
        "  print(\"Temos A\")\n",
        "elif \"b\" in nome:\n",
        "  print(\"Não temos A, mas temos B\")\n",
        "elif \"c\" in nome:\n",
        "  print(\"Não temos A nem B, mas temos C\")\n",
        "else:\n",
        "  print(\"Não temos A, nem B, nem C.\")"
      ],
      "metadata": {
        "id": "BJLABZH6ccvE"
      },
      "execution_count": null,
      "outputs": []
    },
    {
      "cell_type": "code",
      "source": [
        "nome = \"veldir\"\n",
        "if \"a\" in nome or \"b\" in nome:\n",
        "  print(\"Temos a ou b no nome\")\n",
        "else:\n",
        "  print(\"Não temos nem a nem b no nome\")"
      ],
      "metadata": {
        "colab": {
          "base_uri": "https://localhost:8080/"
        },
        "id": "LNeToxtHdZq_",
        "outputId": "c4ffadcf-64f5-4e9e-931e-fb02d8903452"
      },
      "execution_count": null,
      "outputs": [
        {
          "output_type": "stream",
          "name": "stdout",
          "text": [
            "Não temos nem a nem b no nome\n"
          ]
        }
      ]
    },
    {
      "cell_type": "code",
      "source": [
        "nome = \"valbir\"\n",
        "if \"a\" in nome and \"b\" in nome:\n",
        "  print(\"Temos a e b no nome\")\n",
        "else:\n",
        "  print(\"Não temos a e b juntos no nome\")"
      ],
      "metadata": {
        "colab": {
          "base_uri": "https://localhost:8080/"
        },
        "id": "LjlEF9p_d0rf",
        "outputId": "bc75cac0-893a-4b95-f9b2-cb41694e230c"
      },
      "execution_count": null,
      "outputs": [
        {
          "output_type": "stream",
          "name": "stdout",
          "text": [
            "Temos a ou b no nome\n"
          ]
        }
      ]
    },
    {
      "cell_type": "code",
      "source": [
        "nome = \"veldi\"\n",
        "if (\"a\" in nome and \"b\" in nome) or \"r\" in nome:\n",
        "  print(\"Temos a e b no nome ou temos r no nome\")\n",
        "else:\n",
        "  print(\"Não é verdade que 'temos a e b no nome ou temos r no nome'\")"
      ],
      "metadata": {
        "colab": {
          "base_uri": "https://localhost:8080/"
        },
        "id": "w1Fag_W6eLhJ",
        "outputId": "8c8a4b69-cb9f-4729-950f-477ea49c7cb8"
      },
      "execution_count": null,
      "outputs": [
        {
          "output_type": "stream",
          "name": "stdout",
          "text": [
            "Não é verdade que 'temos a e b no nome ou temos r no nome'\n"
          ]
        }
      ]
    },
    {
      "cell_type": "code",
      "source": [
        "\"paralelo\".capitalize()"
      ],
      "metadata": {
        "colab": {
          "base_uri": "https://localhost:8080/",
          "height": 35
        },
        "id": "yLN9Vaw6fLbL",
        "outputId": "5f60fd24-5a10-4adc-a2c8-9b28886fd39f"
      },
      "execution_count": null,
      "outputs": [
        {
          "output_type": "execute_result",
          "data": {
            "text/plain": [
              "'Paralelo'"
            ],
            "application/vnd.google.colaboratory.intrinsic+json": {
              "type": "string"
            }
          },
          "metadata": {},
          "execution_count": 82
        }
      ]
    },
    {
      "cell_type": "code",
      "source": [
        "nome = \"thiago\""
      ],
      "metadata": {
        "id": "-TaczKXOfkD0"
      },
      "execution_count": null,
      "outputs": []
    },
    {
      "cell_type": "code",
      "source": [
        "nome.capitalize()"
      ],
      "metadata": {
        "colab": {
          "base_uri": "https://localhost:8080/",
          "height": 35
        },
        "id": "ujqddevOfmAU",
        "outputId": "f60c0532-44d7-40c6-e50f-f3e2fdf8515c"
      },
      "execution_count": null,
      "outputs": [
        {
          "output_type": "execute_result",
          "data": {
            "text/plain": [
              "'Thiago'"
            ],
            "application/vnd.google.colaboratory.intrinsic+json": {
              "type": "string"
            }
          },
          "metadata": {},
          "execution_count": 84
        }
      ]
    },
    {
      "cell_type": "markdown",
      "source": [
        "## Exercícios sobre estruturas condicionais"
      ],
      "metadata": {
        "id": "CXpOmMThCDHQ"
      }
    },
    {
      "cell_type": "markdown",
      "source": [
        "1. Faça um programa que receba o nome e a idade de um usuário e no final diga algo do tipo \"Thiago já está apto a tirar a sua habilitação de motorista e esta será válida até que ele complete 39 anos\". Considere 10 anos como o período de validade de uma habilitação no Brasil."
      ],
      "metadata": {
        "id": "EnJINs6-DO-t"
      }
    },
    {
      "cell_type": "code",
      "source": [],
      "metadata": {
        "id": "P29iJYnNCDL1"
      },
      "execution_count": null,
      "outputs": []
    },
    {
      "cell_type": "markdown",
      "source": [
        "2. Escreva um programa que recebe um número e diz se este é par ou ímpar"
      ],
      "metadata": {
        "id": "meP-Q2SACDQG"
      }
    },
    {
      "cell_type": "code",
      "source": [],
      "metadata": {
        "id": "sSRj0H0DCDUs"
      },
      "execution_count": null,
      "outputs": []
    },
    {
      "cell_type": "markdown",
      "source": [
        "3. Crie um programa que receba um número e imprima \"fuzz\" se o número for múltiplo de 3, \"buzz\" se deixar resto 1 na divisão por 3 e \"nada\" se deixar resto 2 na divisão por 3"
      ],
      "metadata": {
        "id": "Xk7dtrcdDmk_"
      }
    },
    {
      "cell_type": "code",
      "source": [],
      "metadata": {
        "id": "jsYQYQB8DnA6"
      },
      "execution_count": null,
      "outputs": []
    },
    {
      "cell_type": "markdown",
      "source": [
        "4. Crie um programa que recebe sua altura e peso, calcula o imc e retorna um status (abaixo do peso, no peso, acima do peso)."
      ],
      "metadata": {
        "id": "kroUj3jvDnjj"
      }
    },
    {
      "cell_type": "code",
      "source": [],
      "metadata": {
        "id": "8C0d3LLpDn1y"
      },
      "execution_count": null,
      "outputs": []
    },
    {
      "cell_type": "markdown",
      "source": [
        "5. Você quer pintar sua casa e está em dúvida entre as cores Azul, Vermelho e Magenta. Sabendo que a tinta Azul custa 25,00 reais por metro quadrado, Vermelho custa 35,00 reais por metro quadrado e Magenta custa 45,00 reais por metro quadrado, faça o seguinte:\n",
        "\n",
        "  a) Crie um programa que recebe metros quadrados da sua parede e a cor da tinta e então retorne quanto gastará com tinta.\n",
        "\n",
        "  b) Crie um programa que recebe largura, altura, número de paredes e a cor da tinta escolhida e então retorne quanto gastará com tinta."
      ],
      "metadata": {
        "id": "ZZVQJSh_DoMM"
      }
    },
    {
      "cell_type": "code",
      "source": [
        "custo_azul = 25\n",
        "custo_vermelho = 35\n",
        "custo_magenta = 45\n",
        "\n",
        "metros_quadrados = float(input(\"Digite a quantidade de metros quadrados da parede: \"))\n",
        "cor_desejada = input(\"Digite a cor da parede: \").lower()\n",
        "\n",
        "if cor_desejada == 'azul':\n",
        "  custo = custo_azul * metros_quadrados\n",
        "elif cor_desejada == 'vermelho':\n",
        "  custo = custo_vermelho * metros_quadrados\n",
        "elif cor_desejada == 'magenta':\n",
        "  custo = custo_magenta * metros_quadrados\n",
        "else:\n",
        "  custo_tinta = float(input(\"Não sei o custo dessa tinta. Informe por favor: \"))\n",
        "  custo = custo_tinta * metros_quadrados\n",
        "\n",
        "print(f\"Essa brincadeira vai custar {custo} reais.\")"
      ],
      "metadata": {
        "id": "H34xnUnKDoqR",
        "colab": {
          "base_uri": "https://localhost:8080/"
        },
        "outputId": "15f0e13c-eb48-4da2-f059-d1b2b5f0559e"
      },
      "execution_count": null,
      "outputs": [
        {
          "name": "stdout",
          "output_type": "stream",
          "text": [
            "Digite a quantidade de metros quadrados da parede: 10\n",
            "Digite a cor da parede: azul\n"
          ]
        }
      ]
    },
    {
      "cell_type": "code",
      "source": [
        "custo_azul = 25\n",
        "custo_vermelho = 35\n",
        "custo_magenta = 45\n",
        "\n",
        "largura = float(input(\"Digite a largura: \").replace(\",\", \".\"))\n",
        "altura = float(input(\"Digite a altura: \").replace(\",\", \".\"))\n",
        "metros_quadrados = largura * altura\n",
        "qtd_paredes = int(input(\"Digite a qtd de paredes: \"))\n",
        "cor_desejada = input(\"Digite a cor da parede: \").lower()\n",
        "\n",
        "if cor_desejada == 'azul':\n",
        "  custo = custo_azul * metros_quadrados * qtd_paredes\n",
        "elif cor_desejada == 'vermelho':\n",
        "  custo = custo_vermelho * metros_quadrados * qtd_paredes\n",
        "elif cor_desejada == 'magenta':\n",
        "  custo = custo_magenta * metros_quadrados * qtd_paredes\n",
        "else:\n",
        "  custo_tinta = float(input(\"Não sei o custo dessa tinta. Informe por favor: \"))\n",
        "  custo = custo_tinta * metros_quadrados * qtd_paredes\n",
        "\n",
        "print(f\"Essa brincadeira vai custar {custo} reais.\")"
      ],
      "metadata": {
        "colab": {
          "base_uri": "https://localhost:8080/"
        },
        "id": "EnN2Ya3Gs-2B",
        "outputId": "f2abae77-8f02-42ab-d056-3b0af0e2ef32"
      },
      "execution_count": null,
      "outputs": [
        {
          "output_type": "stream",
          "name": "stdout",
          "text": [
            "Digite a largura: 3\n",
            "Digite a altura: 3\n",
            "Digite a qtd de paredes: 4\n",
            "Digite a cor da parede: AzUl\n",
            "Essa brincadeira vai custar 900.0 reais.\n"
          ]
        }
      ]
    },
    {
      "cell_type": "markdown",
      "source": [
        "6. Faça um Programa que verifique se uma letra digitada é \"F\" ou \"M\". Conforme a letra escrever: F - Feminino, M - Masculino, Sexo Inválido."
      ],
      "metadata": {
        "id": "HU49bZE_D_YD"
      }
    },
    {
      "cell_type": "code",
      "source": [],
      "metadata": {
        "id": "NAjug4lED_7O"
      },
      "execution_count": null,
      "outputs": []
    },
    {
      "cell_type": "markdown",
      "source": [
        "7. Faça um programa que inicialmente receba 2 notas parciais de um aluno (prova 1 e prova 2). Se a média de ambas as notas for superior ou igual a 7, o programa retorna \"APROVADO.\" Senão, o programa solicita uma nota adicional, a nota do provão. Tendo a nota do provão, se a média das 3 notas for maior ou igual a 7 ou se pelo menos duas das 3 notas for maior ou igual a 6, imprima \"APROVADO POR POUCO!\" Senão, imprima \"QUE PENA! TENTE FAZER A SÉTIMA SÉRIE OUTRA VEZ!\""
      ],
      "metadata": {
        "id": "wEHgiM--EL0S"
      }
    },
    {
      "cell_type": "code",
      "source": [],
      "metadata": {
        "id": "TD-66KApEMOf"
      },
      "execution_count": null,
      "outputs": []
    },
    {
      "cell_type": "markdown",
      "source": [
        "8. Faça um Programa que leia três números e mostre-os em ordem decrescente."
      ],
      "metadata": {
        "id": "OBJhYHv0EfZA"
      }
    },
    {
      "cell_type": "code",
      "source": [],
      "metadata": {
        "id": "fkaRjT_SEf0E"
      },
      "execution_count": null,
      "outputs": []
    },
    {
      "cell_type": "markdown",
      "source": [
        "9. Faça um Programa que pergunte em que turno você estuda. Peça para digitar M-matutino ou V-Vespertino ou N- Noturno. Imprima a mensagem \"Bom Dia!\", \"Boa Tarde!\" ou \"Boa Noite!\" ou \"Valor Inválido!\", conforme o caso."
      ],
      "metadata": {
        "id": "4Qq5T6YZEmbG"
      }
    },
    {
      "cell_type": "code",
      "source": [],
      "metadata": {
        "id": "r2DakUwHEm0T"
      },
      "execution_count": null,
      "outputs": []
    },
    {
      "cell_type": "markdown",
      "source": [
        "10. Faça um programa que pergunte o preço de três produtos e informe qual produto você deve comprar, sabendo que a decisão é sempre pelo mais barato."
      ],
      "metadata": {
        "id": "VJfkq6SNEqwj"
      }
    },
    {
      "cell_type": "code",
      "source": [],
      "metadata": {
        "id": "VgfGG6iiErHM"
      },
      "execution_count": null,
      "outputs": []
    },
    {
      "cell_type": "markdown",
      "source": [
        "11. Faça um Programa que leia três números e mostre o maior e o menor deles."
      ],
      "metadata": {
        "id": "B4kyf0teExEU"
      }
    },
    {
      "cell_type": "code",
      "source": [],
      "metadata": {
        "id": "Cl7QHyONEwnk"
      },
      "execution_count": null,
      "outputs": []
    },
    {
      "cell_type": "markdown",
      "source": [
        "12. Crie um programa que faça as seguintes 5 perguntas e diagnostique o paciente:\n",
        "\n",
        "  A. Sente dor no corpo?\n",
        "\n",
        "  B. Tem febre?\n",
        "\n",
        "  C. Tem tosse?\n",
        "\n",
        "  D. Está com congestão nasal?\n",
        "\n",
        "  E. Tem manchas no corpo?\n",
        "\n",
        "  Condições:\n",
        "\n",
        "    Se apenas a primeira for verdade, o paciente não está doente;\n",
        "    Se B, C e D forem verdade, o paciente está com gripe;\n",
        "    Se todas forem verdade, paciente está com Dengue;\n",
        "    Caso contrário, não temos o diagnóstico."
      ],
      "metadata": {
        "id": "fN1jbJ8EFCxW"
      }
    },
    {
      "cell_type": "code",
      "source": [],
      "metadata": {
        "id": "2I1nA2vOFKSi"
      },
      "execution_count": null,
      "outputs": []
    },
    {
      "cell_type": "markdown",
      "source": [
        "13. Para entrar em um carro de palhaço, os palhaços precisarão respeitar as seguintes condições:\n",
        "\n",
        "    Ter entre 20 e 30 anos, entre 40 e 50 ou entre 70 e 75 anos apenas;\n",
        "\n",
        "    Os palhaços mais velhos irão no banco da frente, os mais novos no porta-malas e a idade que restou irá no banco de trás\n",
        "\n",
        "Crie um programa que receba a idade do palhaço imprima os seguintes passos NESTA ORDEM:\n",
        "\n",
        "    Indique se o palhaço poderá entrar no carro;\n",
        "\n",
        "    Indique onde o palhaço ficará no carro."
      ],
      "metadata": {
        "id": "67cLTMIoFJvs"
      }
    },
    {
      "cell_type": "markdown",
      "source": [
        "## Estruturas de repetição com While"
      ],
      "metadata": {
        "id": "lvUfpbi4QjIL"
      }
    },
    {
      "cell_type": "code",
      "source": [
        "cont = 0\n",
        "while cont < 5:\n",
        "  print(f\"O valor atual de cont é {cont}\")\n",
        "  cont += 1"
      ],
      "metadata": {
        "colab": {
          "base_uri": "https://localhost:8080/"
        },
        "id": "0M9Y8yTuR5EX",
        "outputId": "a4300d02-73d3-42a6-c19f-99daa1161304"
      },
      "execution_count": null,
      "outputs": [
        {
          "output_type": "stream",
          "name": "stdout",
          "text": [
            "O valor atual de cont é 0\n",
            "O valor atual de cont é 1\n",
            "O valor atual de cont é 2\n",
            "O valor atual de cont é 3\n",
            "O valor atual de cont é 4\n"
          ]
        }
      ]
    },
    {
      "cell_type": "code",
      "source": [
        "entrada = \"\"\n",
        "while (entrada.lower() != \"s\"):\n",
        "  entrada = input(\"Digite qualquer letra, ou S (maiúsculo ou minúsculo) para sair: \")"
      ],
      "metadata": {
        "colab": {
          "base_uri": "https://localhost:8080/"
        },
        "id": "qNMHGknMTD-V",
        "outputId": "df9e4084-3297-4eb7-dbc1-149ccd8f9ea3"
      },
      "execution_count": null,
      "outputs": [
        {
          "name": "stdout",
          "output_type": "stream",
          "text": [
            "Digite qualquer letra, ou S (maiúsculo ou minúsculo) para sair: S\n"
          ]
        }
      ]
    },
    {
      "cell_type": "code",
      "source": [
        "num = int(input(\"Quero o fatorial de: \"))\n",
        "i = num\n",
        "resultado = num\n",
        "while (i > 1):\n",
        "  print(f\"\\nInício de uma nova iteração. Aqui, resultado = {resultado} e i = {i}\")\n",
        "  resultado = resultado * (i - 1)\n",
        "  i = i - 1\n",
        "  print(f\"Fim dessa iteração. Aqui, resultado = {resultado} e i = {i}\")\n",
        "print(f\"{num}! = {resultado}\")"
      ],
      "metadata": {
        "colab": {
          "base_uri": "https://localhost:8080/"
        },
        "id": "kHm0UDQCT2QG",
        "outputId": "b8d06724-6261-4d3c-f08e-887c2eaba422"
      },
      "execution_count": null,
      "outputs": [
        {
          "output_type": "stream",
          "name": "stdout",
          "text": [
            "Quero o fatorial de: 3\n",
            "\n",
            "Início de uma nova iteração. Aqui, resultado = 3 e i = 3\n",
            "Fim dessa iteração. Aqui, resultado = 6 e i = 2\n",
            "\n",
            "Início de uma nova iteração. Aqui, resultado = 6 e i = 2\n",
            "Fim dessa iteração. Aqui, resultado = 6 e i = 1\n",
            "3! = 6\n"
          ]
        }
      ]
    },
    {
      "cell_type": "code",
      "source": [
        "var = 0\n",
        "while (var <= 10):\n",
        "  if(var == 5):\n",
        "    break\n",
        "  print(f\"var = {var}\")\n",
        "  var += 1"
      ],
      "metadata": {
        "colab": {
          "base_uri": "https://localhost:8080/"
        },
        "id": "wYwesrh3WY5J",
        "outputId": "2abedd8d-a62b-42aa-ca64-d80423eb5234"
      },
      "execution_count": null,
      "outputs": [
        {
          "output_type": "stream",
          "name": "stdout",
          "text": [
            "var = 0\n",
            "var = 1\n",
            "var = 2\n",
            "var = 3\n",
            "var = 4\n"
          ]
        }
      ]
    },
    {
      "cell_type": "markdown",
      "source": [
        "## Exercícios sobre laços de repetição, com While"
      ],
      "metadata": {
        "id": "gm-hpaOBNnTn"
      }
    },
    {
      "cell_type": "markdown",
      "source": [
        "1. Crie o programa \"Bart Simpson\": ele recebe um número de vezes e uma frase, e imprime na tela a mesma frase até atingir o número de vezes solicitado."
      ],
      "metadata": {
        "id": "Rq7sYH3XET66"
      }
    },
    {
      "cell_type": "code",
      "source": [],
      "metadata": {
        "id": "gHfhQLIaFwi3"
      },
      "execution_count": null,
      "outputs": []
    },
    {
      "cell_type": "markdown",
      "source": [
        "2. Crie um programa que retorne o somatório de todos os números entre 1 e um número fornecido pelo usuário."
      ],
      "metadata": {
        "id": "fZM0Ps2pFvZC"
      }
    },
    {
      "cell_type": "code",
      "source": [],
      "metadata": {
        "id": "WkGyvWbiF66Y"
      },
      "execution_count": null,
      "outputs": []
    },
    {
      "cell_type": "markdown",
      "source": [
        "3. Usando o comendo while, Crie um script que retorne o somatório de todos os números pares entre 0 e 100."
      ],
      "metadata": {
        "id": "v3O1mmLzGGEI"
      }
    },
    {
      "cell_type": "code",
      "source": [],
      "metadata": {
        "id": "CzLiC3I7iB-z"
      },
      "execution_count": null,
      "outputs": []
    },
    {
      "cell_type": "markdown",
      "source": [
        "4. Crie um programa que receba quantas notas o professor quiser de um aluno e pare quando o professor inserir a letra \"S\". Quando parar, o programa deve retornar a média das notas digitadas e dizer se o aluno foi aprovado (média maior ou igual a 7) ou reprovado (média menor que 7)."
      ],
      "metadata": {
        "id": "bGZqLhCXFjEn"
      }
    },
    {
      "cell_type": "code",
      "source": [
        "nota = \"\"\n",
        "qtd_notas = 0\n",
        "soma_notas = 0\n",
        "while nota != \"S\":\n",
        "  nota = input(\"Digite uma nota ou S para sair: \")\n",
        "  if nota != \"S\":\n",
        "    nota = float(nota)\n",
        "    qtd_notas += 1\n",
        "    soma_notas += nota\n",
        "media = soma_notas/qtd_notas\n",
        "if media >= 7:\n",
        "  print(f\"O aluno atingiu a média {media} e por isso foi aprovado.\")\n",
        "else:\n",
        "  print(f\"O aluno atingiu a média {media} e por isso foi reprovado.\")"
      ],
      "metadata": {
        "colab": {
          "base_uri": "https://localhost:8080/"
        },
        "id": "KsP6x8n1YiWk",
        "outputId": "d3fe44c9-a9a2-4783-e9e2-ee8954c87c65"
      },
      "execution_count": null,
      "outputs": [
        {
          "output_type": "stream",
          "name": "stdout",
          "text": [
            "Digite uma nota ou S para sair: 2\n",
            "Digite uma nota ou S para sair: 0\n",
            "Digite uma nota ou S para sair: 4\n",
            "Digite uma nota ou S para sair: S\n",
            "O aluno atingiu a média 2.0 e por isso foi reprovado.\n"
          ]
        }
      ]
    },
    {
      "cell_type": "code",
      "source": [
        "nota = \"\"\n",
        "qtd_notas = 0\n",
        "soma_notas = 0\n",
        "while True:\n",
        "  nota = input(\"Digite uma nota ou S para sair: \")\n",
        "  if nota == \"S\":\n",
        "    break\n",
        "  nota = float(nota)\n",
        "  qtd_notas += 1\n",
        "  soma_notas += nota\n",
        "media = soma_notas/qtd_notas\n",
        "if media >= 7:\n",
        "  print(f\"O aluno atingiu a média {media} e por isso foi aprovado.\")\n",
        "else:\n",
        "  print(f\"O aluno atingiu a média {media} e por isso foi reprovado.\")"
      ],
      "metadata": {
        "colab": {
          "base_uri": "https://localhost:8080/"
        },
        "id": "r88H0A4QiH4U",
        "outputId": "1d615f4b-8070-456f-eafb-1fe24ab560c4"
      },
      "execution_count": null,
      "outputs": [
        {
          "output_type": "stream",
          "name": "stdout",
          "text": [
            "Digite uma nota ou S para sair: 4\n",
            "Digite uma nota ou S para sair: 8\n",
            "Digite uma nota ou S para sair: S\n",
            "O aluno atingiu a média 6.0 e por isso foi reprovado.\n"
          ]
        }
      ]
    },
    {
      "cell_type": "markdown",
      "source": [
        "5. Usando o comando while, crie um programa que solicite um número inteiro ao usuário e imprima quantos números primos existem abaixo deste número."
      ],
      "metadata": {
        "id": "YHGn41InYfW8"
      }
    },
    {
      "cell_type": "code",
      "source": [
        "# Código para testar se um número é divisível por outro\n",
        "a = int(input(\"Digite um número inteiro: \"))\n",
        "b = int(input(\"Digite um número inteiro: \"))\n",
        "resto = a % b\n",
        "if resto == 0:\n",
        "  print(f\"É divisível (resto = {resto})\")\n",
        "else:\n",
        "  print(f\"Não divisível (resto = {resto})\")"
      ],
      "metadata": {
        "colab": {
          "base_uri": "https://localhost:8080/"
        },
        "id": "vJGOsfYPnH10",
        "outputId": "0680826e-38e9-4782-fd59-e0773f95c795"
      },
      "execution_count": null,
      "outputs": [
        {
          "output_type": "stream",
          "name": "stdout",
          "text": [
            "Digite um número inteiro: 7\n",
            "Digite um número inteiro: 2\n",
            "Não divisível (resto = 1)\n"
          ]
        }
      ]
    },
    {
      "cell_type": "code",
      "source": [
        "# Código para testar se un número é primo:\n",
        "numero = int(input(\"Digite um número inteiro: \"))\n",
        "\n",
        "eh_primo = True\n",
        "divisor = 2\n",
        "\n",
        "while divisor < numero:\n",
        "    print(f\"\\nVou testar se é divisível por {divisor}\")\n",
        "    if numero % divisor == 0:\n",
        "        print(\"É! Vou sair do while.\")\n",
        "        eh_primo = False\n",
        "        break\n",
        "    print(\"Não é! Logo, somar 1 no divisor.\")\n",
        "    divisor += 1\n",
        "\n",
        "\n",
        "if eh_primo == True:\n",
        "    print(f\"O número {numero} é primo.\")\n",
        "else:\n",
        "    print(f\"O número {numero} não é primo.\")"
      ],
      "metadata": {
        "colab": {
          "base_uri": "https://localhost:8080/"
        },
        "id": "HMd-tL25kvTq",
        "outputId": "3ce198ba-9bf8-4157-a9b1-a2c961cdc775"
      },
      "execution_count": 1,
      "outputs": [
        {
          "output_type": "stream",
          "name": "stdout",
          "text": [
            "Digite um número inteiro: 4\n",
            "\n",
            "Vou testar se é divisível por 2\n",
            "É! Vou sair do while.\n",
            "O número 4 não é primo.\n"
          ]
        }
      ]
    },
    {
      "cell_type": "code",
      "source": [
        "# Exercício solicitado\n",
        "numero = int(input(\"Digite um número inteiro: \"))\n",
        "contador = 0\n",
        "i = 2\n",
        "\n",
        "while i < numero:\n",
        "    print(f\"Vou testar o número {i}\")\n",
        "    eh_primo = True\n",
        "    j = 2\n",
        "    while j < i:\n",
        "        if i % j == 0:\n",
        "            eh_primo = False\n",
        "            break\n",
        "        j += 1\n",
        "\n",
        "    if eh_primo:\n",
        "        print(f\"De fato {i} é primo\")\n",
        "        contador += 1\n",
        "    i += 1\n",
        "\n",
        "print(f\"Existem {contador} números primos abaixo de {numero}.\")\n"
      ],
      "metadata": {
        "colab": {
          "base_uri": "https://localhost:8080/"
        },
        "id": "vRRrV0AwYjGe",
        "outputId": "a56aa9ed-9769-4216-ab81-b5762ff04078"
      },
      "execution_count": null,
      "outputs": [
        {
          "output_type": "stream",
          "name": "stdout",
          "text": [
            "Digite um número inteiro: 6\n",
            "Vou testar o número 2\n",
            "De fato 2 é primo\n",
            "Vou testar o número 3\n",
            "De fato 3 é primo\n",
            "Vou testar o número 4\n",
            "Vou testar o número 5\n",
            "De fato 5 é primo\n",
            "Existem 3 números primos abaixo de 6.\n"
          ]
        }
      ]
    },
    {
      "cell_type": "markdown",
      "source": [
        "6. Refaça o programa anterior, com a seguinte funcionalidade: caso o usuário insira um número negativo, o programa deve solicitar outra entrada, até que uma opção válida seja inserida."
      ],
      "metadata": {
        "id": "zbuKhDNiZHQB"
      }
    },
    {
      "cell_type": "code",
      "source": [],
      "metadata": {
        "id": "imcNeX4QZHj2"
      },
      "execution_count": null,
      "outputs": []
    },
    {
      "cell_type": "markdown",
      "source": [
        "## Listas"
      ],
      "metadata": {
        "id": "epzPdvkmdKx8"
      }
    },
    {
      "cell_type": "code",
      "source": [
        "a = []"
      ],
      "metadata": {
        "id": "nctr6p-HdOq2"
      },
      "execution_count": null,
      "outputs": []
    },
    {
      "cell_type": "code",
      "source": [
        "a = [1,2,3,4,5]"
      ],
      "metadata": {
        "id": "3sAMIopNsm21"
      },
      "execution_count": null,
      "outputs": []
    },
    {
      "cell_type": "code",
      "source": [
        "a = [0, \"b\", True, [1,2,3]]"
      ],
      "metadata": {
        "id": "hmbEKcdfsqYQ"
      },
      "execution_count": null,
      "outputs": []
    },
    {
      "cell_type": "code",
      "source": [
        "result = str(a[3][1])"
      ],
      "metadata": {
        "id": "RmWXxVfhuglA"
      },
      "execution_count": null,
      "outputs": []
    },
    {
      "cell_type": "code",
      "source": [
        "result"
      ],
      "metadata": {
        "colab": {
          "base_uri": "https://localhost:8080/",
          "height": 35
        },
        "id": "WIFUC8GvuuY6",
        "outputId": "96b2ab10-08fb-414c-da06-9b1eb8da81b8"
      },
      "execution_count": null,
      "outputs": [
        {
          "output_type": "execute_result",
          "data": {
            "text/plain": [
              "'2'"
            ],
            "application/vnd.google.colaboratory.intrinsic+json": {
              "type": "string"
            }
          },
          "metadata": {},
          "execution_count": 30
        }
      ]
    },
    {
      "cell_type": "code",
      "source": [
        "print(a)"
      ],
      "metadata": {
        "colab": {
          "base_uri": "https://localhost:8080/"
        },
        "id": "oLDBrWFMsosf",
        "outputId": "62b2bc2e-764f-4eac-c520-01ff0883edaa"
      },
      "execution_count": null,
      "outputs": [
        {
          "output_type": "stream",
          "name": "stdout",
          "text": [
            "[0, 'b', True, [1, 2, 3]]\n"
          ]
        }
      ]
    },
    {
      "cell_type": "code",
      "source": [
        "a = [input(\"Digite algo: \"), input(\"Digite algo: \")]"
      ],
      "metadata": {
        "colab": {
          "base_uri": "https://localhost:8080/"
        },
        "id": "5DwXxe2xs3Sl",
        "outputId": "a6d5f5c3-0515-45ca-ecac-6923acb90869"
      },
      "execution_count": null,
      "outputs": [
        {
          "name": "stdout",
          "output_type": "stream",
          "text": [
            "Digite algo: oi\n",
            "Digite algo: tchau\n"
          ]
        }
      ]
    },
    {
      "cell_type": "code",
      "source": [
        "a"
      ],
      "metadata": {
        "colab": {
          "base_uri": "https://localhost:8080/"
        },
        "id": "JePfzmHDs89Z",
        "outputId": "ac935f91-5303-452d-b8b8-40d86ec3f2f8"
      },
      "execution_count": null,
      "outputs": [
        {
          "output_type": "execute_result",
          "data": {
            "text/plain": [
              "['oi', 'tchau']"
            ]
          },
          "metadata": {},
          "execution_count": 12
        }
      ]
    },
    {
      "cell_type": "code",
      "source": [
        "a = [\"a\", \"b\", \"c\", \"d\", \"e\", \"f\", \"g\"]"
      ],
      "metadata": {
        "id": "XOe23mvxtEKA"
      },
      "execution_count": null,
      "outputs": []
    },
    {
      "cell_type": "code",
      "source": [
        "print(a[0])\n",
        "print(a[1])\n",
        "print(a[2])\n",
        "print(a[5])\n",
        "print(a[6])"
      ],
      "metadata": {
        "colab": {
          "base_uri": "https://localhost:8080/"
        },
        "id": "IEny8m0ntIdF",
        "outputId": "74cdefd2-46f6-4afc-aa23-85b29b60dd6f"
      },
      "execution_count": null,
      "outputs": [
        {
          "output_type": "stream",
          "name": "stdout",
          "text": [
            "a\n",
            "b\n",
            "c\n",
            "f\n",
            "g\n"
          ]
        }
      ]
    },
    {
      "cell_type": "code",
      "source": [
        "a[7]"
      ],
      "metadata": {
        "colab": {
          "base_uri": "https://localhost:8080/",
          "height": 166
        },
        "id": "yQVHcOhftwQJ",
        "outputId": "383d24f2-c6cb-4272-fb13-d391328bdfa4"
      },
      "execution_count": null,
      "outputs": [
        {
          "output_type": "error",
          "ename": "IndexError",
          "evalue": "ignored",
          "traceback": [
            "\u001b[0;31m---------------------------------------------------------------------------\u001b[0m",
            "\u001b[0;31mIndexError\u001b[0m                                Traceback (most recent call last)",
            "\u001b[0;32m<ipython-input-19-9cf13ba20553>\u001b[0m in \u001b[0;36m<cell line: 1>\u001b[0;34m()\u001b[0m\n\u001b[0;32m----> 1\u001b[0;31m \u001b[0ma\u001b[0m\u001b[0;34m[\u001b[0m\u001b[0;36m7\u001b[0m\u001b[0;34m]\u001b[0m\u001b[0;34m\u001b[0m\u001b[0;34m\u001b[0m\u001b[0m\n\u001b[0m",
            "\u001b[0;31mIndexError\u001b[0m: list index out of range"
          ]
        }
      ]
    },
    {
      "cell_type": "code",
      "source": [
        "a = [\"a\", \"b\", [\"aaa\", \"bbb\", \"ccc\"]]"
      ],
      "metadata": {
        "id": "tgqf4JcCt-7n"
      },
      "execution_count": null,
      "outputs": []
    },
    {
      "cell_type": "code",
      "source": [
        "a[2][1]"
      ],
      "metadata": {
        "colab": {
          "base_uri": "https://localhost:8080/",
          "height": 35
        },
        "id": "rxU6yt0cuF7K",
        "outputId": "b27ddffc-166a-4eb7-d380-08d824968c9f"
      },
      "execution_count": null,
      "outputs": [
        {
          "output_type": "execute_result",
          "data": {
            "text/plain": [
              "'bbb'"
            ],
            "application/vnd.google.colaboratory.intrinsic+json": {
              "type": "string"
            }
          },
          "metadata": {},
          "execution_count": 24
        }
      ]
    },
    {
      "cell_type": "code",
      "source": [
        "a = ['a', 'b', 'c', 'd', 'e', 'f', 'g', 'h', 'i', 'j']"
      ],
      "metadata": {
        "id": "V6CdDYlauSBz"
      },
      "execution_count": null,
      "outputs": []
    },
    {
      "cell_type": "code",
      "source": [
        "print(a[-1])\n",
        "print(a[-2])\n",
        "print(a[-3])"
      ],
      "metadata": {
        "colab": {
          "base_uri": "https://localhost:8080/"
        },
        "id": "ymXuG_7gvAEs",
        "outputId": "6082305a-01ab-4f55-e725-aafb56930943"
      },
      "execution_count": null,
      "outputs": [
        {
          "output_type": "stream",
          "name": "stdout",
          "text": [
            "j\n",
            "i\n",
            "h\n"
          ]
        }
      ]
    },
    {
      "cell_type": "code",
      "source": [
        "print(a)"
      ],
      "metadata": {
        "colab": {
          "base_uri": "https://localhost:8080/"
        },
        "id": "LpdpteyxvSk5",
        "outputId": "c31d33c6-736c-4aa4-ead4-c71c5c059871"
      },
      "execution_count": null,
      "outputs": [
        {
          "output_type": "stream",
          "name": "stdout",
          "text": [
            "['a', 'b', 'c', 'd', 'e', 'f', 'g', 'h', 'i', 'j']\n"
          ]
        }
      ]
    },
    {
      "cell_type": "code",
      "source": [
        "a[2:4]"
      ],
      "metadata": {
        "id": "_rFVcWo3vzne"
      },
      "execution_count": null,
      "outputs": []
    },
    {
      "cell_type": "code",
      "source": [
        "a[2:4] + a[6:8]"
      ],
      "metadata": {
        "colab": {
          "base_uri": "https://localhost:8080/"
        },
        "id": "D2NowJGrvV3C",
        "outputId": "14f40927-1bb2-4d7e-d7ce-7ef076cf9847"
      },
      "execution_count": null,
      "outputs": [
        {
          "output_type": "execute_result",
          "data": {
            "text/plain": [
              "['c', 'd', 'g', 'h']"
            ]
          },
          "metadata": {},
          "execution_count": 38
        }
      ]
    },
    {
      "cell_type": "code",
      "source": [
        "a[-4:-2]"
      ],
      "metadata": {
        "colab": {
          "base_uri": "https://localhost:8080/"
        },
        "id": "LIAs5PCiv0nU",
        "outputId": "27d0319c-cc99-4e1e-8448-f65da7102b01"
      },
      "execution_count": null,
      "outputs": [
        {
          "output_type": "execute_result",
          "data": {
            "text/plain": [
              "['g', 'h']"
            ]
          },
          "metadata": {},
          "execution_count": 39
        }
      ]
    },
    {
      "cell_type": "code",
      "source": [
        "a[:3]"
      ],
      "metadata": {
        "colab": {
          "base_uri": "https://localhost:8080/"
        },
        "id": "sUpUj3Njv5K0",
        "outputId": "841d0675-cdc5-40ca-8148-e8b2a612bb0a"
      },
      "execution_count": null,
      "outputs": [
        {
          "output_type": "execute_result",
          "data": {
            "text/plain": [
              "['a', 'b', 'c']"
            ]
          },
          "metadata": {},
          "execution_count": 40
        }
      ]
    },
    {
      "cell_type": "code",
      "source": [
        "a[-3:]"
      ],
      "metadata": {
        "colab": {
          "base_uri": "https://localhost:8080/"
        },
        "id": "q2zt-fqWwBRC",
        "outputId": "fcef1b94-bd45-4759-a3d3-dc1a67007dcf"
      },
      "execution_count": null,
      "outputs": [
        {
          "output_type": "execute_result",
          "data": {
            "text/plain": [
              "['h', 'i', 'j']"
            ]
          },
          "metadata": {},
          "execution_count": 41
        }
      ]
    },
    {
      "cell_type": "code",
      "source": [
        "a"
      ],
      "metadata": {
        "colab": {
          "base_uri": "https://localhost:8080/"
        },
        "id": "17NYI1OfwMWN",
        "outputId": "acfc73c4-5e24-48ca-a24e-56666dbfc373"
      },
      "execution_count": null,
      "outputs": [
        {
          "output_type": "execute_result",
          "data": {
            "text/plain": [
              "['a', 'b', 'c', 'd', 'e', 'f', 'g', 'h', 'i', 'j']"
            ]
          },
          "metadata": {},
          "execution_count": 43
        }
      ]
    },
    {
      "cell_type": "code",
      "source": [
        "a[1:6]"
      ],
      "metadata": {
        "colab": {
          "base_uri": "https://localhost:8080/"
        },
        "id": "LdJOgNofwHPo",
        "outputId": "dc053c0f-8328-4d43-bc0a-b36b94310099"
      },
      "execution_count": null,
      "outputs": [
        {
          "output_type": "execute_result",
          "data": {
            "text/plain": [
              "['b', 'd', 'f']"
            ]
          },
          "metadata": {},
          "execution_count": 42
        }
      ]
    },
    {
      "cell_type": "code",
      "source": [
        "a"
      ],
      "metadata": {
        "colab": {
          "base_uri": "https://localhost:8080/"
        },
        "id": "qZi22tGYwVt2",
        "outputId": "e44eb2f8-fe11-4eb1-df7a-1a993997920f"
      },
      "execution_count": null,
      "outputs": [
        {
          "output_type": "execute_result",
          "data": {
            "text/plain": [
              "['a', 'b', 'c', 'd', 'e', 'f', 'g', 'h', 'i', 'j']"
            ]
          },
          "metadata": {},
          "execution_count": 44
        }
      ]
    },
    {
      "cell_type": "code",
      "source": [
        "a.append('k')"
      ],
      "metadata": {
        "id": "zCary4acwYIf"
      },
      "execution_count": null,
      "outputs": []
    },
    {
      "cell_type": "code",
      "source": [
        "a"
      ],
      "metadata": {
        "colab": {
          "base_uri": "https://localhost:8080/"
        },
        "id": "s3ppvQkBwbjp",
        "outputId": "245fb5ce-49c1-470b-fcc8-e723d763be1c"
      },
      "execution_count": null,
      "outputs": [
        {
          "output_type": "execute_result",
          "data": {
            "text/plain": [
              "['a', 'b', 'c', 'd', 'e', 'f', 'g', 'h', 'i', 'j', 'k']"
            ]
          },
          "metadata": {},
          "execution_count": 46
        }
      ]
    },
    {
      "cell_type": "code",
      "source": [
        "a.append([1,2,3])"
      ],
      "metadata": {
        "id": "Bb3uY8m7wlEe"
      },
      "execution_count": null,
      "outputs": []
    },
    {
      "cell_type": "code",
      "source": [
        "a"
      ],
      "metadata": {
        "colab": {
          "base_uri": "https://localhost:8080/"
        },
        "id": "MiBD2rVmwncT",
        "outputId": "dbe0508e-e024-4cab-fce7-843dfb6e112e"
      },
      "execution_count": null,
      "outputs": [
        {
          "output_type": "execute_result",
          "data": {
            "text/plain": [
              "['a', 'b', 'c', 'd', 'e', 'f', 'g', 'h', 'i', 'j', 'k', [1, 2, 3]]"
            ]
          },
          "metadata": {},
          "execution_count": 48
        }
      ]
    },
    {
      "cell_type": "code",
      "source": [
        "a = []\n",
        "i = 0\n",
        "while i<5:\n",
        "  a.append(input('Digite algo: '))\n",
        "  i += 1"
      ],
      "metadata": {
        "colab": {
          "base_uri": "https://localhost:8080/"
        },
        "id": "to1KoYGawr7P",
        "outputId": "2523ec3f-9370-49fc-80e9-854d7f7227ac"
      },
      "execution_count": null,
      "outputs": [
        {
          "name": "stdout",
          "output_type": "stream",
          "text": [
            "Digite algo: q\n",
            "Digite algo: w\n",
            "Digite algo: e\n",
            "Digite algo: r\n",
            "Digite algo: y\n"
          ]
        }
      ]
    },
    {
      "cell_type": "code",
      "source": [
        "a"
      ],
      "metadata": {
        "colab": {
          "base_uri": "https://localhost:8080/"
        },
        "id": "NZDy44Ncw5hv",
        "outputId": "d4335780-27c5-4e5a-80a0-3a59040cde65"
      },
      "execution_count": null,
      "outputs": [
        {
          "output_type": "execute_result",
          "data": {
            "text/plain": [
              "['q', 'w', 'e', 'r', 'y']"
            ]
          },
          "metadata": {},
          "execution_count": 51
        }
      ]
    },
    {
      "cell_type": "markdown",
      "source": [
        "## Exercícios sobre listas"
      ],
      "metadata": {
        "id": "pCwjQPnyvHfJ"
      }
    },
    {
      "cell_type": "markdown",
      "source": [
        "1. a) Crie uma lista que contenha simultaneamente:\n",
        "  *   Um float na posição de índice 0\n",
        "  *   Um bool na posição de índice -1\n",
        "  *   Uma string em qualquer outra posição\n",
        "  *   Uma lista com três numeros inteiros em qualquer outra posição\n",
        "\n",
        "  b) Imprima na tela o segundo dos três elementos da lista de números inteiros que você incluiu no último item da letra (a)."
      ],
      "metadata": {
        "id": "dg22xMODvVXm"
      }
    },
    {
      "cell_type": "code",
      "source": [
        "a = [4.2, \"b\", [1,2,3], True]"
      ],
      "metadata": {
        "id": "84nbYJ-YvTgZ"
      },
      "execution_count": null,
      "outputs": []
    },
    {
      "cell_type": "markdown",
      "source": [
        "2. Com a lista criada no exercício anterior, use o método append para:\n",
        "\n",
        "  a) Adicionar um booleano ao fim da lista.\n",
        "\n",
        "  b) Adicionar uma lista com as três primeiras letras do alfabeto ao fim da lista.\n",
        "\n",
        "  c) Adicionar um booleano ao fim da lista criada no item (b)"
      ],
      "metadata": {
        "id": "WY5xZWyFwc1v"
      }
    },
    {
      "cell_type": "code",
      "source": [
        "a.append(False)\n",
        "a.append([\"a\", \"b\", \"c\"])"
      ],
      "metadata": {
        "id": "6kyWJ2j6wdRx"
      },
      "execution_count": null,
      "outputs": []
    },
    {
      "cell_type": "code",
      "source": [
        "a"
      ],
      "metadata": {
        "colab": {
          "base_uri": "https://localhost:8080/"
        },
        "id": "wymGF7lN5TrQ",
        "outputId": "60fd5faa-1304-42c3-b5f2-4912c76326a2"
      },
      "execution_count": null,
      "outputs": [
        {
          "output_type": "execute_result",
          "data": {
            "text/plain": [
              "[4.2, 'b', [1, 2, 3], True]"
            ]
          },
          "metadata": {},
          "execution_count": 86
        }
      ]
    },
    {
      "cell_type": "code",
      "source": [
        "a[2].append(False)"
      ],
      "metadata": {
        "id": "KhVTcIGv5VPD"
      },
      "execution_count": null,
      "outputs": []
    },
    {
      "cell_type": "code",
      "source": [
        "a"
      ],
      "metadata": {
        "colab": {
          "base_uri": "https://localhost:8080/"
        },
        "id": "HvwA0HM55e0j",
        "outputId": "288f8808-1e6a-41c4-e84d-76722383eb51"
      },
      "execution_count": null,
      "outputs": [
        {
          "output_type": "execute_result",
          "data": {
            "text/plain": [
              "[4.2, 'b', [1, 2, 3, False], True]"
            ]
          },
          "metadata": {},
          "execution_count": 89
        }
      ]
    },
    {
      "cell_type": "code",
      "source": [
        "a = [\"a\", \"b\", \"c\", \"d\", \"e\"]"
      ],
      "metadata": {
        "id": "EasNuJx753KM"
      },
      "execution_count": null,
      "outputs": []
    },
    {
      "cell_type": "code",
      "source": [
        "a.insert(0, \"Z\")"
      ],
      "metadata": {
        "id": "4mpsKJ6z57us"
      },
      "execution_count": null,
      "outputs": []
    },
    {
      "cell_type": "code",
      "source": [
        "a"
      ],
      "metadata": {
        "colab": {
          "base_uri": "https://localhost:8080/"
        },
        "id": "d5rncaIS6Eqf",
        "outputId": "512cf790-bc26-4b6c-913f-fa4163a6fb23"
      },
      "execution_count": null,
      "outputs": [
        {
          "output_type": "execute_result",
          "data": {
            "text/plain": [
              "['Z', 'a', 'b', 'X', 'c', 'd', 'e']"
            ]
          },
          "metadata": {},
          "execution_count": 98
        }
      ]
    },
    {
      "cell_type": "markdown",
      "source": [
        "3. Crie uma lista que tenha todos os números de 0 a 100, usando o WHILE."
      ],
      "metadata": {
        "id": "kfN18VRNxR4d"
      }
    },
    {
      "cell_type": "code",
      "source": [
        "lista = []\n",
        "i = 0\n",
        "while i <= 100:\n",
        "  lista.append(i)\n",
        "  i+=1"
      ],
      "metadata": {
        "id": "y4hnmYojxPXh"
      },
      "execution_count": null,
      "outputs": []
    },
    {
      "cell_type": "code",
      "source": [
        "print(lista)"
      ],
      "metadata": {
        "colab": {
          "base_uri": "https://localhost:8080/"
        },
        "id": "TJTGz_vc0BUL",
        "outputId": "2dbbf53f-3915-4c58-90b7-4981ffeb93a0"
      },
      "execution_count": null,
      "outputs": [
        {
          "output_type": "stream",
          "name": "stdout",
          "text": [
            "[0, 1, 2, 3, 4, 5, 6, 7, 8, 9, 10, 11, 12, 13, 14, 15, 16, 17, 18, 19, 20, 21, 22, 23, 24, 25, 26, 27, 28, 29, 30, 31, 32, 33, 34, 35, 36, 37, 38, 39, 40, 41, 42, 43, 44, 45, 46, 47, 48, 49, 50, 51, 52, 53, 54, 55, 56, 57, 58, 59, 60, 61, 62, 63, 64, 65, 66, 67, 68, 69, 70, 71, 72, 73, 74, 75, 76, 77, 78, 79, 80, 81, 82, 83, 84, 85, 86, 87, 88, 89, 90, 91, 92, 93, 94, 95, 96, 97, 98, 99, 100]\n"
          ]
        }
      ]
    },
    {
      "cell_type": "markdown",
      "source": [
        "4. Crie uma lista que tenha todos os números múltiplos de 7, de 0 a 100, usando o WHILE."
      ],
      "metadata": {
        "id": "7UPtXdSrxWN_"
      }
    },
    {
      "cell_type": "code",
      "source": [],
      "metadata": {
        "id": "O4WzS_WLxWhu"
      },
      "execution_count": null,
      "outputs": []
    },
    {
      "cell_type": "markdown",
      "source": [
        "5. Com o WHILE, crie uma lista que contenha os números múltiplos de 10 no intervalo de 100 a 300. Depois, peça dois números para o usuário e imprima na tela os elementos da lista cujos índices vão do primeiro ao segundo número digitados pelo usuário. Caso o usuário tente entrar com um intervalo maior do que o tamanho da lista (por exemplo, caso o usuário digite 15 e 25 para a nossa lista contendo apenas 20 elementos) ou caso o usuário entre com o primeiro número maior do que o segundo, digite \"Escolhas inválidas\"."
      ],
      "metadata": {
        "id": "p9bR-ktxyC60"
      }
    },
    {
      "cell_type": "code",
      "source": [],
      "metadata": {
        "id": "RuPAOQxTyB8v"
      },
      "execution_count": null,
      "outputs": []
    },
    {
      "cell_type": "markdown",
      "source": [
        "6. Inclua no programa do exercício anterior a possibilidade de o usuário entrar com o par de números desejados quantas vezes quiser, até digitar -1 para sair."
      ],
      "metadata": {
        "id": "DEcfSYfazJNo"
      }
    },
    {
      "cell_type": "code",
      "source": [],
      "metadata": {
        "id": "_9BdsNHwzJiM"
      },
      "execution_count": null,
      "outputs": []
    },
    {
      "cell_type": "markdown",
      "source": [
        "7. Faça um Programa que leia uma lista de 5 números reais e mostre-os na ordem inversa. NÃO VALE USAR REVERSE"
      ],
      "metadata": {
        "id": "-GRz8QMs2WXD"
      }
    },
    {
      "cell_type": "code",
      "source": [
        "a = []\n",
        "for i in range(0, 5):\n",
        "  a.append(float(input(\"Digite um número real\")))"
      ],
      "metadata": {
        "id": "O_RnQe4v25mi",
        "colab": {
          "base_uri": "https://localhost:8080/"
        },
        "outputId": "7374aa6f-9c5c-4e90-fb1d-ee5e645e747d"
      },
      "execution_count": null,
      "outputs": [
        {
          "name": "stdout",
          "output_type": "stream",
          "text": [
            "Digite um número real3.14\n",
            "Digite um número real3.4\n",
            "Digite um número real5.6\n",
            "Digite um número real9.2\n",
            "Digite um número real5.5\n"
          ]
        }
      ]
    },
    {
      "cell_type": "code",
      "source": [
        "a"
      ],
      "metadata": {
        "colab": {
          "base_uri": "https://localhost:8080/"
        },
        "id": "C8qRyoqp7o8g",
        "outputId": "986bddce-bed0-4f05-f8e8-ff5c721b49f2"
      },
      "execution_count": null,
      "outputs": [
        {
          "output_type": "execute_result",
          "data": {
            "text/plain": [
              "[3.14, 3.4, 5.6, 9.2, 5.5]"
            ]
          },
          "metadata": {},
          "execution_count": 100
        }
      ]
    },
    {
      "cell_type": "code",
      "source": [
        "for _ in range(-1, -6, -1):\n",
        "  print(a[_])"
      ],
      "metadata": {
        "colab": {
          "base_uri": "https://localhost:8080/"
        },
        "id": "EYT08EH17p6t",
        "outputId": "488e35f1-7e9c-4923-e531-811e5c1f9348"
      },
      "execution_count": null,
      "outputs": [
        {
          "output_type": "stream",
          "name": "stdout",
          "text": [
            "5.5\n",
            "9.2\n",
            "5.6\n",
            "3.4\n",
            "3.14\n"
          ]
        }
      ]
    },
    {
      "cell_type": "markdown",
      "source": [
        "8. Faça um Programa que leia 20 números inteiros e armazene-os em duas listas: números pares em uma lista PARES e números ímpares em uma uma lista ÍMPARES."
      ],
      "metadata": {
        "id": "-w7-NRC53T30"
      }
    },
    {
      "cell_type": "code",
      "source": [
        "a = [200,39,45,67,53,25,525,32]\n",
        "min = a[0]\n",
        "for _ in a:\n",
        "  if _ < min:\n",
        "    min = _\n",
        "print(min)"
      ],
      "metadata": {
        "colab": {
          "base_uri": "https://localhost:8080/"
        },
        "id": "0YgXki-L8IHV",
        "outputId": "36c4efeb-1f52-4985-a7f3-8ee68d4a57e8"
      },
      "execution_count": null,
      "outputs": [
        {
          "output_type": "stream",
          "name": "stdout",
          "text": [
            "25\n"
          ]
        }
      ]
    },
    {
      "cell_type": "code",
      "source": [
        "a = [200,39,45,67,53,25,525,32]\n",
        "max = a[0]\n",
        "for _ in a:\n",
        "  if _ > max:\n",
        "    max = _\n",
        "print(max)"
      ],
      "metadata": {
        "colab": {
          "base_uri": "https://localhost:8080/"
        },
        "id": "KN5gNozn8dOu",
        "outputId": "6b1d7432-d8e1-4922-9c7c-d41150d5ec69"
      },
      "execution_count": null,
      "outputs": [
        {
          "output_type": "stream",
          "name": "stdout",
          "text": [
            "525\n"
          ]
        }
      ]
    },
    {
      "cell_type": "code",
      "source": [
        "a = [200,39,45,67,53,25,525,32]\n",
        "sum = 0\n",
        "for _ in a:\n",
        "  sum += _\n",
        "print(f\"media = {sum/len(a)}\")"
      ],
      "metadata": {
        "id": "MGoVlegl3UMJ",
        "colab": {
          "base_uri": "https://localhost:8080/"
        },
        "outputId": "a3d1d1c0-59a9-46dd-b8de-404f5d9f3846"
      },
      "execution_count": null,
      "outputs": [
        {
          "output_type": "stream",
          "name": "stdout",
          "text": [
            "media = 123.25\n"
          ]
        }
      ]
    },
    {
      "cell_type": "markdown",
      "source": [
        "9. a) Faça um programa que permita ao usuário inserir quantos números quiser em uma lista, até que ele passe -1.\n",
        "\n",
        "  b) Depois disso, crie um programa em que o usuário possa solicitar, por quantas vezes quiser qualquer uma das seguintes opções, até que pressione \"S\" ou \"s\" para encerrar:\n",
        "  *   \"med\" para ver a média dos números da lista\n",
        "  *   \"max\" para ver o maior número da lista\n",
        "  *   \"min\" para ver o menor número da lista\n",
        "  *   \"list\" para ver a lista\n",
        "  *   \"tsil\" para ver a lista invertida"
      ],
      "metadata": {
        "id": "RASDPK5O3tK8"
      }
    },
    {
      "cell_type": "code",
      "source": [],
      "metadata": {
        "id": "mrxbflE7b5-a"
      },
      "execution_count": null,
      "outputs": []
    },
    {
      "cell_type": "markdown",
      "source": [
        "## Loop for"
      ],
      "metadata": {
        "id": "nryTNQxNxcTz"
      }
    },
    {
      "cell_type": "code",
      "source": [
        "a = [1,3,6,8,14,19,23]"
      ],
      "metadata": {
        "id": "ADM0SmBmxdW_"
      },
      "execution_count": null,
      "outputs": []
    },
    {
      "cell_type": "code",
      "source": [
        "for i in a[1:5]:\n",
        "  print(f'{i} ao quadrado = {i**2}')"
      ],
      "metadata": {
        "colab": {
          "base_uri": "https://localhost:8080/"
        },
        "id": "3zTKzym80v4d",
        "outputId": "0fd1f30d-c7b4-4c32-883b-2a478e83c573"
      },
      "execution_count": null,
      "outputs": [
        {
          "output_type": "stream",
          "name": "stdout",
          "text": [
            "3 ao quadrado = 9\n",
            "8 ao quadrado = 64\n"
          ]
        }
      ]
    },
    {
      "cell_type": "code",
      "source": [
        "for i in range(5):\n",
        "  print(f'{a[i]} ao quadrado = {a[i]**2}')"
      ],
      "metadata": {
        "colab": {
          "base_uri": "https://localhost:8080/"
        },
        "id": "GeBClJWr1eBr",
        "outputId": "3e1be690-205e-4722-835e-1ae40a3e01ea"
      },
      "execution_count": null,
      "outputs": [
        {
          "output_type": "stream",
          "name": "stdout",
          "text": [
            "1 ao quadrado = 1\n",
            "3 ao quadrado = 9\n",
            "6 ao quadrado = 36\n",
            "8 ao quadrado = 64\n",
            "14 ao quadrado = 196\n"
          ]
        }
      ]
    },
    {
      "cell_type": "code",
      "source": [
        "a"
      ],
      "metadata": {
        "colab": {
          "base_uri": "https://localhost:8080/"
        },
        "id": "mv22r-B82Olt",
        "outputId": "a088ce46-6443-4046-a716-f14459727266"
      },
      "execution_count": null,
      "outputs": [
        {
          "output_type": "execute_result",
          "data": {
            "text/plain": [
              "[1, 3, 6, 8, 14]"
            ]
          },
          "metadata": {},
          "execution_count": 79
        }
      ]
    },
    {
      "cell_type": "code",
      "source": [
        "for _ in range(0,10,2):\n",
        "  print(_)"
      ],
      "metadata": {
        "colab": {
          "base_uri": "https://localhost:8080/"
        },
        "id": "v9vN4NqT2zbk",
        "outputId": "fc39a32f-4a7b-493f-d3e7-30a7bc8e7db2"
      },
      "execution_count": null,
      "outputs": [
        {
          "output_type": "stream",
          "name": "stdout",
          "text": [
            "0\n",
            "2\n",
            "4\n",
            "6\n",
            "8\n"
          ]
        }
      ]
    },
    {
      "cell_type": "code",
      "source": [
        "len(a)"
      ],
      "metadata": {
        "colab": {
          "base_uri": "https://localhost:8080/"
        },
        "id": "VjrvH7Xs1glS",
        "outputId": "297c8b80-198b-4cd6-f55e-c116e826565f"
      },
      "execution_count": null,
      "outputs": [
        {
          "output_type": "execute_result",
          "data": {
            "text/plain": [
              "5"
            ]
          },
          "metadata": {},
          "execution_count": 78
        }
      ]
    },
    {
      "cell_type": "code",
      "source": [
        "'a' < 'b'"
      ],
      "metadata": {
        "colab": {
          "base_uri": "https://localhost:8080/"
        },
        "id": "f6M9C21z9xVu",
        "outputId": "9fb1b565-8147-4371-ae96-37911dde9b8c"
      },
      "execution_count": null,
      "outputs": [
        {
          "output_type": "execute_result",
          "data": {
            "text/plain": [
              "True"
            ]
          },
          "metadata": {},
          "execution_count": 110
        }
      ]
    },
    {
      "cell_type": "markdown",
      "source": [
        "## Exercícios com o loop for"
      ],
      "metadata": {
        "id": "ZRhYJ4aSxfkL"
      }
    },
    {
      "cell_type": "markdown",
      "source": [
        "1. A lista resultados abaixo representa 10 vezes em que foi lançado um dado com 6 lados. Usando o FOR juntamente com a função RANGE, crie um programa para contar quantas vezes apareceu um determinado número escolhido pelo usuário."
      ],
      "metadata": {
        "id": "ekJzN2TSxsoV"
      }
    },
    {
      "cell_type": "code",
      "source": [
        "import numpy as np\n",
        "resultados = np.random.randint(1, 7, (1,10))[0]\n",
        "print(resultados)"
      ],
      "metadata": {
        "colab": {
          "base_uri": "https://localhost:8080/"
        },
        "id": "cKz5ydL0xhIv",
        "outputId": "4c61efc5-d8fe-4dff-beff-44413496161d"
      },
      "execution_count": null,
      "outputs": [
        {
          "output_type": "stream",
          "name": "stdout",
          "text": [
            "[2 1 1 1 4 3 4 2 6 6]\n"
          ]
        }
      ]
    },
    {
      "cell_type": "code",
      "source": [
        "resultados"
      ],
      "metadata": {
        "colab": {
          "base_uri": "https://localhost:8080/"
        },
        "id": "G_vDv0hixxuu",
        "outputId": "8e048b82-68d3-40ae-9ebf-2f8cce50b4ad"
      },
      "execution_count": null,
      "outputs": [
        {
          "output_type": "execute_result",
          "data": {
            "text/plain": [
              "array([2, 1, 1, 1, 4, 3, 4, 2, 6, 6])"
            ]
          },
          "metadata": {},
          "execution_count": 82
        }
      ]
    },
    {
      "cell_type": "code",
      "source": [
        "qtd = 0\n",
        "num = int(input(\"Digite um número entre 1 e 6: \"))\n",
        "for i in range(0, len(resultados)):\n",
        "  if resultados[i] == num:\n",
        "    qtd+=1\n",
        "print(f\"O número {num} apareceu {qtd} vezes.\")"
      ],
      "metadata": {
        "colab": {
          "base_uri": "https://localhost:8080/"
        },
        "id": "-ysMP7Dn3PcC",
        "outputId": "e1a7345c-d29d-465c-9239-115f957a84e5"
      },
      "execution_count": null,
      "outputs": [
        {
          "output_type": "stream",
          "name": "stdout",
          "text": [
            "Digite um número entre 1 e 6: 1\n",
            "O número 1 apareceu 3 vezes.\n"
          ]
        }
      ]
    },
    {
      "cell_type": "markdown",
      "source": [
        "2. Faça exatamente o que foi feito no exerćicio anterior, mas usando o FOR para percorrer diretamente a lista, isto é, sem usar a função RANGE."
      ],
      "metadata": {
        "id": "sJzdra82x0Wf"
      }
    },
    {
      "cell_type": "code",
      "source": [
        "qtd = 0\n",
        "num = int(input(\"Digite um número entre 1 e 6: \"))\n",
        "for resultado in resultados:\n",
        "  if resultado == num:\n",
        "    qtd+=1\n",
        "print(f\"O número {num} apareceu {qtd} vezes.\")"
      ],
      "metadata": {
        "colab": {
          "base_uri": "https://localhost:8080/"
        },
        "id": "IsprELzlxz9h",
        "outputId": "2e9f2a0f-06a1-4a37-8835-eb7746bf9352"
      },
      "execution_count": null,
      "outputs": [
        {
          "output_type": "stream",
          "name": "stdout",
          "text": [
            "Digite um número entre 1 e 6: 6\n",
            "O número 6 apareceu 2 vezes.\n"
          ]
        }
      ]
    },
    {
      "cell_type": "markdown",
      "source": [
        "3. Crie uma lista que tenha todos os números múltiplos de 7, de 0 a 100, usando o FOR."
      ],
      "metadata": {
        "id": "TIGu_HRgyhT6"
      }
    },
    {
      "cell_type": "code",
      "source": [],
      "metadata": {
        "id": "vH0BuNsEyfRd"
      },
      "execution_count": null,
      "outputs": []
    },
    {
      "cell_type": "markdown",
      "source": [
        "4. Crie um script que retorne o somatório de todos os números pares entre 0 e 100, usando o FOR."
      ],
      "metadata": {
        "id": "B-W5Qbgays75"
      }
    },
    {
      "cell_type": "code",
      "source": [],
      "metadata": {
        "id": "zl2buHVjygNk"
      },
      "execution_count": null,
      "outputs": []
    },
    {
      "cell_type": "markdown",
      "source": [
        "5. Crie um programa que retorne o somatório de todos os números entre 1 e um número fornecido pelo usuário."
      ],
      "metadata": {
        "id": "DQHCcsUdyxDA"
      }
    },
    {
      "cell_type": "code",
      "source": [],
      "metadata": {
        "id": "MAMID2eeyyfi"
      },
      "execution_count": null,
      "outputs": []
    }
  ]
}