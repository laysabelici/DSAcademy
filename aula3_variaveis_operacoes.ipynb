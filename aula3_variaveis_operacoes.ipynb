{
  "nbformat": 4,
  "nbformat_minor": 0,
  "metadata": {
    "colab": {
      "provenance": [],
      "authorship_tag": "ABX9TyP9E9gAV686zrrFOGckYmTo",
      "include_colab_link": true
    },
    "kernelspec": {
      "name": "python3",
      "display_name": "Python 3"
    },
    "language_info": {
      "name": "python"
    }
  },
  "cells": [
    {
      "cell_type": "markdown",
      "metadata": {
        "id": "view-in-github",
        "colab_type": "text"
      },
      "source": [
        "<a href=\"https://colab.research.google.com/github/laysabelici/DSAcademy/blob/main/aula3_variaveis_operacoes.ipynb\" target=\"_parent\"><img src=\"https://colab.research.google.com/assets/colab-badge.svg\" alt=\"Open In Colab\"/></a>"
      ]
    },
    {
      "cell_type": "markdown",
      "source": [
        "**VARIÁVEIS**\n",
        "---\n",
        "> PALAVRAS RESERVADAS OU VÁZIAS NÃO PODEM SER VARIÁVEIS\n",
        "\n",
        "> PYTHON DEFINE O TYPE DE FORMA DINAMICA (AUTOMÁTICO)\n",
        "\n",
        "\n",
        "\n"
      ],
      "metadata": {
        "id": "EMH19ghuVVWW"
      }
    },
    {
      "cell_type": "code",
      "execution_count": 1,
      "metadata": {
        "id": "KmDquTdaUIX4"
      },
      "outputs": [],
      "source": [
        "#ATRIBUINDO O VALOR 1 A VARIÁVEL\n",
        "var_teste = 1"
      ]
    },
    {
      "cell_type": "code",
      "source": [
        "#IMPRIMINDO A VARIÁVEL\n",
        "var_teste"
      ],
      "metadata": {
        "colab": {
          "base_uri": "https://localhost:8080/"
        },
        "id": "xdFN139YVetI",
        "outputId": "dabb28c9-616b-4846-e3d9-d5c10d875eb3"
      },
      "execution_count": 2,
      "outputs": [
        {
          "output_type": "execute_result",
          "data": {
            "text/plain": [
              "1"
            ]
          },
          "metadata": {},
          "execution_count": 2
        }
      ]
    },
    {
      "cell_type": "code",
      "source": [
        "#MODIFICAR O VALOR DE UMA VARIÁVEL\n",
        "var_teste = 2"
      ],
      "metadata": {
        "id": "bFPG5NncVv30"
      },
      "execution_count": 5,
      "outputs": []
    },
    {
      "cell_type": "markdown",
      "source": [
        "**DECLARAÇÃO MÚLTIPLA**"
      ],
      "metadata": {
        "id": "Dcz2SuXTWxyR"
      }
    },
    {
      "cell_type": "code",
      "source": [
        "pessoa1, pessoa2, pessoa3 = 'Mari', 'Edu', 'Ana'"
      ],
      "metadata": {
        "id": "tpJ9M6cqWGCk"
      },
      "execution_count": 7,
      "outputs": []
    },
    {
      "cell_type": "code",
      "source": [
        "pessoa2"
      ],
      "metadata": {
        "colab": {
          "base_uri": "https://localhost:8080/",
          "height": 35
        },
        "id": "tsHhGNXGXBtD",
        "outputId": "c6b4db0a-f0dc-4a38-99dd-ca7ba37c805a"
      },
      "execution_count": 8,
      "outputs": [
        {
          "output_type": "execute_result",
          "data": {
            "text/plain": [
              "'Edu'"
            ],
            "application/vnd.google.colaboratory.intrinsic+json": {
              "type": "string"
            }
          },
          "metadata": {},
          "execution_count": 8
        }
      ]
    },
    {
      "cell_type": "code",
      "source": [
        "fruta1 = fruta2 = fruta3 = 'Melancia'"
      ],
      "metadata": {
        "id": "JcaTdiJWXDie"
      },
      "execution_count": 9,
      "outputs": []
    },
    {
      "cell_type": "code",
      "source": [
        "fruta2"
      ],
      "metadata": {
        "colab": {
          "base_uri": "https://localhost:8080/",
          "height": 35
        },
        "id": "c1ccRNzWXJD6",
        "outputId": "832488c7-d160-4155-9a90-f081f7bf8af5"
      },
      "execution_count": 10,
      "outputs": [
        {
          "output_type": "execute_result",
          "data": {
            "text/plain": [
              "'Melancia'"
            ],
            "application/vnd.google.colaboratory.intrinsic+json": {
              "type": "string"
            }
          },
          "metadata": {},
          "execution_count": 10
        }
      ]
    },
    {
      "cell_type": "code",
      "source": [
        "fruta3"
      ],
      "metadata": {
        "colab": {
          "base_uri": "https://localhost:8080/",
          "height": 35
        },
        "id": "-uULEYoXXKGL",
        "outputId": "a4e126ca-fe77-4cce-d4b0-c717395b8b4e"
      },
      "execution_count": 11,
      "outputs": [
        {
          "output_type": "execute_result",
          "data": {
            "text/plain": [
              "'Melancia'"
            ],
            "application/vnd.google.colaboratory.intrinsic+json": {
              "type": "string"
            }
          },
          "metadata": {},
          "execution_count": 11
        }
      ]
    },
    {
      "cell_type": "code",
      "source": [],
      "metadata": {
        "id": "oaqnuEdUXLhk"
      },
      "execution_count": null,
      "outputs": []
    }
  ]
}