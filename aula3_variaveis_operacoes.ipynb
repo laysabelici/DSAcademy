{
  "nbformat": 4,
  "nbformat_minor": 0,
  "metadata": {
    "colab": {
      "provenance": [],
      "authorship_tag": "ABX9TyOQr40dW3gBQUd5ZkLfq2oY",
      "include_colab_link": true
    },
    "kernelspec": {
      "name": "python3",
      "display_name": "Python 3"
    },
    "language_info": {
      "name": "python"
    }
  },
  "cells": [
    {
      "cell_type": "markdown",
      "metadata": {
        "id": "view-in-github",
        "colab_type": "text"
      },
      "source": [
        "<a href=\"https://colab.research.google.com/github/laysabelici/DSAcademy/blob/main/aula3_variaveis_operacoes.ipynb\" target=\"_parent\"><img src=\"https://colab.research.google.com/assets/colab-badge.svg\" alt=\"Open In Colab\"/></a>"
      ]
    },
    {
      "cell_type": "markdown",
      "source": [
        "**VARIÁVEIS**\n",
        "---\n",
        "> PALAVRAS RESERVADAS OU VÁZIAS NÃO PODEM SER VARIÁVEIS\n",
        "\n",
        "> PYTHON DEFINE O TYPE DE FORMA DINAMICA (AUTOMÁTICO)\n",
        "\n",
        ">NÃO SE PODE COMEÇAR NOME DE VARIÁVEL COM NÚMERO\n",
        "\n",
        "\n",
        "\n"
      ],
      "metadata": {
        "id": "EMH19ghuVVWW"
      }
    },
    {
      "cell_type": "code",
      "execution_count": 1,
      "metadata": {
        "id": "KmDquTdaUIX4"
      },
      "outputs": [],
      "source": [
        "#ATRIBUINDO O VALOR 1 A VARIÁVEL\n",
        "var_teste = 1"
      ]
    },
    {
      "cell_type": "code",
      "source": [
        "#IMPRIMINDO A VARIÁVEL\n",
        "var_teste"
      ],
      "metadata": {
        "colab": {
          "base_uri": "https://localhost:8080/"
        },
        "id": "xdFN139YVetI",
        "outputId": "dabb28c9-616b-4846-e3d9-d5c10d875eb3"
      },
      "execution_count": 2,
      "outputs": [
        {
          "output_type": "execute_result",
          "data": {
            "text/plain": [
              "1"
            ]
          },
          "metadata": {},
          "execution_count": 2
        }
      ]
    },
    {
      "cell_type": "code",
      "source": [
        "#MODIFICAR O VALOR DE UMA VARIÁVEL\n",
        "var_teste = 2"
      ],
      "metadata": {
        "id": "bFPG5NncVv30"
      },
      "execution_count": 5,
      "outputs": []
    },
    {
      "cell_type": "markdown",
      "source": [
        "**DECLARAÇÃO MÚLTIPLA**"
      ],
      "metadata": {
        "id": "Dcz2SuXTWxyR"
      }
    },
    {
      "cell_type": "code",
      "source": [
        "pessoa1, pessoa2, pessoa3 = 'Mari', 'Edu', 'Ana'"
      ],
      "metadata": {
        "id": "tpJ9M6cqWGCk"
      },
      "execution_count": 7,
      "outputs": []
    },
    {
      "cell_type": "code",
      "source": [
        "pessoa2"
      ],
      "metadata": {
        "colab": {
          "base_uri": "https://localhost:8080/",
          "height": 35
        },
        "id": "tsHhGNXGXBtD",
        "outputId": "c6b4db0a-f0dc-4a38-99dd-ca7ba37c805a"
      },
      "execution_count": 8,
      "outputs": [
        {
          "output_type": "execute_result",
          "data": {
            "text/plain": [
              "'Edu'"
            ],
            "application/vnd.google.colaboratory.intrinsic+json": {
              "type": "string"
            }
          },
          "metadata": {},
          "execution_count": 8
        }
      ]
    },
    {
      "cell_type": "code",
      "source": [
        "fruta1 = fruta2 = fruta3 = 'Melancia'"
      ],
      "metadata": {
        "id": "JcaTdiJWXDie"
      },
      "execution_count": 9,
      "outputs": []
    },
    {
      "cell_type": "code",
      "source": [
        "fruta2"
      ],
      "metadata": {
        "colab": {
          "base_uri": "https://localhost:8080/",
          "height": 35
        },
        "id": "c1ccRNzWXJD6",
        "outputId": "832488c7-d160-4155-9a90-f081f7bf8af5"
      },
      "execution_count": 10,
      "outputs": [
        {
          "output_type": "execute_result",
          "data": {
            "text/plain": [
              "'Melancia'"
            ],
            "application/vnd.google.colaboratory.intrinsic+json": {
              "type": "string"
            }
          },
          "metadata": {},
          "execution_count": 10
        }
      ]
    },
    {
      "cell_type": "code",
      "source": [
        "fruta3"
      ],
      "metadata": {
        "colab": {
          "base_uri": "https://localhost:8080/",
          "height": 35
        },
        "id": "-uULEYoXXKGL",
        "outputId": "a4e126ca-fe77-4cce-d4b0-c717395b8b4e"
      },
      "execution_count": 11,
      "outputs": [
        {
          "output_type": "execute_result",
          "data": {
            "text/plain": [
              "'Melancia'"
            ],
            "application/vnd.google.colaboratory.intrinsic+json": {
              "type": "string"
            }
          },
          "metadata": {},
          "execution_count": 11
        }
      ]
    },
    {
      "cell_type": "code",
      "source": [
        "x1 = 50"
      ],
      "metadata": {
        "id": "oaqnuEdUXLhk"
      },
      "execution_count": 12,
      "outputs": []
    },
    {
      "cell_type": "code",
      "source": [
        "x1"
      ],
      "metadata": {
        "colab": {
          "base_uri": "https://localhost:8080/"
        },
        "id": "OyitoLLUYerc",
        "outputId": "797a5680-e6ad-4da3-da4f-c424780d6e69"
      },
      "execution_count": 14,
      "outputs": [
        {
          "output_type": "execute_result",
          "data": {
            "text/plain": [
              "50"
            ]
          },
          "metadata": {},
          "execution_count": 14
        }
      ]
    },
    {
      "cell_type": "markdown",
      "source": [
        "PALAVRAS RESERVADAS\n",
        "```\n",
        "False       class       finally     is          return\n",
        "None        continue    for         lambda      try\n",
        "True        def         from        nonlocal    while\n",
        "and         del         global      not         with\n",
        "as          elif        if          or          yield\n",
        "assert      else        import      pass        \n",
        "break       except      in          raise       \n",
        "```"
      ],
      "metadata": {
        "id": "RmN7S0N4ZB8k"
      }
    },
    {
      "cell_type": "markdown",
      "source": [
        "**VARIÁVEL ATRIBUÍDAS A OUTRAS VAERIÁVEIS E ORDEM DOS OPERADORES**"
      ],
      "metadata": {
        "id": "I2s-t-SMZZn-"
      }
    },
    {
      "cell_type": "code",
      "source": [
        "altura = 4"
      ],
      "metadata": {
        "id": "gXMr1qDKZBey"
      },
      "execution_count": 15,
      "outputs": []
    },
    {
      "cell_type": "code",
      "source": [
        "largura = 2"
      ],
      "metadata": {
        "id": "XctLOf2_ZoBO"
      },
      "execution_count": 16,
      "outputs": []
    },
    {
      "cell_type": "code",
      "source": [
        "area = largura * altura\n",
        "area"
      ],
      "metadata": {
        "colab": {
          "base_uri": "https://localhost:8080/"
        },
        "id": "oCDgOGkhZpiE",
        "outputId": "86e7d74e-1342-4203-8d87-d304a4e50ad7"
      },
      "execution_count": 17,
      "outputs": [
        {
          "output_type": "execute_result",
          "data": {
            "text/plain": [
              "8"
            ]
          },
          "metadata": {},
          "execution_count": 17
        }
      ]
    },
    {
      "cell_type": "code",
      "source": [
        "perimetro = 2*largura + 2*altura\n",
        "perimetro"
      ],
      "metadata": {
        "colab": {
          "base_uri": "https://localhost:8080/"
        },
        "id": "PolOlQJVZuHz",
        "outputId": "3dd0638a-d4f7-4ac6-94cc-ac531a592cad"
      },
      "execution_count": 18,
      "outputs": [
        {
          "output_type": "execute_result",
          "data": {
            "text/plain": [
              "12"
            ]
          },
          "metadata": {},
          "execution_count": 18
        }
      ]
    },
    {
      "cell_type": "code",
      "source": [
        "idade1 = 25\n",
        "idade2 = 35"
      ],
      "metadata": {
        "id": "ZgvZ02TcZ6z2"
      },
      "execution_count": 19,
      "outputs": []
    },
    {
      "cell_type": "code",
      "source": [
        "idade1 + idade2"
      ],
      "metadata": {
        "colab": {
          "base_uri": "https://localhost:8080/"
        },
        "id": "1NTyGj98aDx5",
        "outputId": "1a2401f1-81af-42fa-88c3-f9c33696fcde"
      },
      "execution_count": 20,
      "outputs": [
        {
          "output_type": "execute_result",
          "data": {
            "text/plain": [
              "60"
            ]
          },
          "metadata": {},
          "execution_count": 20
        }
      ]
    },
    {
      "cell_type": "markdown",
      "source": [
        "**CONCATENAÇÃO DE VARIÁVEIS**"
      ],
      "metadata": {
        "id": "_IBoc44QadDX"
      }
    },
    {
      "cell_type": "code",
      "source": [
        "nome = 'Bob'"
      ],
      "metadata": {
        "id": "cNu9QvkgaHIH"
      },
      "execution_count": 21,
      "outputs": []
    },
    {
      "cell_type": "code",
      "source": [
        "sobrenome = 'Marley'"
      ],
      "metadata": {
        "id": "jVDOjUKnaiuq"
      },
      "execution_count": 22,
      "outputs": []
    },
    {
      "cell_type": "code",
      "source": [
        "fullName = nome + ' ' + sobrenome\n",
        "fullName"
      ],
      "metadata": {
        "colab": {
          "base_uri": "https://localhost:8080/",
          "height": 35
        },
        "id": "u0dcO8XEakko",
        "outputId": "199a8ac8-ea8b-4d3d-94af-4d2f57e1c983"
      },
      "execution_count": 23,
      "outputs": [
        {
          "output_type": "execute_result",
          "data": {
            "text/plain": [
              "'Bob Marley'"
            ],
            "application/vnd.google.colaboratory.intrinsic+json": {
              "type": "string"
            }
          },
          "metadata": {},
          "execution_count": 23
        }
      ]
    },
    {
      "cell_type": "code",
      "source": [],
      "metadata": {
        "id": "-cmZ9ReHaqAn"
      },
      "execution_count": null,
      "outputs": []
    }
  ]
}