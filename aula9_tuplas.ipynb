{
  "nbformat": 4,
  "nbformat_minor": 0,
  "metadata": {
    "colab": {
      "provenance": [],
      "authorship_tag": "ABX9TyMqPoc+dmqjAYY27SK4E736",
      "include_colab_link": true
    },
    "kernelspec": {
      "name": "python3",
      "display_name": "Python 3"
    },
    "language_info": {
      "name": "python"
    }
  },
  "cells": [
    {
      "cell_type": "markdown",
      "metadata": {
        "id": "view-in-github",
        "colab_type": "text"
      },
      "source": [
        "<a href=\"https://colab.research.google.com/github/laysabelici/DSAcademy/blob/main/aula9_tuplas.ipynb\" target=\"_parent\"><img src=\"https://colab.research.google.com/assets/colab-badge.svg\" alt=\"Open In Colab\"/></a>"
      ]
    },
    {
      "cell_type": "markdown",
      "source": [
        "**TUPLAS - ESTRUTURA DE DADOS**\n",
        "---\n",
        "> TUPLAS NÃO ACEITANDO APPEND NEM DEL EM ITEM ESPECIFICO"
      ],
      "metadata": {
        "id": "-j7Y615hlxFh"
      }
    },
    {
      "cell_type": "code",
      "execution_count": 1,
      "metadata": {
        "colab": {
          "base_uri": "https://localhost:8080/"
        },
        "id": "FZYHs9lvltP5",
        "outputId": "4fac3939-d638-4be7-b07d-67defd430a99"
      },
      "outputs": [
        {
          "output_type": "execute_result",
          "data": {
            "text/plain": [
              "('Geografia', 23, 'Elefante', 9.8)"
            ]
          },
          "metadata": {},
          "execution_count": 1
        }
      ],
      "source": [
        "#CRIANDO TUPLA\n",
        "tupla1 = ('Geografia', 23, 'Elefante', 9.8)\n",
        "tupla1"
      ]
    },
    {
      "cell_type": "code",
      "source": [
        "tupla2 = ('chocolate')"
      ],
      "metadata": {
        "id": "OnB5RGBImX6-"
      },
      "execution_count": 2,
      "outputs": []
    },
    {
      "cell_type": "code",
      "source": [
        "#SELECIONAR O ITEM DAS TUPLA\n",
        "tupla1[0]"
      ],
      "metadata": {
        "colab": {
          "base_uri": "https://localhost:8080/",
          "height": 35
        },
        "id": "KGfot_2Hma6Y",
        "outputId": "f1682adc-52f7-4c4f-cbed-c2cad2067978"
      },
      "execution_count": 3,
      "outputs": [
        {
          "output_type": "execute_result",
          "data": {
            "text/plain": [
              "'Geografia'"
            ],
            "application/vnd.google.colaboratory.intrinsic+json": {
              "type": "string"
            }
          },
          "metadata": {},
          "execution_count": 3
        }
      ]
    },
    {
      "cell_type": "code",
      "source": [
        "#COMPRIMENTO DA TUPLA\n",
        "len(tupla1)"
      ],
      "metadata": {
        "colab": {
          "base_uri": "https://localhost:8080/"
        },
        "id": "AUe7YwUrme_y",
        "outputId": "07d87c00-0225-44d4-e978-5e84477ea247"
      },
      "execution_count": 4,
      "outputs": [
        {
          "output_type": "execute_result",
          "data": {
            "text/plain": [
              "4"
            ]
          },
          "metadata": {},
          "execution_count": 4
        }
      ]
    },
    {
      "cell_type": "code",
      "source": [
        "#SLICING DA MESMA FORMA QUE SE FAZ LISTA\n",
        "tupla1[1:]"
      ],
      "metadata": {
        "colab": {
          "base_uri": "https://localhost:8080/"
        },
        "id": "Eo3ev-c2mpDr",
        "outputId": "eeab6802-b477-46b8-bfc6-29744e8ef592"
      },
      "execution_count": 5,
      "outputs": [
        {
          "output_type": "execute_result",
          "data": {
            "text/plain": [
              "(23, 'Elefante', 9.8)"
            ]
          },
          "metadata": {},
          "execution_count": 5
        }
      ]
    },
    {
      "cell_type": "code",
      "source": [
        "tupla1.index('Elefante')"
      ],
      "metadata": {
        "colab": {
          "base_uri": "https://localhost:8080/"
        },
        "id": "nJhTE5P5my2F",
        "outputId": "187fa8cb-eca8-4b9c-e739-1e5652cc7403"
      },
      "execution_count": 6,
      "outputs": [
        {
          "output_type": "execute_result",
          "data": {
            "text/plain": [
              "2"
            ]
          },
          "metadata": {},
          "execution_count": 6
        }
      ]
    },
    {
      "cell_type": "code",
      "source": [
        "#TUPLAS VIRAM LISTAS\n",
        "lista1 = list(tupla1)"
      ],
      "metadata": {
        "id": "xtWusubRm2Gh"
      },
      "execution_count": 7,
      "outputs": []
    },
    {
      "cell_type": "code",
      "source": [
        "lista1"
      ],
      "metadata": {
        "colab": {
          "base_uri": "https://localhost:8080/"
        },
        "id": "5IP4JuJGnDCq",
        "outputId": "7fa06daf-d496-47d7-d6b5-f8333252b865"
      },
      "execution_count": 8,
      "outputs": [
        {
          "output_type": "execute_result",
          "data": {
            "text/plain": [
              "['Geografia', 23, 'Elefante', 9.8]"
            ]
          },
          "metadata": {},
          "execution_count": 8
        }
      ]
    },
    {
      "cell_type": "code",
      "source": [
        "#APÓS CONVERTER PODE ADICIONAR ITENS A LISTA E DEPOIS VOLTA-LA A SER TUPLA\n",
        "lista1.append('gato')"
      ],
      "metadata": {
        "id": "xLGgPAKgnD-y"
      },
      "execution_count": 9,
      "outputs": []
    },
    {
      "cell_type": "code",
      "source": [
        "tupla2 = tuple(lista1)"
      ],
      "metadata": {
        "id": "RDYH9DkjnOjX"
      },
      "execution_count": 10,
      "outputs": []
    },
    {
      "cell_type": "code",
      "source": [
        "tupla2"
      ],
      "metadata": {
        "colab": {
          "base_uri": "https://localhost:8080/"
        },
        "id": "m6v4j8g2nRuB",
        "outputId": "07d5bc17-bf8d-4cf7-b88d-e057c01c2b3a"
      },
      "execution_count": 11,
      "outputs": [
        {
          "output_type": "execute_result",
          "data": {
            "text/plain": [
              "('Geografia', 23, 'Elefante', 9.8, 'gato')"
            ]
          },
          "metadata": {},
          "execution_count": 11
        }
      ]
    }
  ]
}