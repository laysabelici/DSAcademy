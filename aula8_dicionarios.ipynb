{
  "nbformat": 4,
  "nbformat_minor": 0,
  "metadata": {
    "colab": {
      "provenance": [],
      "authorship_tag": "ABX9TyPiMU7IndarBL8tooqJDiOP",
      "include_colab_link": true
    },
    "kernelspec": {
      "name": "python3",
      "display_name": "Python 3"
    },
    "language_info": {
      "name": "python"
    }
  },
  "cells": [
    {
      "cell_type": "markdown",
      "metadata": {
        "id": "view-in-github",
        "colab_type": "text"
      },
      "source": [
        "<a href=\"https://colab.research.google.com/github/laysabelici/DSAcademy/blob/main/aula8_dicionarios.ipynb\" target=\"_parent\"><img src=\"https://colab.research.google.com/assets/colab-badge.svg\" alt=\"Open In Colab\"/></a>"
      ]
    },
    {
      "cell_type": "markdown",
      "source": [
        "**DICIONÁRIOS**\n",
        "---\n",
        "> São descritos como uma key"
      ],
      "metadata": {
        "id": "FWhDbn98ewrU"
      }
    },
    {
      "cell_type": "code",
      "execution_count": 2,
      "metadata": {
        "colab": {
          "base_uri": "https://localhost:8080/",
          "height": 130
        },
        "id": "POAbeG0VeoLW",
        "outputId": "1f2fb4db-3b3d-4094-abe4-5d2c840ed933"
      },
      "outputs": [
        {
          "output_type": "error",
          "ename": "SyntaxError",
          "evalue": "ignored",
          "traceback": [
            "\u001b[0;36m  File \u001b[0;32m\"<ipython-input-2-deeaab838693>\"\u001b[0;36m, line \u001b[0;32m1\u001b[0m\n\u001b[0;31m    idadeLista = ['Pedro': 12, 'Raul':13, 'Ana':11, 'Bia':12]\u001b[0m\n\u001b[0m                         ^\u001b[0m\n\u001b[0;31mSyntaxError\u001b[0m\u001b[0;31m:\u001b[0m invalid syntax\n"
          ]
        }
      ],
      "source": [
        "idadeLista = ['Pedro': 12, 'Raul':13, 'Ana':11, 'Bia':12]"
      ]
    },
    {
      "cell_type": "code",
      "source": [
        "idadeDic = {'Pedro': 12, 'Raul':13, 'Ana':11, 'Bia':12}"
      ],
      "metadata": {
        "id": "wqN7DF5efRPX"
      },
      "execution_count": 14,
      "outputs": []
    },
    {
      "cell_type": "code",
      "source": [
        "idadeDic"
      ],
      "metadata": {
        "colab": {
          "base_uri": "https://localhost:8080/"
        },
        "id": "5Td8nQgxfZcd",
        "outputId": "13e31a30-d054-4e2b-c2e9-cf4c4931b726"
      },
      "execution_count": 5,
      "outputs": [
        {
          "output_type": "execute_result",
          "data": {
            "text/plain": [
              "{'Pedro': 12, 'Raul': 13, 'Ana': 11, 'Bia': 12}"
            ]
          },
          "metadata": {},
          "execution_count": 5
        }
      ]
    },
    {
      "cell_type": "code",
      "source": [
        "#PARA VER A KEY DO DICT\n",
        "idadeDic['Pedro']"
      ],
      "metadata": {
        "colab": {
          "base_uri": "https://localhost:8080/"
        },
        "id": "XRDz_wrIffp0",
        "outputId": "ed30efb9-3246-4b32-cbb1-36c786fd8ea9"
      },
      "execution_count": 6,
      "outputs": [
        {
          "output_type": "execute_result",
          "data": {
            "text/plain": [
              "12"
            ]
          },
          "metadata": {},
          "execution_count": 6
        }
      ]
    },
    {
      "cell_type": "code",
      "source": [
        "#ADICIONAR UM ITEM AO DICIONÁRIO COM SUA KEY\n",
        "idadeDic['Bento'] = 10"
      ],
      "metadata": {
        "id": "3nIxmWPvg7b5"
      },
      "execution_count": 7,
      "outputs": []
    },
    {
      "cell_type": "code",
      "source": [
        "idadeDic"
      ],
      "metadata": {
        "colab": {
          "base_uri": "https://localhost:8080/"
        },
        "id": "0WAq5wmAhGMT",
        "outputId": "3e600452-ec5e-49b7-cf97-d3b4e66a8961"
      },
      "execution_count": 8,
      "outputs": [
        {
          "output_type": "execute_result",
          "data": {
            "text/plain": [
              "{'Pedro': 12, 'Raul': 13, 'Ana': 11, 'Bia': 12, 'Bento': 10}"
            ]
          },
          "metadata": {},
          "execution_count": 8
        }
      ]
    },
    {
      "cell_type": "code",
      "source": [
        "#LIMPAR O DICT\n",
        "idadeDic.clear()"
      ],
      "metadata": {
        "id": "CMgcNi4JhHWM"
      },
      "execution_count": 9,
      "outputs": []
    },
    {
      "cell_type": "code",
      "source": [
        "idadeDic"
      ],
      "metadata": {
        "colab": {
          "base_uri": "https://localhost:8080/"
        },
        "id": "JjnQN0Q6hW3B",
        "outputId": "9df24d2a-8b3c-4214-be74-70fad6a3b95f"
      },
      "execution_count": 10,
      "outputs": [
        {
          "output_type": "execute_result",
          "data": {
            "text/plain": [
              "{}"
            ]
          },
          "metadata": {},
          "execution_count": 10
        }
      ]
    },
    {
      "cell_type": "code",
      "source": [
        "#APAGAR O DICT\n",
        "del idadeDic"
      ],
      "metadata": {
        "id": "qlx3j5pShXsw"
      },
      "execution_count": 12,
      "outputs": []
    },
    {
      "cell_type": "code",
      "source": [
        "idadeDic"
      ],
      "metadata": {
        "colab": {
          "base_uri": "https://localhost:8080/",
          "height": 165
        },
        "id": "enkvBdOShf2p",
        "outputId": "544f76c9-77f3-4dc6-8bf5-acca59d6ea1d"
      },
      "execution_count": 13,
      "outputs": [
        {
          "output_type": "error",
          "ename": "NameError",
          "evalue": "ignored",
          "traceback": [
            "\u001b[0;31m---------------------------------------------------------------------------\u001b[0m",
            "\u001b[0;31mNameError\u001b[0m                                 Traceback (most recent call last)",
            "\u001b[0;32m<ipython-input-13-7979fa525dfd>\u001b[0m in \u001b[0;36m<cell line: 1>\u001b[0;34m()\u001b[0m\n\u001b[0;32m----> 1\u001b[0;31m \u001b[0midadeDic\u001b[0m\u001b[0;34m\u001b[0m\u001b[0;34m\u001b[0m\u001b[0m\n\u001b[0m",
            "\u001b[0;31mNameError\u001b[0m: name 'idadeDic' is not defined"
          ]
        }
      ]
    },
    {
      "cell_type": "code",
      "source": [
        "#COMPRIMENTO DO DICT\n",
        "len(idadeDic)"
      ],
      "metadata": {
        "colab": {
          "base_uri": "https://localhost:8080/"
        },
        "id": "mXTvfX_GhhEw",
        "outputId": "004f764b-aa07-476d-f753-e2cf77696586"
      },
      "execution_count": 15,
      "outputs": [
        {
          "output_type": "execute_result",
          "data": {
            "text/plain": [
              "4"
            ]
          },
          "metadata": {},
          "execution_count": 15
        }
      ]
    },
    {
      "cell_type": "code",
      "source": [
        "#MOSTRA AS KEYS\n",
        "idadeDic.keys()"
      ],
      "metadata": {
        "colab": {
          "base_uri": "https://localhost:8080/"
        },
        "id": "Enfd7njahlbN",
        "outputId": "31bf84b7-9f6b-446b-ba0b-46d201e10aae"
      },
      "execution_count": 16,
      "outputs": [
        {
          "output_type": "execute_result",
          "data": {
            "text/plain": [
              "dict_keys(['Pedro', 'Raul', 'Ana', 'Bia'])"
            ]
          },
          "metadata": {},
          "execution_count": 16
        }
      ]
    },
    {
      "cell_type": "code",
      "source": [
        "#VALORES DA CHAVE DO DICT\n",
        "idadeDic.values()"
      ],
      "metadata": {
        "colab": {
          "base_uri": "https://localhost:8080/"
        },
        "id": "2v9KWv3khsVt",
        "outputId": "54a9ceec-2a56-40d7-e106-d2cc4150e429"
      },
      "execution_count": 18,
      "outputs": [
        {
          "output_type": "execute_result",
          "data": {
            "text/plain": [
              "dict_values([12, 13, 11, 12])"
            ]
          },
          "metadata": {},
          "execution_count": 18
        }
      ]
    },
    {
      "cell_type": "code",
      "source": [
        "#MOSTRA OS ITENS DO DICIONÁRIO\n",
        "idadeDic.items()"
      ],
      "metadata": {
        "colab": {
          "base_uri": "https://localhost:8080/"
        },
        "id": "EUQd0P_nhww1",
        "outputId": "c8cc06a4-9b46-4281-bc9a-ad33ea665745"
      },
      "execution_count": 20,
      "outputs": [
        {
          "output_type": "execute_result",
          "data": {
            "text/plain": [
              "dict_items([('Pedro', 12), ('Raul', 13), ('Ana', 11), ('Bia', 12)])"
            ]
          },
          "metadata": {},
          "execution_count": 20
        }
      ]
    },
    {
      "cell_type": "code",
      "source": [
        "estudantes = {'Aline':16, 'Gabi':17}"
      ],
      "metadata": {
        "id": "dz81QAuJiLxQ"
      },
      "execution_count": 22,
      "outputs": []
    },
    {
      "cell_type": "code",
      "source": [
        "idadeDic.update(estudantes)"
      ],
      "metadata": {
        "id": "_UreF6vZh8lF"
      },
      "execution_count": 23,
      "outputs": []
    },
    {
      "cell_type": "code",
      "source": [
        "idadeDic"
      ],
      "metadata": {
        "colab": {
          "base_uri": "https://localhost:8080/"
        },
        "id": "VM2Xc_omiJCH",
        "outputId": "1e16094d-a0bd-423b-df23-5e0619e2d49b"
      },
      "execution_count": 24,
      "outputs": [
        {
          "output_type": "execute_result",
          "data": {
            "text/plain": [
              "{'Pedro': 12, 'Raul': 13, 'Ana': 11, 'Bia': 12, 'Aline': 16, 'Gabi': 17}"
            ]
          },
          "metadata": {},
          "execution_count": 24
        }
      ]
    },
    {
      "cell_type": "code",
      "source": [
        "#DICT VÁZIO\n",
        "dic1 = {}"
      ],
      "metadata": {
        "id": "BcES9L3MiT04"
      },
      "execution_count": 25,
      "outputs": []
    },
    {
      "cell_type": "code",
      "source": [
        "dic1['chave1'] = 2"
      ],
      "metadata": {
        "id": "LdArzW4biXvF"
      },
      "execution_count": 26,
      "outputs": []
    },
    {
      "cell_type": "code",
      "source": [
        "print(dic1)"
      ],
      "metadata": {
        "colab": {
          "base_uri": "https://localhost:8080/"
        },
        "id": "yQiu2N4fihGk",
        "outputId": "c3d5f32e-1841-4356-bbdc-dd305096ba48"
      },
      "execution_count": 27,
      "outputs": [
        {
          "output_type": "stream",
          "name": "stdout",
          "text": [
            "{'chave1': 2}\n"
          ]
        }
      ]
    },
    {
      "cell_type": "code",
      "source": [
        "dic1[10] = 3"
      ],
      "metadata": {
        "id": "nDkMZ7VAiihD"
      },
      "execution_count": 28,
      "outputs": []
    },
    {
      "cell_type": "code",
      "source": [
        "print(dic1)"
      ],
      "metadata": {
        "colab": {
          "base_uri": "https://localhost:8080/"
        },
        "id": "CaWjnfpfimN6",
        "outputId": "9fc08e96-b01f-46d3-f9a4-36d4d7003652"
      },
      "execution_count": 29,
      "outputs": [
        {
          "output_type": "stream",
          "name": "stdout",
          "text": [
            "{'chave1': 2, 10: 3}\n"
          ]
        }
      ]
    },
    {
      "cell_type": "markdown",
      "source": [
        "ATENÇÃO POIS CHAVE E VALOR PODEM SER IGUAIS, MAS REPRESENTAM COISAS DIFERENTES"
      ],
      "metadata": {
        "id": "158uNFV4izk0"
      }
    },
    {
      "cell_type": "code",
      "source": [
        "dict2 = {}"
      ],
      "metadata": {
        "id": "3z1p1ae2ioQi"
      },
      "execution_count": 30,
      "outputs": []
    },
    {
      "cell_type": "code",
      "source": [
        "dict2['key1'] = 'Data Science'"
      ],
      "metadata": {
        "id": "Dkkal5Qei9Ya"
      },
      "execution_count": 31,
      "outputs": []
    },
    {
      "cell_type": "code",
      "source": [
        "dict2['key2'] = 10"
      ],
      "metadata": {
        "id": "Lrm7za99jCBT"
      },
      "execution_count": 32,
      "outputs": []
    },
    {
      "cell_type": "code",
      "source": [
        "dict2['key3'] = 34.7"
      ],
      "metadata": {
        "id": "jMZvkwD1jFSM"
      },
      "execution_count": 33,
      "outputs": []
    },
    {
      "cell_type": "code",
      "source": [
        "dict2"
      ],
      "metadata": {
        "colab": {
          "base_uri": "https://localhost:8080/"
        },
        "id": "Xs4PCekFjIRS",
        "outputId": "48edf9a9-811c-4955-f0d6-a849cbade68a"
      },
      "execution_count": 34,
      "outputs": [
        {
          "output_type": "execute_result",
          "data": {
            "text/plain": [
              "{'key1': 'Data Science', 'key2': 10, 'key3': 34.7}"
            ]
          },
          "metadata": {},
          "execution_count": 34
        }
      ]
    },
    {
      "cell_type": "code",
      "source": [
        "a = dict2['key1']"
      ],
      "metadata": {
        "id": "3G7F-anOjJak"
      },
      "execution_count": 35,
      "outputs": []
    },
    {
      "cell_type": "code",
      "source": [
        "a"
      ],
      "metadata": {
        "colab": {
          "base_uri": "https://localhost:8080/",
          "height": 35
        },
        "id": "BQTRPiZzjOJO",
        "outputId": "120deb36-3c88-4b74-b60c-8acb10efbdf5"
      },
      "execution_count": 36,
      "outputs": [
        {
          "output_type": "execute_result",
          "data": {
            "text/plain": [
              "'Data Science'"
            ],
            "application/vnd.google.colaboratory.intrinsic+json": {
              "type": "string"
            }
          },
          "metadata": {},
          "execution_count": 36
        }
      ]
    },
    {
      "cell_type": "code",
      "source": [
        "#DICT DE LISTA\n",
        "dict3 = {'chave1':123, 'chave2':[3,4,5], 'chave3':['planta', 12, 56.8]}"
      ],
      "metadata": {
        "id": "pjJ3KxfCjOyf"
      },
      "execution_count": 37,
      "outputs": []
    },
    {
      "cell_type": "code",
      "source": [
        "dict3"
      ],
      "metadata": {
        "colab": {
          "base_uri": "https://localhost:8080/"
        },
        "id": "zmhAe5FTjpkO",
        "outputId": "2d121f5a-bbc9-4303-c4b7-adefcabf9149"
      },
      "execution_count": 38,
      "outputs": [
        {
          "output_type": "execute_result",
          "data": {
            "text/plain": [
              "{'chave1': 123, 'chave2': [3, 4, 5], 'chave3': ['planta', 12, 56.8]}"
            ]
          },
          "metadata": {},
          "execution_count": 38
        }
      ]
    },
    {
      "cell_type": "code",
      "source": [
        "dict3['chave2']"
      ],
      "metadata": {
        "colab": {
          "base_uri": "https://localhost:8080/"
        },
        "id": "cyr6jkagjrL0",
        "outputId": "8b7d4f39-b58e-4d9b-a933-1222ac65c5d6"
      },
      "execution_count": 39,
      "outputs": [
        {
          "output_type": "execute_result",
          "data": {
            "text/plain": [
              "[3, 4, 5]"
            ]
          },
          "metadata": {},
          "execution_count": 39
        }
      ]
    },
    {
      "cell_type": "code",
      "source": [
        "#ACESSANDO UM ITEM DA LISTA DENTRO DO DICIONÁRIO\n",
        "dict3['chave3'][0].upper()"
      ],
      "metadata": {
        "colab": {
          "base_uri": "https://localhost:8080/",
          "height": 35
        },
        "id": "MVOXAEAajumk",
        "outputId": "ffae5b1d-9adf-4eb2-d5cd-cb827d693070"
      },
      "execution_count": 40,
      "outputs": [
        {
          "output_type": "execute_result",
          "data": {
            "text/plain": [
              "'PLANTA'"
            ],
            "application/vnd.google.colaboratory.intrinsic+json": {
              "type": "string"
            }
          },
          "metadata": {},
          "execution_count": 40
        }
      ]
    },
    {
      "cell_type": "code",
      "source": [
        "#OPERAÇÕES COM ITENS DA LISTA, DENTRO DO DICT\n",
        "var1 = dict3['chave2'][0] - 2"
      ],
      "metadata": {
        "id": "ZMIpmDHFj4i6"
      },
      "execution_count": 41,
      "outputs": []
    },
    {
      "cell_type": "code",
      "source": [
        "var1"
      ],
      "metadata": {
        "colab": {
          "base_uri": "https://localhost:8080/"
        },
        "id": "Qzbzzql7kK8U",
        "outputId": "22ee40f2-8db4-41e4-a27a-0252acada499"
      },
      "execution_count": 42,
      "outputs": [
        {
          "output_type": "execute_result",
          "data": {
            "text/plain": [
              "1"
            ]
          },
          "metadata": {},
          "execution_count": 42
        }
      ]
    },
    {
      "cell_type": "code",
      "source": [
        "#DUAS OPERAÇÕES NO MESMO COMANDO, PARA ATUALIZAR UM ITEM DENTRO DA LISTA\n",
        "dict3['chave2'][0] -= 89"
      ],
      "metadata": {
        "id": "GMNy-SSKkL9U"
      },
      "execution_count": 43,
      "outputs": []
    },
    {
      "cell_type": "code",
      "source": [
        "dict3"
      ],
      "metadata": {
        "colab": {
          "base_uri": "https://localhost:8080/"
        },
        "id": "QKVPfPyYkbm4",
        "outputId": "3534a16c-b6b8-4a4b-b9aa-ce1c0af71483"
      },
      "execution_count": 44,
      "outputs": [
        {
          "output_type": "execute_result",
          "data": {
            "text/plain": [
              "{'chave1': 123, 'chave2': [-86, 4, 5], 'chave3': ['planta', 12, 56.8]}"
            ]
          },
          "metadata": {},
          "execution_count": 44
        }
      ]
    },
    {
      "cell_type": "markdown",
      "source": [
        "**ANINHANDO DICIONÁRIOS**"
      ],
      "metadata": {
        "id": "-0Xg6FOfk3wA"
      }
    },
    {
      "cell_type": "code",
      "source": [
        "dict_aninhado = {'key1':{'key1.1':{'key1.1.1':'valor'}}}"
      ],
      "metadata": {
        "id": "X4wf2Benkc4p"
      },
      "execution_count": 45,
      "outputs": []
    },
    {
      "cell_type": "code",
      "source": [
        "dict_aninhado"
      ],
      "metadata": {
        "colab": {
          "base_uri": "https://localhost:8080/"
        },
        "id": "Zab45vgHlPiX",
        "outputId": "2eb501d7-421a-4d84-b431-ee313ce1e1d5"
      },
      "execution_count": 46,
      "outputs": [
        {
          "output_type": "execute_result",
          "data": {
            "text/plain": [
              "{'key1': {'key1.1': {'key1.1.1': 'valor'}}}"
            ]
          },
          "metadata": {},
          "execution_count": 46
        }
      ]
    },
    {
      "cell_type": "code",
      "source": [
        "dict_aninhado['key1']['key1.1']['key1.1.1']"
      ],
      "metadata": {
        "colab": {
          "base_uri": "https://localhost:8080/",
          "height": 35
        },
        "id": "u4XNTQh-lQtJ",
        "outputId": "4ba3a07d-fdf4-4647-a522-c3e987f8d2cb"
      },
      "execution_count": 47,
      "outputs": [
        {
          "output_type": "execute_result",
          "data": {
            "text/plain": [
              "'valor'"
            ],
            "application/vnd.google.colaboratory.intrinsic+json": {
              "type": "string"
            }
          },
          "metadata": {},
          "execution_count": 47
        }
      ]
    }
  ]
}