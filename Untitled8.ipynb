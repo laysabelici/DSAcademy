{
  "nbformat": 4,
  "nbformat_minor": 0,
  "metadata": {
    "colab": {
      "provenance": [],
      "authorship_tag": "ABX9TyM5UAoh0RScE9RpxhhEg9ym",
      "include_colab_link": true
    },
    "kernelspec": {
      "name": "python3",
      "display_name": "Python 3"
    },
    "language_info": {
      "name": "python"
    }
  },
  "cells": [
    {
      "cell_type": "markdown",
      "metadata": {
        "id": "view-in-github",
        "colab_type": "text"
      },
      "source": [
        "<a href=\"https://colab.research.google.com/github/laysabelici/DSAcademy/blob/main/Untitled8.ipynb\" target=\"_parent\"><img src=\"https://colab.research.google.com/assets/colab-badge.svg\" alt=\"Open In Colab\"/></a>"
      ]
    },
    {
      "cell_type": "markdown",
      "source": [
        "Crie o programa \"Bart Simpson\": ele recebe um número de vezes e uma frase, e imprime na tela a mesma frase até atingir o número de vezes solicitado."
      ],
      "metadata": {
        "id": "jsVJcVzLgHLe"
      }
    },
    {
      "cell_type": "code",
      "source": [
        "print('------BART SIMPSON--------')\n",
        "\n",
        "numero = int(input('Digite um número: '))\n",
        "frase = input('Digite uma frase: ')\n",
        "i = 0\n",
        "while i < numero:\n",
        "  print(f'{frase}, {numero}')\n",
        "  i+=1\n"
      ],
      "metadata": {
        "colab": {
          "base_uri": "https://localhost:8080/"
        },
        "id": "kG6sSTxNgG6Z",
        "outputId": "ce619e6a-78b9-4211-f4b3-873a14eb022b"
      },
      "execution_count": 5,
      "outputs": [
        {
          "output_type": "stream",
          "name": "stdout",
          "text": [
            "------BART SIMPSON--------\n",
            "Digite um número: 4\n",
            "Digite uma frase: a\n",
            "a, 4\n",
            "a, 4\n",
            "a, 4\n",
            "a, 4\n"
          ]
        }
      ]
    },
    {
      "cell_type": "markdown",
      "source": [
        "Crie um programa que retorne o somatório de todos os números entre 1 e um número fornecido pelo usuário."
      ],
      "metadata": {
        "id": "yVbBwSWZgHhB"
      }
    },
    {
      "cell_type": "code",
      "source": [
        "print('------SOMATÓRIO--------')\n",
        "\n",
        "numero = int(input('Digite um número: '))\n",
        "i = 0\n",
        "somatorio = 0\n",
        "\n",
        "while i < numero:\n",
        "  somatorio += numero\n",
        "  i +=1\n",
        "print(somatorio)"
      ],
      "metadata": {
        "colab": {
          "base_uri": "https://localhost:8080/"
        },
        "id": "bqGUsuBwgG23",
        "outputId": "4d6155a5-1962-4d72-a18b-9bdfff3f3e03"
      },
      "execution_count": 6,
      "outputs": [
        {
          "output_type": "stream",
          "name": "stdout",
          "text": [
            "------SOMATÓRIO--------\n",
            "Digite um número: 5\n",
            "25\n"
          ]
        }
      ]
    },
    {
      "cell_type": "markdown",
      "source": [
        "Usando o comendo while, Crie um script que retorne o somatório de todos os números pares entre 0 e 100."
      ],
      "metadata": {
        "id": "nU0wyIEogH5v"
      }
    },
    {
      "cell_type": "code",
      "source": [
        "print('-------SOMATÓRIO 100--------')\n",
        "\n",
        "numeros = 100\n",
        "i = 0\n",
        "somatorio = 0\n",
        "\n",
        "while 0 < numeros:\n",
        "  if(numeros%2)==0:\n",
        "    somatorio += numeros\n",
        "  numeros -= 1\n",
        "print(somatorio)"
      ],
      "metadata": {
        "colab": {
          "base_uri": "https://localhost:8080/"
        },
        "id": "kxv1bikugGx0",
        "outputId": "5d8780ef-75b6-4df8-d915-abea879d7a26"
      },
      "execution_count": 9,
      "outputs": [
        {
          "output_type": "stream",
          "name": "stdout",
          "text": [
            "2550\n"
          ]
        }
      ]
    },
    {
      "cell_type": "markdown",
      "source": [
        "Crie um programa que receba quantas notas o professor quiser de um aluno e pare quando o professor inserir a letra \"S\". Quando parar, o programa deve retornar a média das notas digitadas e dizer se o aluno foi aprovado (média maior ou igual a 7) ou reprovado (média menor que 7)."
      ],
      "metadata": {
        "id": "TCY2SimMgIOA"
      }
    },
    {
      "cell_type": "code",
      "source": [
        "print('-------NOTAS--------')\n",
        "sair = 'N'\n",
        "media = 0\n",
        "nota = 0\n",
        "somaNotas = 0\n",
        "i = 0\n",
        "\n",
        "while(sair != 'S'):\n",
        "  nota = int(input('Insira a nota: '))\n",
        "  if(sair != 'S'):\n",
        "    somaNotas += nota\n",
        "  i += 1\n",
        "  media = (somaNotas)/i\n",
        "  sair = str(input('Digite S para sair e N para continuar.').upper())\n",
        "\n",
        "if(media>=7):\n",
        "  print(f'Aprovado, nota: {somaNotas}, iterações {i}, média {media}.')\n",
        "else:\n",
        "  print(f'Reprovado, nota: {somaNotas}, iterações {i}, média {media}.')"
      ],
      "metadata": {
        "colab": {
          "base_uri": "https://localhost:8080/"
        },
        "id": "dMF9fxiFgGfm",
        "outputId": "29d9c875-155c-4f09-f655-5146569bf858"
      },
      "execution_count": 13,
      "outputs": [
        {
          "output_type": "stream",
          "name": "stdout",
          "text": [
            "-------NOTAS--------\n",
            "Insira a nota: 10\n",
            "Digite S para sair e N para continuar.e\n",
            "Insira a nota: 5\n",
            "Digite S para sair e N para continuar.r\n",
            "Insira a nota: 3\n",
            "Digite S para sair e N para continuar.s\n",
            "Reprovado, nota: 18, iterações 3, média 6.0.\n"
          ]
        }
      ]
    },
    {
      "cell_type": "markdown",
      "source": [
        "Usando o comando while, crie um programa que solicite um número inteiro ao usuário e imprima quantos números primos existem abaixo deste número."
      ],
      "metadata": {
        "id": "K5hkzijpgIkV"
      }
    },
    {
      "cell_type": "code",
      "execution_count": 45,
      "metadata": {
        "colab": {
          "base_uri": "https://localhost:8080/"
        },
        "id": "ps_kL4pMgFgZ",
        "outputId": "cf94f0f7-a28b-4b94-9eeb-884588f98288"
      },
      "outputs": [
        {
          "output_type": "stream",
          "name": "stdout",
          "text": [
            "--------PRIMO--------\n",
            "Digite um número: 8\n",
            "Existem 4 números primos abaixo de 8, são eles [2, 3, 5, 7]\n"
          ]
        }
      ],
      "source": [
        "print('--------PRIMO--------')\n",
        "\n",
        "numero = int(input('Digite um número: '))\n",
        "#divisor = 2\n",
        "#i = 2\n",
        "#contador = 0\n",
        "#primo = True\n",
        "#primos = []\n",
        "\n",
        "if numero < 2:\n",
        "  print(f'{numero} não é primo. E não há número primo abaixo dele.')\n",
        "\n",
        "else:\n",
        "\n",
        "  contador = 0\n",
        "  primos = []\n",
        "  i = 2\n",
        "  while i < numero:\n",
        "    divisor = 2\n",
        "    primo = True\n",
        "    while divisor < i:\n",
        "      if (i%divisor)==0:\n",
        "        primo = False\n",
        "        break\n",
        "      divisor += 1\n",
        "    if primo:\n",
        "      contador += 1\n",
        "      primos.append(i)\n",
        "    i += 1\n",
        "\n",
        "  if contador == 0:\n",
        "    print(f'Não existe número primo abaxio de {numero}.')\n",
        "  else:\n",
        "    print(f'Existem {contador} números primos abaixo de {numero}, são eles {primos}')"
      ]
    },
    {
      "cell_type": "code",
      "source": [
        "print('--------PRIMO--------')\n",
        "\n",
        "numero = int(input('Digite um número: '))\n",
        "divisor = 2\n",
        "i = 0\n",
        "primo = True\n",
        "\n",
        "if numero < 2:\n",
        "  print(f'{numero} não é primo.')\n",
        "else:\n",
        "  while divisor < numero:\n",
        "    if (numero%divisor)==0:\n",
        "      primo = False\n",
        "      break\n",
        "    divisor += 1\n",
        "  if primo:\n",
        "    print(f'{numero} é primo')\n",
        "  else:\n",
        "    print(f'{numero} não é primo')"
      ],
      "metadata": {
        "colab": {
          "base_uri": "https://localhost:8080/"
        },
        "id": "wIRylno_ohlf",
        "outputId": "b6d20ecb-4617-4d32-baaa-49c36809da6d"
      },
      "execution_count": 31,
      "outputs": [
        {
          "output_type": "stream",
          "name": "stdout",
          "text": [
            "11 é primo\n"
          ]
        }
      ]
    },
    {
      "cell_type": "markdown",
      "source": [
        "Refaça o programa anterior, com a seguinte funcionalidade: caso o usuário insira um número negativo, o programa deve solicitar outra entrada, até que uma opção válida seja inserida."
      ],
      "metadata": {
        "id": "MB09vgzOFAzO"
      }
    },
    {
      "cell_type": "code",
      "source": [],
      "metadata": {
        "id": "J2_3qLJPpjsL"
      },
      "execution_count": null,
      "outputs": []
    }
  ]
}