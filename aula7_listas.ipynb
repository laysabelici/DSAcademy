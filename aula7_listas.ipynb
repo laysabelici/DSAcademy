{
  "nbformat": 4,
  "nbformat_minor": 0,
  "metadata": {
    "colab": {
      "provenance": [],
      "authorship_tag": "ABX9TyM2ZICE3fqTTL1LhzKA1PFO",
      "include_colab_link": true
    },
    "kernelspec": {
      "name": "python3",
      "display_name": "Python 3"
    },
    "language_info": {
      "name": "python"
    }
  },
  "cells": [
    {
      "cell_type": "markdown",
      "metadata": {
        "id": "view-in-github",
        "colab_type": "text"
      },
      "source": [
        "<a href=\"https://colab.research.google.com/github/laysabelici/DSAcademy/blob/main/aula7_listas.ipynb\" target=\"_parent\"><img src=\"https://colab.research.google.com/assets/colab-badge.svg\" alt=\"Open In Colab\"/></a>"
      ]
    },
    {
      "cell_type": "markdown",
      "source": [
        "**TRABALHANDO COM LISTAS**"
      ],
      "metadata": {
        "id": "Mcg1OM0gTLRV"
      }
    },
    {
      "cell_type": "code",
      "execution_count": 1,
      "metadata": {
        "id": "zh7Qjwp3TB-N"
      },
      "outputs": [],
      "source": [
        "lista1 = ['arroz, feijão, frango, leite, tomate']"
      ]
    },
    {
      "cell_type": "code",
      "source": [
        "type(lista1)"
      ],
      "metadata": {
        "colab": {
          "base_uri": "https://localhost:8080/"
        },
        "id": "gXUoP2rHTWhE",
        "outputId": "df13349f-4dea-425a-d191-3637bb6a30c4"
      },
      "execution_count": 2,
      "outputs": [
        {
          "output_type": "execute_result",
          "data": {
            "text/plain": [
              "list"
            ]
          },
          "metadata": {},
          "execution_count": 2
        }
      ]
    },
    {
      "cell_type": "code",
      "source": [
        "print(lista1)"
      ],
      "metadata": {
        "colab": {
          "base_uri": "https://localhost:8080/"
        },
        "id": "uLxyTGUhTXmq",
        "outputId": "7598016f-0c67-48a4-978c-44967263cda2"
      },
      "execution_count": 3,
      "outputs": [
        {
          "output_type": "stream",
          "name": "stdout",
          "text": [
            "['arroz, feijão, frango, leite, tomate']\n"
          ]
        }
      ]
    },
    {
      "cell_type": "code",
      "source": [
        "lista2 = ['arroz', 'feijão', 'frango', 'leite', 'tomate']"
      ],
      "metadata": {
        "id": "FLLOInMgTZlE"
      },
      "execution_count": 4,
      "outputs": []
    },
    {
      "cell_type": "code",
      "source": [
        "type(lista2)"
      ],
      "metadata": {
        "colab": {
          "base_uri": "https://localhost:8080/"
        },
        "id": "eDpKe65gTggC",
        "outputId": "f7ab7474-1687-4cee-d84a-bae88c2ef502"
      },
      "execution_count": 5,
      "outputs": [
        {
          "output_type": "execute_result",
          "data": {
            "text/plain": [
              "list"
            ]
          },
          "metadata": {},
          "execution_count": 5
        }
      ]
    },
    {
      "cell_type": "code",
      "source": [
        "print(lista2)"
      ],
      "metadata": {
        "colab": {
          "base_uri": "https://localhost:8080/"
        },
        "id": "JENp-kdfThVy",
        "outputId": "94adb540-7bc2-4143-bfe8-76a7f2177684"
      },
      "execution_count": 6,
      "outputs": [
        {
          "output_type": "stream",
          "name": "stdout",
          "text": [
            "['arroz', 'feijão', 'frango', 'leite', 'tomate']\n"
          ]
        }
      ]
    },
    {
      "cell_type": "code",
      "source": [
        "lista3 = [13, 45.2, 'Números']"
      ],
      "metadata": {
        "id": "SNtcY6_7TjKN"
      },
      "execution_count": 7,
      "outputs": []
    },
    {
      "cell_type": "code",
      "source": [
        "type(lista3)"
      ],
      "metadata": {
        "colab": {
          "base_uri": "https://localhost:8080/"
        },
        "id": "fyZvE4YcTp3Q",
        "outputId": "660d4d5e-08d9-480e-84b7-c6902c3cbefd"
      },
      "execution_count": 8,
      "outputs": [
        {
          "output_type": "execute_result",
          "data": {
            "text/plain": [
              "list"
            ]
          },
          "metadata": {},
          "execution_count": 8
        }
      ]
    },
    {
      "cell_type": "code",
      "source": [
        "print(lista3)"
      ],
      "metadata": {
        "colab": {
          "base_uri": "https://localhost:8080/"
        },
        "id": "g2yV7qgCTq-V",
        "outputId": "cc5a56c8-d724-4b54-b016-14e9d16665a3"
      },
      "execution_count": 9,
      "outputs": [
        {
          "output_type": "stream",
          "name": "stdout",
          "text": [
            "[13, 45.2, 'Números']\n"
          ]
        }
      ]
    },
    {
      "cell_type": "code",
      "source": [
        "#UMA LISTA PODE SER ADICIONADA A UMA VARIAVEL\n",
        "item1 = lista1[0]\n",
        "print(item1)"
      ],
      "metadata": {
        "colab": {
          "base_uri": "https://localhost:8080/"
        },
        "id": "yIzs17ujTr9U",
        "outputId": "d2ed7445-a889-497f-89f6-1d113b9ab664"
      },
      "execution_count": 13,
      "outputs": [
        {
          "output_type": "stream",
          "name": "stdout",
          "text": [
            "arroz, feijão, frango, leite, tomate\n"
          ]
        }
      ]
    },
    {
      "cell_type": "code",
      "source": [
        "item2 = lista2[2]\n",
        "print(item2)"
      ],
      "metadata": {
        "colab": {
          "base_uri": "https://localhost:8080/"
        },
        "id": "1GYp8IG1T7JW",
        "outputId": "b63cb5c4-1b1c-417f-fcbb-1ff18cb6ef7f"
      },
      "execution_count": 14,
      "outputs": [
        {
          "output_type": "stream",
          "name": "stdout",
          "text": [
            "frango\n"
          ]
        }
      ]
    },
    {
      "cell_type": "markdown",
      "source": [
        "**ADCIONAR ITEM DA LISTA**"
      ],
      "metadata": {
        "id": "tt0392WRWMrM"
      }
    },
    {
      "cell_type": "code",
      "source": [
        "lista2"
      ],
      "metadata": {
        "colab": {
          "base_uri": "https://localhost:8080/"
        },
        "id": "YhPdo8SwWSA9",
        "outputId": "cffc84eb-2759-4324-cdfc-b6e4c39c8312"
      },
      "execution_count": 15,
      "outputs": [
        {
          "output_type": "execute_result",
          "data": {
            "text/plain": [
              "['arroz', 'feijão', 'frango', 'leite', 'tomate']"
            ]
          },
          "metadata": {},
          "execution_count": 15
        }
      ]
    },
    {
      "cell_type": "code",
      "source": [
        "lista2[2]"
      ],
      "metadata": {
        "colab": {
          "base_uri": "https://localhost:8080/",
          "height": 35
        },
        "id": "fA-Xf64HWTEm",
        "outputId": "525d006d-04eb-4e59-e418-47438a629c61"
      },
      "execution_count": 16,
      "outputs": [
        {
          "output_type": "execute_result",
          "data": {
            "text/plain": [
              "'frango'"
            ],
            "application/vnd.google.colaboratory.intrinsic+json": {
              "type": "string"
            }
          },
          "metadata": {},
          "execution_count": 16
        }
      ]
    },
    {
      "cell_type": "code",
      "source": [
        "lista2[2] = 'macarrão'"
      ],
      "metadata": {
        "id": "Owww3vbcWUzt"
      },
      "execution_count": 18,
      "outputs": []
    },
    {
      "cell_type": "code",
      "source": [
        "lista2"
      ],
      "metadata": {
        "colab": {
          "base_uri": "https://localhost:8080/"
        },
        "id": "3v914mn1Wa0t",
        "outputId": "603643d3-9688-41ca-bf25-9d27d7677944"
      },
      "execution_count": 19,
      "outputs": [
        {
          "output_type": "execute_result",
          "data": {
            "text/plain": [
              "['arroz', 'feijão', 'macarrão', 'leite', 'tomate']"
            ]
          },
          "metadata": {},
          "execution_count": 19
        }
      ]
    },
    {
      "cell_type": "markdown",
      "source": [
        "**DELETAR ITEM DA LISTA**"
      ],
      "metadata": {
        "id": "hPfjP0wLWiJl"
      }
    },
    {
      "cell_type": "code",
      "source": [
        "lista3"
      ],
      "metadata": {
        "colab": {
          "base_uri": "https://localhost:8080/"
        },
        "id": "PZNJdXIuWbY9",
        "outputId": "b9f4db3f-8977-4903-e36a-2add4192167f"
      },
      "execution_count": 20,
      "outputs": [
        {
          "output_type": "execute_result",
          "data": {
            "text/plain": [
              "[13, 45.2, 'Números']"
            ]
          },
          "metadata": {},
          "execution_count": 20
        }
      ]
    },
    {
      "cell_type": "code",
      "source": [
        "del lista3[1]"
      ],
      "metadata": {
        "id": "5X8ouvp1Wlz1"
      },
      "execution_count": 21,
      "outputs": []
    },
    {
      "cell_type": "code",
      "source": [
        "lista3"
      ],
      "metadata": {
        "colab": {
          "base_uri": "https://localhost:8080/"
        },
        "id": "QB1T-tbsWosr",
        "outputId": "c26ccb4c-2e3a-41c8-c10e-7b19cddbdeb1"
      },
      "execution_count": 22,
      "outputs": [
        {
          "output_type": "execute_result",
          "data": {
            "text/plain": [
              "[13, 'Números']"
            ]
          },
          "metadata": {},
          "execution_count": 22
        }
      ]
    },
    {
      "cell_type": "markdown",
      "source": [
        "**LISTA DE LISTA OU LISTA ALINHADA**"
      ],
      "metadata": {
        "id": "2iX8hdDuW3js"
      }
    },
    {
      "cell_type": "code",
      "source": [
        "#CRIANDO LISTA DENTRO DA LISTA\n",
        "lista4 = [[1, 2, 3], [10, 15, 20], [50, 60, 70]]\n",
        "lista4"
      ],
      "metadata": {
        "colab": {
          "base_uri": "https://localhost:8080/"
        },
        "id": "GDpDyA7-WpbF",
        "outputId": "9bb7e009-d720-4721-9882-30f00164b28a"
      },
      "execution_count": 23,
      "outputs": [
        {
          "output_type": "execute_result",
          "data": {
            "text/plain": [
              "[[1, 2, 3], [10, 15, 20], [50, 60, 70]]"
            ]
          },
          "metadata": {},
          "execution_count": 23
        }
      ]
    },
    {
      "cell_type": "code",
      "source": [
        "#ATRIBUIR UM ITEM DA LISTA A UMA VARIAVEL\n",
        "b = lista4[0]\n",
        "b"
      ],
      "metadata": {
        "colab": {
          "base_uri": "https://localhost:8080/"
        },
        "id": "lEmf1xqeXKe3",
        "outputId": "7126ee1a-66bf-4a7b-81da-4dfe1b5517af"
      },
      "execution_count": 24,
      "outputs": [
        {
          "output_type": "execute_result",
          "data": {
            "text/plain": [
              "[1, 2, 3]"
            ]
          },
          "metadata": {},
          "execution_count": 24
        }
      ]
    },
    {
      "cell_type": "code",
      "source": [
        "c = b[0]\n",
        "c"
      ],
      "metadata": {
        "colab": {
          "base_uri": "https://localhost:8080/"
        },
        "id": "9bb9h0VMXUWb",
        "outputId": "b2416b39-d468-4c67-ec2e-b7229852cebc"
      },
      "execution_count": 26,
      "outputs": [
        {
          "output_type": "execute_result",
          "data": {
            "text/plain": [
              "1"
            ]
          },
          "metadata": {},
          "execution_count": 26
        }
      ]
    },
    {
      "cell_type": "code",
      "source": [
        "lista5 = lista4[1]\n",
        "lista5"
      ],
      "metadata": {
        "colab": {
          "base_uri": "https://localhost:8080/"
        },
        "id": "eTrHbM6GXWlQ",
        "outputId": "7251dad2-6b32-4f79-f012-1bbaf91e5ba3"
      },
      "execution_count": 28,
      "outputs": [
        {
          "output_type": "execute_result",
          "data": {
            "text/plain": [
              "[10, 15, 20]"
            ]
          },
          "metadata": {},
          "execution_count": 28
        }
      ]
    },
    {
      "cell_type": "code",
      "source": [
        "valor = lista5[1]\n",
        "valor"
      ],
      "metadata": {
        "colab": {
          "base_uri": "https://localhost:8080/"
        },
        "id": "q2iCpt54XcQX",
        "outputId": "73e884da-aaa4-4088-b54e-b77cbd5495dc"
      },
      "execution_count": 29,
      "outputs": [
        {
          "output_type": "execute_result",
          "data": {
            "text/plain": [
              "15"
            ]
          },
          "metadata": {},
          "execution_count": 29
        }
      ]
    },
    {
      "cell_type": "markdown",
      "source": [
        "**OPERAÇÕES COM LISTAS**"
      ],
      "metadata": {
        "id": "s4nkd16hXord"
      }
    },
    {
      "cell_type": "code",
      "source": [
        "lista4"
      ],
      "metadata": {
        "colab": {
          "base_uri": "https://localhost:8080/"
        },
        "id": "_j2b3tVNXtuM",
        "outputId": "1e0b68f4-dde6-453d-db4f-8be83127c1d1"
      },
      "execution_count": 30,
      "outputs": [
        {
          "output_type": "execute_result",
          "data": {
            "text/plain": [
              "[[1, 2, 3], [10, 15, 20], [50, 60, 70]]"
            ]
          },
          "metadata": {},
          "execution_count": 30
        }
      ]
    },
    {
      "cell_type": "code",
      "source": [
        "#ATRIBUINDO A VARIAVEL AO PRIMEIRO VALOR DA LISTA\n",
        "d = lista4[0][0]\n",
        "d"
      ],
      "metadata": {
        "colab": {
          "base_uri": "https://localhost:8080/"
        },
        "id": "CLoaIC7YXvcz",
        "outputId": "2fdc53d9-d995-483c-9956-92b1745252f5"
      },
      "execution_count": 31,
      "outputs": [
        {
          "output_type": "execute_result",
          "data": {
            "text/plain": [
              "1"
            ]
          },
          "metadata": {},
          "execution_count": 31
        }
      ]
    },
    {
      "cell_type": "code",
      "source": [
        "e = lista4[1][2]\n",
        "e"
      ],
      "metadata": {
        "colab": {
          "base_uri": "https://localhost:8080/"
        },
        "id": "3Nh-yoV1X5PW",
        "outputId": "acdc1197-9212-4e8e-889d-59e08b4e0c40"
      },
      "execution_count": 32,
      "outputs": [
        {
          "output_type": "execute_result",
          "data": {
            "text/plain": [
              "20"
            ]
          },
          "metadata": {},
          "execution_count": 32
        }
      ]
    },
    {
      "cell_type": "code",
      "source": [
        "f = d+e\n",
        "f"
      ],
      "metadata": {
        "colab": {
          "base_uri": "https://localhost:8080/"
        },
        "id": "yFrXKIKkX-cf",
        "outputId": "30c49294-4451-4ec7-ffce-078fcba3341c"
      },
      "execution_count": 34,
      "outputs": [
        {
          "output_type": "execute_result",
          "data": {
            "text/plain": [
              "21"
            ]
          },
          "metadata": {},
          "execution_count": 34
        }
      ]
    },
    {
      "cell_type": "code",
      "source": [
        "g = d + lista4[1][1]\n",
        "g"
      ],
      "metadata": {
        "colab": {
          "base_uri": "https://localhost:8080/"
        },
        "id": "7HXi3cYIYCTX",
        "outputId": "92c4a1dc-7627-4536-fe4c-6a15e52ff62c"
      },
      "execution_count": 36,
      "outputs": [
        {
          "output_type": "execute_result",
          "data": {
            "text/plain": [
              "16"
            ]
          },
          "metadata": {},
          "execution_count": 36
        }
      ]
    },
    {
      "cell_type": "markdown",
      "source": [
        "**CONCATENAÇÃO DE LISTAS**"
      ],
      "metadata": {
        "id": "sVzfhhXHaGXe"
      }
    },
    {
      "cell_type": "code",
      "source": [
        "lista6 = [1, 3, 6]\n",
        "lista7 = ['a', 'b', 'c']"
      ],
      "metadata": {
        "id": "9fMol2kSYKXJ"
      },
      "execution_count": 37,
      "outputs": []
    },
    {
      "cell_type": "code",
      "source": [
        "lista8 = lista6+lista7\n",
        "lista8"
      ],
      "metadata": {
        "colab": {
          "base_uri": "https://localhost:8080/"
        },
        "id": "AwyqGzYTaTMA",
        "outputId": "4d877d2c-deca-46c9-b23f-8c398c19bd77"
      },
      "execution_count": 38,
      "outputs": [
        {
          "output_type": "execute_result",
          "data": {
            "text/plain": [
              "[1, 3, 6, 'a', 'b', 'c']"
            ]
          },
          "metadata": {},
          "execution_count": 38
        }
      ]
    },
    {
      "cell_type": "markdown",
      "source": [
        "**OPERADOR IN**"
      ],
      "metadata": {
        "id": "hh_Yadcoa5iW"
      }
    },
    {
      "cell_type": "code",
      "source": [
        "lista6"
      ],
      "metadata": {
        "colab": {
          "base_uri": "https://localhost:8080/"
        },
        "id": "PR3Za7EJaWpv",
        "outputId": "cbbcbb85-0aea-4b57-90f5-4a811a499d13"
      },
      "execution_count": 39,
      "outputs": [
        {
          "output_type": "execute_result",
          "data": {
            "text/plain": [
              "[1, 3, 6]"
            ]
          },
          "metadata": {},
          "execution_count": 39
        }
      ]
    },
    {
      "cell_type": "code",
      "source": [
        "#VERIFICAR SE O VALOR PERTENCE A LISTA\n",
        "print(10 in lista6)"
      ],
      "metadata": {
        "colab": {
          "base_uri": "https://localhost:8080/"
        },
        "id": "qD0gv2oGa98a",
        "outputId": "136f3e35-44a3-4c90-ad01-dcff873b0d5f"
      },
      "execution_count": 40,
      "outputs": [
        {
          "output_type": "stream",
          "name": "stdout",
          "text": [
            "False\n"
          ]
        }
      ]
    },
    {
      "cell_type": "code",
      "source": [
        "print(1 in lista6)"
      ],
      "metadata": {
        "colab": {
          "base_uri": "https://localhost:8080/"
        },
        "id": "ecwLJ4SMbIq-",
        "outputId": "13830647-35fd-4153-d077-fa640863d13c"
      },
      "execution_count": 41,
      "outputs": [
        {
          "output_type": "stream",
          "name": "stdout",
          "text": [
            "True\n"
          ]
        }
      ]
    },
    {
      "cell_type": "markdown",
      "source": [
        "**FUNÇÕES BUILD-IN**"
      ],
      "metadata": {
        "id": "iC4BpYYMbMsj"
      }
    },
    {
      "cell_type": "code",
      "source": [
        "#RETORNA O TAMANHO DA LISTA\n",
        "len(lista6)"
      ],
      "metadata": {
        "colab": {
          "base_uri": "https://localhost:8080/"
        },
        "id": "Y3k12tY1bLYZ",
        "outputId": "e57e39ee-4b02-4d86-d275-a5c0de0d8fa5"
      },
      "execution_count": 42,
      "outputs": [
        {
          "output_type": "execute_result",
          "data": {
            "text/plain": [
              "3"
            ]
          },
          "metadata": {},
          "execution_count": 42
        }
      ]
    },
    {
      "cell_type": "code",
      "source": [
        "#RETORNA O VALOR MÁXIMO DA LISTA\n",
        "max(lista6)"
      ],
      "metadata": {
        "colab": {
          "base_uri": "https://localhost:8080/"
        },
        "id": "NkkcPyjdbVsG",
        "outputId": "567451b3-d813-4423-d213-5705e793a4f0"
      },
      "execution_count": 43,
      "outputs": [
        {
          "output_type": "execute_result",
          "data": {
            "text/plain": [
              "6"
            ]
          },
          "metadata": {},
          "execution_count": 43
        }
      ]
    },
    {
      "cell_type": "code",
      "source": [
        "#RETORNA O VALOR MINIMO DA LISTA\n",
        "min(lista6)"
      ],
      "metadata": {
        "colab": {
          "base_uri": "https://localhost:8080/"
        },
        "id": "d-ufOZ-Xbbgl",
        "outputId": "729098e6-456d-47d4-b42d-d23d8ea348cd"
      },
      "execution_count": 45,
      "outputs": [
        {
          "output_type": "execute_result",
          "data": {
            "text/plain": [
              "1"
            ]
          },
          "metadata": {},
          "execution_count": 45
        }
      ]
    },
    {
      "cell_type": "code",
      "source": [
        "#ADICIONA ITEM A LISTA\n",
        "lista6.append('adição')"
      ],
      "metadata": {
        "id": "o_fIoyTDbrZo"
      },
      "execution_count": 46,
      "outputs": []
    },
    {
      "cell_type": "code",
      "source": [
        "lista6"
      ],
      "metadata": {
        "colab": {
          "base_uri": "https://localhost:8080/"
        },
        "id": "HIeQXJ8abyjw",
        "outputId": "3b6069b4-aeef-4e7b-a3ce-55e9e6774d33"
      },
      "execution_count": 47,
      "outputs": [
        {
          "output_type": "execute_result",
          "data": {
            "text/plain": [
              "[1, 3, 6, 'adição']"
            ]
          },
          "metadata": {},
          "execution_count": 47
        }
      ]
    },
    {
      "cell_type": "code",
      "source": [
        "listaVazia = []"
      ],
      "metadata": {
        "id": "ujKVt2Eqbzq2"
      },
      "execution_count": 48,
      "outputs": []
    },
    {
      "cell_type": "code",
      "source": [
        "listaVazia.append('item')\n",
        "listaVazia"
      ],
      "metadata": {
        "colab": {
          "base_uri": "https://localhost:8080/"
        },
        "id": "AxkMpOTVb3pE",
        "outputId": "299dc073-8b24-491e-bc75-fe8d4e21af13"
      },
      "execution_count": 49,
      "outputs": [
        {
          "output_type": "execute_result",
          "data": {
            "text/plain": [
              "['item']"
            ]
          },
          "metadata": {},
          "execution_count": 49
        }
      ]
    },
    {
      "cell_type": "code",
      "source": [
        "#COPIAR ITENS DE UMA LISTA PARA OUTRA\n",
        "novaLista = []\n",
        "for item in lista6:\n",
        "  novaLista.append(item)"
      ],
      "metadata": {
        "id": "seQkvkxRcBfY"
      },
      "execution_count": 51,
      "outputs": []
    },
    {
      "cell_type": "code",
      "source": [
        "novaLista"
      ],
      "metadata": {
        "colab": {
          "base_uri": "https://localhost:8080/"
        },
        "id": "uBBMHNI3cQBt",
        "outputId": "c4a09a4e-99db-4b51-939a-9fef419b384d"
      },
      "execution_count": 52,
      "outputs": [
        {
          "output_type": "execute_result",
          "data": {
            "text/plain": [
              "[1, 3, 6, 'adição']"
            ]
          },
          "metadata": {},
          "execution_count": 52
        }
      ]
    },
    {
      "cell_type": "code",
      "source": [
        "#AUMENTAR A LISTA APÓS SUA CRIAÇÃO\n",
        "cidades = ['JP', 'NT', 'RE']\n",
        "cidades.extend(['FZ', 'CB'])\n",
        "print(cidades)"
      ],
      "metadata": {
        "colab": {
          "base_uri": "https://localhost:8080/"
        },
        "id": "e2-QIKj8cX7U",
        "outputId": "25c7bca1-e9cf-4f75-b8b1-830e80048bd0"
      },
      "execution_count": 53,
      "outputs": [
        {
          "output_type": "stream",
          "name": "stdout",
          "text": [
            "['JP', 'NT', 'RE', 'FZ', 'CB']\n"
          ]
        }
      ]
    },
    {
      "cell_type": "code",
      "source": [
        "#MOSTRA A POSIÇÃO DO ITEM NA LISTA\n",
        "cidades.index('NT')"
      ],
      "metadata": {
        "colab": {
          "base_uri": "https://localhost:8080/"
        },
        "id": "XIHIg9jkcxq0",
        "outputId": "6f04f4f5-2cb0-48aa-f9cb-b7a369314a4e"
      },
      "execution_count": 54,
      "outputs": [
        {
          "output_type": "execute_result",
          "data": {
            "text/plain": [
              "1"
            ]
          },
          "metadata": {},
          "execution_count": 54
        }
      ]
    },
    {
      "cell_type": "code",
      "source": [
        "#ADICIONA O ITEM NA POSIÇÃO DESCRITA\n",
        "cidades.insert(2, 110)"
      ],
      "metadata": {
        "id": "GxK_U-GLc17e"
      },
      "execution_count": 55,
      "outputs": []
    },
    {
      "cell_type": "code",
      "source": [
        "cidades"
      ],
      "metadata": {
        "colab": {
          "base_uri": "https://localhost:8080/"
        },
        "id": "2cnJmpY4c_gc",
        "outputId": "dec9b314-69f1-4703-ddee-b5b246bb0f68"
      },
      "execution_count": 56,
      "outputs": [
        {
          "output_type": "execute_result",
          "data": {
            "text/plain": [
              "['JP', 'NT', 110, 'RE', 'FZ', 'CB']"
            ]
          },
          "metadata": {},
          "execution_count": 56
        }
      ]
    },
    {
      "cell_type": "code",
      "source": [
        "#REMOVE UM ITEM DA LISTA\n",
        "cidades.remove('JP')"
      ],
      "metadata": {
        "id": "-tOqfCdSdAS5"
      },
      "execution_count": 57,
      "outputs": []
    },
    {
      "cell_type": "code",
      "source": [
        "cidades"
      ],
      "metadata": {
        "colab": {
          "base_uri": "https://localhost:8080/"
        },
        "id": "4W9WX6HhdPxs",
        "outputId": "c214cddc-f076-4b72-fe4a-aaecfe0987cf"
      },
      "execution_count": 58,
      "outputs": [
        {
          "output_type": "execute_result",
          "data": {
            "text/plain": [
              "['NT', 110, 'RE', 'FZ', 'CB']"
            ]
          },
          "metadata": {},
          "execution_count": 58
        }
      ]
    },
    {
      "cell_type": "code",
      "source": [
        "cidades.reverse()"
      ],
      "metadata": {
        "id": "tX95KV4vdRGi"
      },
      "execution_count": 59,
      "outputs": []
    },
    {
      "cell_type": "code",
      "source": [
        "cidades"
      ],
      "metadata": {
        "colab": {
          "base_uri": "https://localhost:8080/"
        },
        "id": "8qPmOiUKdVt_",
        "outputId": "aed9abcf-d991-4922-f10e-55aa6f2cf9a0"
      },
      "execution_count": 60,
      "outputs": [
        {
          "output_type": "execute_result",
          "data": {
            "text/plain": [
              "['CB', 'FZ', 'RE', 110, 'NT']"
            ]
          },
          "metadata": {},
          "execution_count": 60
        }
      ]
    },
    {
      "cell_type": "code",
      "source": [
        "#ORDERNAR A LISTA\n",
        "x = [3, 7, 9, 6]\n",
        "x.sort()"
      ],
      "metadata": {
        "id": "fRedh655dWiq"
      },
      "execution_count": 63,
      "outputs": []
    },
    {
      "cell_type": "code",
      "source": [
        "x"
      ],
      "metadata": {
        "colab": {
          "base_uri": "https://localhost:8080/"
        },
        "id": "Z4Dw2m0BdfjO",
        "outputId": "42ddd758-e6d0-4647-a279-ea02844fcc76"
      },
      "execution_count": 64,
      "outputs": [
        {
          "output_type": "execute_result",
          "data": {
            "text/plain": [
              "[3, 6, 7, 9]"
            ]
          },
          "metadata": {},
          "execution_count": 64
        }
      ]
    },
    {
      "cell_type": "code",
      "source": [],
      "metadata": {
        "id": "EL6EpM3BdgKS"
      },
      "execution_count": null,
      "outputs": []
    }
  ]
}